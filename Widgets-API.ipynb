{
 "cells": [
  {
   "cell_type": "markdown",
   "metadata": {},
   "source": [
    "# Setup\n",
    "Imports and helper functions to access API and draw widgets."
   ]
  },
  {
   "cell_type": "code",
   "execution_count": null,
   "metadata": {},
   "outputs": [],
   "source": [
    "%pylab inline"
   ]
  },
  {
   "cell_type": "code",
   "execution_count": null,
   "metadata": {
    "collapsed": true
   },
   "outputs": [],
   "source": [
    "import requests\n",
    "import pandas as pd\n",
    "from StringIO import StringIO\n",
    "\n",
    "import ipywidgets as widgets\n",
    "from ipywidgets import interact\n",
    "\n",
    "base_url = 'http://localhost:8088/api/local/local'\n",
    "\n",
    "def callAPI(query, params={}):\n",
    "    headers = {\"Accept\": \"text/csv\"}\n",
    "    query_url = base_url + query\n",
    "    \n",
    "    resp = requests.get(query_url, headers=headers,  params=params)\n",
    "    # boldly assuming response was code 200\n",
    "    df = pd.read_csv(StringIO(resp.text))\n",
    "    return df\n",
    "\n",
    "def plotFeatures(graph):\n",
    "    '''Plot result of `countFeaturesSGN` for the given graph'''\n",
    "    plt.figure()\n",
    "    params = { \"graph\": graph }\n",
    "    df = callAPI('/countFeaturesSGN', params=params)\n",
    "    df = df.set_index('feature_name')\n",
    "    df['n'].plot(kind='bar')\n",
    "    plt.title('Features for ' + graph)\n",
    "    plt.show();\n",
    "\n",
    "def countTriples(text):\n",
    "    params = { \"text\": text }\n",
    "    df = callAPI('/countTriples', params=params)\n",
    "    print 'Counting triples for ' + text\n",
    "    print df"
   ]
  },
  {
   "cell_type": "markdown",
   "metadata": {},
   "source": [
    "# Widgets"
   ]
  },
  {
   "cell_type": "code",
   "execution_count": null,
   "metadata": {},
   "outputs": [],
   "source": [
    "so_ly = 'http://solgenomics.net/genome/Solanum_lycopersicum'\n",
    "so_pe = 'http://solgenomics.net/genome/Solanum_pennellii'\n",
    "pe_ly = 'http://plants.ensembl.org/Solanum_lycopersicum'\n",
    "\n",
    "interact(plotFeatures, graph=[ so_ly, so_pe, pe_ly ]);"
   ]
  },
  {
   "cell_type": "code",
   "execution_count": null,
   "metadata": {},
   "outputs": [],
   "source": [
    "interact(countTriples, text='fruit');"
   ]
  }
 ],
 "metadata": {
  "kernelspec": {
   "display_name": "Python 2",
   "language": "python",
   "name": "python2"
  },
  "language_info": {
   "codemirror_mode": {
    "name": "ipython",
    "version": 2
   },
   "file_extension": ".py",
   "mimetype": "text/x-python",
   "name": "python",
   "nbconvert_exporter": "python",
   "pygments_lexer": "ipython2",
   "version": "2.7.13"
  }
 },
 "nbformat": 4,
 "nbformat_minor": 2
}

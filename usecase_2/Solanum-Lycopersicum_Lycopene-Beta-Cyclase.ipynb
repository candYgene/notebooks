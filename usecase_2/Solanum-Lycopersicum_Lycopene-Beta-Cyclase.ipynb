{
 "cells": [
  {
   "cell_type": "markdown",
   "metadata": {},
   "source": [
    "Implementation algorithm\n",
    "\n",
    "Alex Warwick Vesztrocy, Christophe Dessimoz, Henning Redestig, Prioritising candidate genes causing QTL using hierarchical orthologous groups, *Bioinformatics*, Volume 34, Issue 17, 01 September 2018, Pages i612–i619, https://doi.org/10.1093/bioinformatics/bty615"
   ]
  },
  {
   "cell_type": "code",
   "execution_count": null,
   "metadata": {},
   "outputs": [],
   "source": [
    "import qtlsearch\n",
    "import pandas as pd\n",
    "from IPython.display import Image,SVG\n",
    "search = qtlsearch.SEARCH(\n",
    "    \"http://localhost:8890/sparql\", \n",
    "    \"http://sparql.omabrowser.org/sparql\",\n",
    "    \"https://sparql.uniprot.org/sparql\")"
   ]
  },
  {
   "cell_type": "markdown",
   "metadata": {},
   "source": [
    "## Lycopene-Beta-Cyclase Activity\n",
    "\n",
    "GO-terms: `GO:0045436` `GP:0016117`\n",
    "\n",
    "QTL from: `Solyc06g073470.2` ... `Solyc06g083850.2`\n",
    "\n",
    "Candidate: `Solyc06g074240.1`"
   ]
  },
  {
   "cell_type": "markdown",
   "metadata": {},
   "source": [
    "Define the QTL and compute genes within this interval"
   ]
  },
  {
   "cell_type": "code",
   "execution_count": null,
   "metadata": {},
   "outputs": [],
   "source": [
    "tg1 = \"Solyc06g073470.2\"\n",
    "tg2 = \"Solyc06g083850.2\"\n",
    "\n",
    "#small test range\n",
    "#tg1 = \"Solyc06g074220.2\"\n",
    "#tg2 = \"Solyc06g074280.2\"\n",
    "\n",
    "intervalT = search.compute_interval(tg1, tg2)\n",
    "\n",
    "#locationT = search.get_location(\"Solyc06g074240.1\")\n",
    "#d=10\n",
    "#intervalT = search.make_interval(\n",
    "#    locationT.iloc[0][\"begin_ref\"], \n",
    "#    locationT.iloc[0][\"begin_pos\"]-d, \n",
    "#    locationT.iloc[0][\"end_pos\"]+d)\n",
    "\n",
    "#genes for interval\n",
    "genesT = search.interval_genes(intervalT)"
   ]
  },
  {
   "cell_type": "markdown",
   "metadata": {},
   "source": [
    "Compute the list of GO annotations"
   ]
  },
  {
   "cell_type": "code",
   "execution_count": null,
   "metadata": {},
   "outputs": [],
   "source": [
    "qtls = [genesT.index]\n",
    "go_annotations = pd.concat([search.get_child_annotations(\"GO:0045436\"), search.get_child_annotations(\"GO:0016117\")])\n",
    "print(go_annotations)"
   ]
  },
  {
   "cell_type": "markdown",
   "metadata": {},
   "source": [
    "Get data and do computations"
   ]
  },
  {
   "cell_type": "code",
   "execution_count": null,
   "metadata": {},
   "outputs": [],
   "source": [
    "result = qtlsearch.QTLSEARCH(search, qtls,go_annotations)"
   ]
  },
  {
   "cell_type": "markdown",
   "metadata": {},
   "source": [
    "Create report"
   ]
  },
  {
   "cell_type": "code",
   "execution_count": null,
   "metadata": {},
   "outputs": [],
   "source": [
    "report_list = result.report()\n",
    "for report in report_list:\n",
    "    display(report)"
   ]
  }
 ],
 "metadata": {
  "kernelspec": {
   "display_name": "Python 3",
   "language": "python",
   "name": "python3"
  },
  "language_info": {
   "codemirror_mode": {
    "name": "ipython",
    "version": 3
   },
   "file_extension": ".py",
   "mimetype": "text/x-python",
   "name": "python",
   "nbconvert_exporter": "python",
   "pygments_lexer": "ipython3",
   "version": "3.8.5"
  }
 },
 "nbformat": 4,
 "nbformat_minor": 2
}

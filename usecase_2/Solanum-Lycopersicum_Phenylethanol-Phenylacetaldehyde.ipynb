{
 "cells": [
  {
   "cell_type": "markdown",
   "metadata": {},
   "source": [
    "Implementation algorithm\n",
    "\n",
    "Alex Warwick Vesztrocy, Christophe Dessimoz, Henning Redestig, Prioritising candidate genes causing QTL using hierarchical orthologous groups, *Bioinformatics*, Volume 34, Issue 17, 01 September 2018, Pages i612–i619, https://doi.org/10.1093/bioinformatics/bty615"
   ]
  },
  {
   "cell_type": "code",
   "execution_count": null,
   "metadata": {},
   "outputs": [],
   "source": [
    "import qtlsearch\n",
    "import pandas as pd\n",
    "from IPython.display import Image,SVG\n",
    "search = qtlsearch.SEARCH(\n",
    "    \"http://localhost:8890/sparql\", \n",
    "    \"http://sparql.omabrowser.org/sparql\",\n",
    "    \"https://sparql.uniprot.org/sparql\")"
   ]
  },
  {
   "cell_type": "markdown",
   "metadata": {},
   "source": [
    "## Phenylethanol, Phenylacetaldehyde\n",
    "\n",
    "GO-terms: `GO:0016747`, `GO:0102387`, `GO:0018449`, `GO:0004029`, `GO:0008957`, `GO:1990055`, `GO:0050177`, `GO:0018814`\n",
    "\n",
    "QTL from: Chromosome `8`, in `55068565` - `63267130`\n",
    "\n",
    "Candidate: `CT77, CT148 Aromatic amino acid decarboxylase`"
   ]
  },
  {
   "cell_type": "markdown",
   "metadata": {},
   "source": [
    "Define the QTL and compute genes within this interval"
   ]
  },
  {
   "cell_type": "code",
   "execution_count": null,
   "metadata": {},
   "outputs": [],
   "source": [
    "intervalT = search.make_interval(\n",
    "    \"http://pbg-ld.candygene-nlesc.surf-hosted.nl/genome/Solanum_lycopersicum/chromosome/8\", \n",
    "    55068565,\n",
    "    63267130)\n",
    "\n",
    "#genes for interval\n",
    "genesT = search.interval_genes(intervalT)"
   ]
  },
  {
   "cell_type": "markdown",
   "metadata": {},
   "source": [
    "Compute the list of GO annotations"
   ]
  },
  {
   "cell_type": "code",
   "execution_count": null,
   "metadata": {},
   "outputs": [],
   "source": [
    "qtls = [genesT.index]\n",
    "#disabled GO:0016747 : too general, causing problems with size\n",
    "go_annotations = pd.concat([\n",
    "                            #search.get_child_annotations(\"GO:0016747\"),\n",
    "                            search.get_child_annotations(\"GO:0102387\"), \n",
    "                            search.get_child_annotations(\"GO:0018449\"), \n",
    "                            search.get_child_annotations(\"GO:0004029\"), \n",
    "                            search.get_child_annotations(\"GO:0008957\"),\n",
    "                            search.get_child_annotations(\"GO:1990055\"),\n",
    "                            search.get_child_annotations(\"GO:0050177\")])\n",
    "print(go_annotations)"
   ]
  },
  {
   "cell_type": "markdown",
   "metadata": {},
   "source": [
    "Get data and do computations"
   ]
  },
  {
   "cell_type": "code",
   "execution_count": null,
   "metadata": {},
   "outputs": [],
   "source": [
    "result = qtlsearch.QTLSEARCH(search, qtls,go_annotations)"
   ]
  },
  {
   "cell_type": "markdown",
   "metadata": {},
   "source": [
    "Create report"
   ]
  },
  {
   "cell_type": "code",
   "execution_count": null,
   "metadata": {},
   "outputs": [],
   "source": [
    "report_list = result.report()\n",
    "for report in report_list:\n",
    "    display(report)"
   ]
  }
 ],
 "metadata": {
  "kernelspec": {
   "display_name": "Python 3",
   "language": "python",
   "name": "python3"
  },
  "language_info": {
   "codemirror_mode": {
    "name": "ipython",
    "version": 3
   },
   "file_extension": ".py",
   "mimetype": "text/x-python",
   "name": "python",
   "nbconvert_exporter": "python",
   "pygments_lexer": "ipython3",
   "version": "3.8.5"
  }
 },
 "nbformat": 4,
 "nbformat_minor": 2
}

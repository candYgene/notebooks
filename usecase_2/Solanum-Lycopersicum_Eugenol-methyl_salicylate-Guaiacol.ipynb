{
 "cells": [
  {
   "cell_type": "markdown",
   "metadata": {},
   "source": [
    "Implementation algorithm\n",
    "\n",
    "Alex Warwick Vesztrocy, Christophe Dessimoz, Henning Redestig, Prioritising candidate genes causing QTL using hierarchical orthologous groups, *Bioinformatics*, Volume 34, Issue 17, 01 September 2018, Pages i612–i619, https://doi.org/10.1093/bioinformatics/bty615"
   ]
  },
  {
   "cell_type": "code",
   "execution_count": null,
   "metadata": {},
   "outputs": [],
   "source": [
    "import qtlsearch\n",
    "import pandas as pd\n",
    "from IPython.display import Image,SVG\n",
    "search = qtlsearch.SEARCH(\n",
    "    \"http://localhost:8890/sparql\", \n",
    "    \"http://sparql.omabrowser.org/sparql\",\n",
    "    \"https://sparql.uniprot.org/sparql\")"
   ]
  },
  {
   "cell_type": "markdown",
   "metadata": {},
   "source": [
    "## Eugenol, methyl salicylate, Guaiacol\n",
    "\n",
    "GO-terms: `GO:0042855`,  `GO:0042856`,  `GO:0042854`,  `GO:0080031`, `GO:0052689`\n",
    "\n",
    "QTL from: `Chromosome 9` : `69082273` - `69353332`\n",
    "\n",
    "Candidate: ???"
   ]
  },
  {
   "cell_type": "markdown",
   "metadata": {},
   "source": [
    "Define the QTL and compute genes within this interval"
   ]
  },
  {
   "cell_type": "code",
   "execution_count": null,
   "metadata": {},
   "outputs": [],
   "source": [
    "intervalT = search.make_interval(\n",
    "    \"http://localhost:8890/genome/Solanum_lycopersicum/chromosome/9\", \n",
    "    69082273,\n",
    "    69353332)\n",
    "\n",
    "\n",
    "#genes for interval\n",
    "genesT = search.interval_genes(intervalT)"
   ]
  },
  {
   "cell_type": "markdown",
   "metadata": {},
   "source": [
    "Compute the list of GO annotations"
   ]
  },
  {
   "cell_type": "code",
   "execution_count": null,
   "metadata": {},
   "outputs": [],
   "source": [
    "qtls = [genesT.index]\n",
    "go_annotations = pd.concat([\n",
    "    search.get_child_annotations(\"GO:0042855\"),\n",
    "    search.get_child_annotations(\"GO:0042856\"),\n",
    "    search.get_child_annotations(\"GO:0042854\"),\n",
    "    search.get_child_annotations(\"GO:0080031\")\n",
    "    #search.get_child_annotations(\"GO:0052689\")\n",
    "])\n",
    "print(go_annotations)"
   ]
  },
  {
   "cell_type": "markdown",
   "metadata": {},
   "source": [
    "Get data and do computations"
   ]
  },
  {
   "cell_type": "code",
   "execution_count": null,
   "metadata": {},
   "outputs": [],
   "source": [
    "result = qtlsearch.QTLSEARCH(search, qtls,go_annotations)"
   ]
  },
  {
   "cell_type": "markdown",
   "metadata": {},
   "source": [
    "Create report"
   ]
  },
  {
   "cell_type": "code",
   "execution_count": null,
   "metadata": {},
   "outputs": [],
   "source": [
    "report_list = result.report()\n",
    "for report in report_list:\n",
    "    display(report)"
   ]
  }
 ],
 "metadata": {
  "kernelspec": {
   "display_name": "Python 3",
   "language": "python",
   "name": "python3"
  },
  "language_info": {
   "codemirror_mode": {
    "name": "ipython",
    "version": 3
   },
   "file_extension": ".py",
   "mimetype": "text/x-python",
   "name": "python",
   "nbconvert_exporter": "python",
   "pygments_lexer": "ipython3",
   "version": "3.8.5"
  }
 },
 "nbformat": 4,
 "nbformat_minor": 2
}

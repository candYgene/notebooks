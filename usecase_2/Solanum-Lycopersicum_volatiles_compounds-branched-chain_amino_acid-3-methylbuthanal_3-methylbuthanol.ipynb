{
 "cells": [
  {
   "cell_type": "markdown",
   "metadata": {},
   "source": [
    "Implementation algorithm\n",
    "\n",
    "Alex Warwick Vesztrocy, Christophe Dessimoz, Henning Redestig, Prioritising candidate genes causing QTL using hierarchical orthologous groups, *Bioinformatics*, Volume 34, Issue 17, 01 September 2018, Pages i612–i619, https://doi.org/10.1093/bioinformatics/bty615"
   ]
  },
  {
   "cell_type": "code",
   "execution_count": null,
   "metadata": {},
   "outputs": [],
   "source": [
    "import qtlsearch\n",
    "import pandas as pd\n",
    "from IPython.display import Image,SVG\n",
    "search = qtlsearch.SEARCH(\n",
    "    \"http://localhost:8890/sparql\", \n",
    "    \"http://sparql.omabrowser.org/sparql\",\n",
    "    \"https://sparql.uniprot.org/sparql\")"
   ]
  },
  {
   "cell_type": "markdown",
   "metadata": {},
   "source": [
    "## Volatiles compounds, branched-chain amino acid, 3-methylbuthanal 3-methylbuthanol\n",
    "\n",
    "GO-terms: `GO:0046568`, `GO:0018455`, `GO:0052676`\n",
    "\n",
    "QTL from: `Chromosome 3` : `69685329` - `71362039`\n",
    "\n",
    "Candidate: ???"
   ]
  },
  {
   "cell_type": "markdown",
   "metadata": {},
   "source": [
    "Define the QTL and compute genes within this interval"
   ]
  },
  {
   "cell_type": "code",
   "execution_count": null,
   "metadata": {},
   "outputs": [],
   "source": [
    "intervalT = search.make_interval(\n",
    "    \"http://pbg-ld.candygene-nlesc.surf-hosted.nl/genome/Solanum_lycopersicum/chromosome/3\", \n",
    "    69685329,71362039)\n",
    "\n",
    "#genes for interval\n",
    "genesT = search.interval_genes(intervalT)"
   ]
  },
  {
   "cell_type": "markdown",
   "metadata": {},
   "source": [
    "Compute the list of GO annotations"
   ]
  },
  {
   "cell_type": "code",
   "execution_count": null,
   "metadata": {},
   "outputs": [],
   "source": [
    "qtls = [genesT.index]\n",
    "go_annotations = pd.concat([\n",
    "    search.get_child_annotations(\"GO:0018455\"),\n",
    "    search.get_child_annotations(\"GO:0052676\")\n",
    "])\n",
    "print(go_annotations)"
   ]
  },
  {
   "cell_type": "markdown",
   "metadata": {},
   "source": [
    "Get data and do computations"
   ]
  },
  {
   "cell_type": "code",
   "execution_count": null,
   "metadata": {},
   "outputs": [],
   "source": [
    "result = qtlsearch.QTLSEARCH(search, qtls,go_annotations)"
   ]
  },
  {
   "cell_type": "markdown",
   "metadata": {},
   "source": [
    "Create report"
   ]
  },
  {
   "cell_type": "code",
   "execution_count": null,
   "metadata": {},
   "outputs": [],
   "source": [
    "report_list = result.report()\n",
    "for report in report_list:\n",
    "    display(report)"
   ]
  }
 ],
 "metadata": {
  "kernelspec": {
   "display_name": "Python 3",
   "language": "python",
   "name": "python3"
  },
  "language_info": {
   "codemirror_mode": {
    "name": "ipython",
    "version": 3
   },
   "file_extension": ".py",
   "mimetype": "text/x-python",
   "name": "python",
   "nbconvert_exporter": "python",
   "pygments_lexer": "ipython3",
   "version": "3.8.5"
  }
 },
 "nbformat": 4,
 "nbformat_minor": 2
}

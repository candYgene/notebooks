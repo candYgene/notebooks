{
 "cells": [
  {
   "cell_type": "markdown",
   "metadata": {},
   "source": [
    "# Network visualization: article-QTL-gene-trait associations"
   ]
  },
  {
   "cell_type": "code",
   "execution_count": 1,
   "metadata": {},
   "outputs": [],
   "source": [
    "import glob\n",
    "import networkx as nx\n",
    "import netwulf as nw\n",
    "import pandas as pd"
   ]
  },
  {
   "cell_type": "code",
   "execution_count": 2,
   "metadata": {},
   "outputs": [],
   "source": [
    "csv_files = glob.glob('*.csv')\n",
    "df = dict()"
   ]
  },
  {
   "cell_type": "code",
   "execution_count": 3,
   "metadata": {},
   "outputs": [],
   "source": [
    "for fn in csv_files:\n",
    "    pfx = fn.split('.')[0]\n",
    "    df[pfx] = pd.read_csv(fn).itertuples()"
   ]
  },
  {
   "cell_type": "code",
   "execution_count": 4,
   "metadata": {},
   "outputs": [],
   "source": [
    "colors = dict(qtl='#0099ff',      # blue\n",
    "              gene_t='#ff0000',   # red\n",
    "              gene_p='#ffff33',   # yellow\n",
    "              article='#000000',  # black\n",
    "              trait='#00cc00')    # green"
   ]
  },
  {
   "cell_type": "code",
   "execution_count": 5,
   "metadata": {},
   "outputs": [],
   "source": [
    "G = nx.Graph()"
   ]
  },
  {
   "cell_type": "code",
   "execution_count": 6,
   "metadata": {},
   "outputs": [],
   "source": [
    "for e in df['qtl2article']:\n",
    "    G.add_node(e.qtl_id, color=colors['qtl'])\n",
    "    G.add_node(e.pmc_id, color=colors['article'])\n",
    "    G.add_edge(e.qtl_id, e.pmc_id)"
   ]
  },
  {
   "cell_type": "code",
   "execution_count": 7,
   "metadata": {},
   "outputs": [],
   "source": [
    "for e in df['qtl2gene']:\n",
    "    G.add_node(e.qtl_id, color=colors['qtl'])\n",
    "    if 'Solyc' in e.gene_id:\n",
    "        G.add_node(e.gene_id, color=colors['gene_t'])\n",
    "    else:\n",
    "        G.add_node(e.gene_id, color=colors['gene_p'])\n",
    "    G.add_edge(e.qtl_id, e.gene_id)"
   ]
  },
  {
   "cell_type": "code",
   "execution_count": 8,
   "metadata": {},
   "outputs": [],
   "source": [
    "for e in df['qtl2trait']:\n",
    "    G.add_node(e.qtl_id, color=colors['qtl'])\n",
    "    G.add_node(e.trait_id, color=colors['trait'])\n",
    "    G.add_edge(e.qtl_id, e.trait_id)"
   ]
  },
  {
   "cell_type": "code",
   "execution_count": null,
   "metadata": {},
   "outputs": [],
   "source": [
    "nw.visualize(G)"
   ]
  }
 ],
 "metadata": {
  "kernelspec": {
   "display_name": "Python 3",
   "language": "python",
   "name": "python3"
  },
  "language_info": {
   "codemirror_mode": {
    "name": "ipython",
    "version": 3
   },
   "file_extension": ".py",
   "mimetype": "text/x-python",
   "name": "python",
   "nbconvert_exporter": "python",
   "pygments_lexer": "ipython3",
   "version": "3.8.0"
  }
 },
 "nbformat": 4,
 "nbformat_minor": 2
}

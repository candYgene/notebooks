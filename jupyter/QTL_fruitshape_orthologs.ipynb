{
 "cells": [
  {
   "cell_type": "markdown",
   "metadata": {},
   "source": [
    "# Compare QTLs for tomato fruit shape and potato tuber shape\n",
    "\n",
    "## Background\n",
    "\n",
    "Tomato fruits have a round shape while the potato tubers have an elongated shape. The candidate gene _Solyc10g076180_ ( _SlOFP20_ , a member of the OVATE Family Protein [OFP]) on the chromosome 10 of the reference tomato genome (Heinz 1706) is responsible for round fruits. However, this gene does not have an ortholog in the reference potato genome (DM), which results in elongated tuber (<a href=\"https://dx.doi.org/10.1038%2Fs41467-018-07216-8\">Wu et al., 2018</a>). This notebook uses the <a href=\"http://grlc.io/\">grlc</a>-based Web API of the <a href=\"https://doi.org/10.5281/zenodo.1458168\">pbg-ld</a> platform to map QTL regions for the traits in both tomato and potato as well as to retrieve annotations for the genes in the QTLs."
   ]
  },
  {
   "cell_type": "code",
   "execution_count": 1,
   "metadata": {
    "scrolled": true
   },
   "outputs": [
    {
     "ename": "ModuleNotFoundError",
     "evalue": "No module named 'networkx'",
     "output_type": "error",
     "traceback": [
      "\u001b[0;31m---------------------------------------------------------------------------\u001b[0m",
      "\u001b[0;31mModuleNotFoundError\u001b[0m                       Traceback (most recent call last)",
      "\u001b[0;32m<ipython-input-1-7acaab3b0136>\u001b[0m in \u001b[0;36m<module>\u001b[0;34m\u001b[0m\n\u001b[1;32m      4\u001b[0m \u001b[0;32mimport\u001b[0m \u001b[0mpandas\u001b[0m \u001b[0;32mas\u001b[0m \u001b[0mpd\u001b[0m\u001b[0;34m\u001b[0m\u001b[0;34m\u001b[0m\u001b[0m\n\u001b[1;32m      5\u001b[0m \u001b[0;32mimport\u001b[0m \u001b[0mnumpy\u001b[0m \u001b[0;32mas\u001b[0m \u001b[0mnp\u001b[0m\u001b[0;34m\u001b[0m\u001b[0;34m\u001b[0m\u001b[0m\n\u001b[0;32m----> 6\u001b[0;31m \u001b[0;32mimport\u001b[0m \u001b[0mnetworkx\u001b[0m \u001b[0;32mas\u001b[0m \u001b[0mnx\u001b[0m\u001b[0;34m\u001b[0m\u001b[0;34m\u001b[0m\u001b[0m\n\u001b[0m\u001b[1;32m      7\u001b[0m \u001b[0;32mimport\u001b[0m \u001b[0mmatplotlib\u001b[0m\u001b[0;34m.\u001b[0m\u001b[0mpyplot\u001b[0m \u001b[0;32mas\u001b[0m \u001b[0mplt\u001b[0m\u001b[0;34m\u001b[0m\u001b[0;34m\u001b[0m\u001b[0m\n\u001b[1;32m      8\u001b[0m \u001b[0;34m\u001b[0m\u001b[0m\n",
      "\u001b[0;31mModuleNotFoundError\u001b[0m: No module named 'networkx'"
     ]
    }
   ],
   "source": [
    "import io\n",
    "import requests\n",
    "import ipywidgets\n",
    "import pandas as pd\n",
    "import numpy as np\n",
    "import networkx as nx\n",
    "import matplotlib.pyplot as plt\n",
    "\n",
    "try:\n",
    "    from networkx.drawing.nx_pydot import graphviz_layout\n",
    "except ImportError:\n",
    "    raise ImportError(\"This example needs Graphviz and either PyGraphviz or Pydot\")\n",
    "\n",
    "from ipywidgets import interactive"
   ]
  },
  {
   "cell_type": "code",
   "execution_count": null,
   "metadata": {
    "scrolled": true
   },
   "outputs": [],
   "source": [
    "# display-related options\n",
    "pd.set_option('display.max_rows', 300)\n",
    "pd.set_option('display.max_columns', 20)\n",
    "pd.set_option('display.max_colwidth', -1)\n",
    "pd.set_option('display.width', 0)"
   ]
  },
  {
   "cell_type": "code",
   "execution_count": null,
   "metadata": {
    "scrolled": true
   },
   "outputs": [],
   "source": [
    "# Web API\n",
    "base_url = None\n",
    "hosts = {'remote': 'http://pbg-ld.candygene-nlesc.surf-hosted.nl:8088/api/candYgene/queries',\n",
    "         'local': 'http://localhost:8088/api/local/local'}\n",
    "headers = {'accept': 'text/csv'} # request content in CSV"
   ]
  },
  {
   "cell_type": "code",
   "execution_count": null,
   "metadata": {},
   "outputs": [],
   "source": [
    "# create a widget with a drop-down list of hosts\n",
    "def setWebAPI(host):\n",
    "    print(host)\n",
    "    return host\n",
    "w = interactive(setWebAPI, host=hosts)"
   ]
  },
  {
   "cell_type": "code",
   "execution_count": null,
   "metadata": {
    "scrolled": true
   },
   "outputs": [],
   "source": [
    "display(w) # default host 'remote'"
   ]
  },
  {
   "cell_type": "code",
   "execution_count": null,
   "metadata": {},
   "outputs": [],
   "source": [
    "base_url = w.result\n",
    "#print(base_url)"
   ]
  },
  {
   "cell_type": "code",
   "execution_count": null,
   "metadata": {
    "scrolled": true
   },
   "outputs": [],
   "source": [
    "# the fine-mapped locus sov1 (suppressor of ovate) on chr10 includes three genes,\n",
    "# Solyc10g076170, Solyc10g076180 (SlOFP20) and Solyc10g076190,\n",
    "# but use only the 'flanking' genes as input\n",
    "input_data = dict(genes=['Solyc10g076170', 'Solyc10g076190'],\n",
    "                  taxon_id=4081,\n",
    "                  graph_iri='http://solgenomics.net/genome/Solanum_lycopersicum')"
   ]
  },
  {
   "cell_type": "code",
   "execution_count": null,
   "metadata": {
    "scrolled": true
   },
   "outputs": [],
   "source": [
    "# retrieve genomic locations for the genes\n",
    "genes = pd.DataFrame()\n",
    "feature = 'protein_coding_gene'\n",
    "try:\n",
    "    for g in input_data['genes']:\n",
    "        if g is not None:\n",
    "            with requests.get(base_url + '/getFeatureLocation',\n",
    "                              params = {'featureid': \"'%s*'\" % g}, # append wildcard '*'\n",
    "                              headers = headers) as req:\n",
    "                genes = genes.append(pd.read_csv(io.StringIO(req.text)).query('feature_name==@feature'),\n",
    "                                     ignore_index=True)\n",
    "except:\n",
    "    print('Failed fetch data from Web API!')"
   ]
  },
  {
   "cell_type": "code",
   "execution_count": null,
   "metadata": {
    "scrolled": true
   },
   "outputs": [],
   "source": [
    "display(genes)"
   ]
  },
  {
   "cell_type": "code",
   "execution_count": null,
   "metadata": {
    "scrolled": true
   },
   "outputs": [],
   "source": [
    "# compute the QTL interval based on the 'flanking' genes' start/end positions\n",
    "pos = pd.concat([genes['begin_pos'], genes['end_pos']]).describe()"
   ]
  },
  {
   "cell_type": "code",
   "execution_count": null,
   "metadata": {},
   "outputs": [],
   "source": [
    "qtl_inter = dict(chrom=genes['chrom'].unique()[0],\n",
    "                 taxon_id=genes['taxon_id'].unique()[0],\n",
    "                 begin=int(pos['min']),\n",
    "                 end=int(pos['max']))"
   ]
  },
  {
   "cell_type": "code",
   "execution_count": null,
   "metadata": {
    "scrolled": true
   },
   "outputs": [],
   "source": [
    "display(qtl_inter)"
   ]
  },
  {
   "cell_type": "code",
   "execution_count": null,
   "metadata": {
    "scrolled": true
   },
   "outputs": [],
   "source": [
    "# retrieve genes in the genomic interval\n",
    "genes_inter = pd.DataFrame()\n",
    "params = {'feature': feature,\n",
    "          'chrom': qtl_inter['chrom'],\n",
    "          'graph': input_data['graph_iri'],\n",
    "          'begin': qtl_inter['begin'],\n",
    "          'end': qtl_inter['end']}\n",
    "try:\n",
    "    with requests.get(base_url + '/getFeaturesInInterval',\n",
    "                      params=params,\n",
    "                      headers=headers) as req:\n",
    "        genes_inter = pd.read_csv(io.StringIO(req.text))\n",
    "except:\n",
    "    print('Failed fetch data from Web API!')"
   ]
  },
  {
   "cell_type": "code",
   "execution_count": null,
   "metadata": {
    "scrolled": true
   },
   "outputs": [],
   "source": [
    "display(genes_inter.sort_values(['chrom', 'begin_pos']))"
   ]
  },
  {
   "cell_type": "code",
   "execution_count": null,
   "metadata": {},
   "outputs": [],
   "source": [
    "# for each gene retrieve annotations from SGN, Ensembl Plants and UniProt/GOA\n",
    "genes_annot = pd.DataFrame()\n",
    "try:\n",
    "    for g in genes_inter['feature_id']:\n",
    "        with requests.get(base_url + '/getGeneAnnotations',\n",
    "                          params={'geneid': \"'%s'\" % g},\n",
    "                          headers=headers) as req:\n",
    "            genes_annot = genes_annot.append(pd.read_csv(io.StringIO(req.text)), ignore_index=True).fillna('')\n",
    "except:\n",
    "    print('Failed fetch data from Web API!')"
   ]
  },
  {
   "cell_type": "code",
   "execution_count": null,
   "metadata": {},
   "outputs": [],
   "source": [
    "display(genes_annot)"
   ]
  },
  {
   "cell_type": "code",
   "execution_count": null,
   "metadata": {
    "scrolled": true
   },
   "outputs": [],
   "source": [
    "# get paralogs of the tomato candidate gene\n",
    "gene_id = 'Solyc10g076180.1'\n",
    "edges=dict(para=pd.DataFrame(),\n",
    "           ortho=pd.DataFrame())\n",
    "try:\n",
    "    with requests.get(base_url + '/getParalogs',\n",
    "                      params={'geneid': \"'%s'\" % gene_id},\n",
    "                      headers=headers) as req:\n",
    "        edges['para'] = pd.read_csv(io.StringIO(req.text))\n",
    "except:\n",
    "    print('Failed fetch data from Web API!')"
   ]
  },
  {
   "cell_type": "code",
   "execution_count": null,
   "metadata": {},
   "outputs": [],
   "source": [
    "display(edges['para'])"
   ]
  },
  {
   "cell_type": "code",
   "execution_count": null,
   "metadata": {},
   "outputs": [],
   "source": [
    "# get potato orthologs of the tomato homologs\n",
    "try:\n",
    "    for g in set(edges['para']['paralog_id']) | set([gene_id]):\n",
    "        with requests.get(base_url + '/getOrthologs',\n",
    "                          params={'geneid': \"'%s'\" % g},\n",
    "                          headers=headers) as req:\n",
    "            df = pd.read_csv(io.StringIO(req.text))\n",
    "            if df.size == 0:\n",
    "                df = {'gene_id': g, 'ortholog_id': None}\n",
    "            edges['ortho'] = edges['ortho'].append(df, ignore_index=True)\n",
    "except:\n",
    "    print('Failed fetch data from Web API!')"
   ]
  },
  {
   "cell_type": "code",
   "execution_count": null,
   "metadata": {
    "scrolled": true
   },
   "outputs": [],
   "source": [
    "display(edges['ortho'])"
   ]
  },
  {
   "cell_type": "code",
   "execution_count": null,
   "metadata": {},
   "outputs": [],
   "source": [
    "# write results into a CSV file\n",
    "edges['ortho'].set_index('gene_id').to_csv('orthologs.csv')"
   ]
  },
  {
   "cell_type": "code",
   "execution_count": null,
   "metadata": {},
   "outputs": [],
   "source": [
    "# count orthologs per gene\n",
    "display(edges['ortho'].groupby(['gene_id'])['ortholog_id']\n",
    "        .agg(['count'])\n",
    "        .sort_values(['count', 'gene_id'], ascending=False)\n",
    "        .rename(columns={'count':'n_orthologs'})\n",
    "        .reset_index())"
   ]
  },
  {
   "cell_type": "code",
   "execution_count": null,
   "metadata": {},
   "outputs": [],
   "source": [
    "edges['ortho'] = edges['ortho'].query('ortholog_id.notnull()')"
   ]
  },
  {
   "cell_type": "markdown",
   "metadata": {},
   "source": [
    "### N.B.: The candidate gene _Solyc10g076180_ does not have an ortholog in potato."
   ]
  },
  {
   "cell_type": "code",
   "execution_count": null,
   "metadata": {},
   "outputs": [],
   "source": [
    "# get additional paralogs of the tomato/potato homologs\n",
    "try:\n",
    "    for g in set(edges['para']['paralog_id']) | set(edges['ortho']['ortholog_id']):\n",
    "        with requests.get(base_url + '/getParalogs',\n",
    "                          params={'geneid': \"'%s'\" % g},\n",
    "                          headers=headers) as req:\n",
    "            edges['para'] = edges['para'].append(pd.read_csv(io.StringIO(req.text)), ignore_index=True)\n",
    "except:\n",
    "    print('Failed fetch data from Web API!')"
   ]
  },
  {
   "cell_type": "code",
   "execution_count": null,
   "metadata": {
    "scrolled": true
   },
   "outputs": [],
   "source": [
    "display(edges['para'])"
   ]
  },
  {
   "cell_type": "code",
   "execution_count": null,
   "metadata": {},
   "outputs": [],
   "source": [
    "# write results into a CSV file\n",
    "edges['para'].sort_values(['gene_id']).set_index('gene_id').to_csv('paralogs.csv')"
   ]
  },
  {
   "cell_type": "code",
   "execution_count": null,
   "metadata": {
    "scrolled": true
   },
   "outputs": [],
   "source": [
    "# count paralogs per gene\n",
    "display(edges['para'].groupby(['gene_id'])['paralog_id']\n",
    "        .agg(['count'])\n",
    "        .sort_values(['count', 'gene_id'], ascending=False)\n",
    "        .rename(columns={'count':'n_paralogs'})\n",
    "        .reset_index())"
   ]
  },
  {
   "cell_type": "code",
   "execution_count": null,
   "metadata": {},
   "outputs": [],
   "source": [
    "# visualize tomato/potato genes (nodes) and their ortho/paralogous relations (edges) in a graph\n",
    "G = nx.Graph()\n",
    "G.add_edges_from(edges['para'].values, style='-')  # add paralogous relations (solid edges)\n",
    "G.add_edges_from(edges['ortho'].values, style='-.') # add orthologous relations (dotted edges)\n",
    "style_map = [G[u][v]['style'] for u,v in G.edges()]\n",
    "color_map = []\n",
    "for i,n in enumerate(G.nodes()):\n",
    "    if 'Solyc' in n:\n",
    "        color_map.append('r') # tomato genes in red\n",
    "    else:\n",
    "        color_map.append('y') # potato genes in yellow\n",
    "pos = graphviz_layout(G, prog='neato')\n",
    "plt.margins(0.2, 0.05)\n",
    "nx.draw(G, pos, node_size=100, node_color=color_map, style=style_map, width=0.2, font_size=4, with_labels=True)\n",
    "plt.savefig('homologs_graph.svg')"
   ]
  },
  {
   "cell_type": "code",
   "execution_count": null,
   "metadata": {},
   "outputs": [],
   "source": [
    "# for each gene retrieve annotations from SGN, Ensembl Plants and UniProt/GOA\n",
    "genes_annot = pd.DataFrame()\n",
    "genes_loc = pd.DataFrame()\n",
    "try:\n",
    "    for g in G.nodes():\n",
    "        with requests.get(base_url + '/getFeatureLocation',\n",
    "                          params={'featureid': \"'%s'\" % g},\n",
    "                          headers=headers) as req:\n",
    "            genes_loc = genes_loc.append(pd.read_csv(io.StringIO(req.text)), ignore_index=True)\n",
    "\n",
    "        with requests.get(base_url + '/getGeneAnnotations',\n",
    "                          params={'geneid': \"'%s'\" % g},\n",
    "                          headers=headers) as req:\n",
    "            genes_annot = genes_annot.append(pd.read_csv(io.StringIO(req.text)).fillna(''), ignore_index=True)\n",
    "except:\n",
    "    print('Failed fetch data from Web API!')"
   ]
  },
  {
   "cell_type": "code",
   "execution_count": null,
   "metadata": {
    "scrolled": true
   },
   "outputs": [],
   "source": [
    "# inner join of both genes* tables\n",
    "genes_annot = pd.merge(genes_loc.rename(columns={'feature_id': 'gene_id'}).drop(['feature_name'], axis=1),\n",
    "                       genes_annot, on='gene_id').sort_values(['gene_id', 'chrom', 'begin_pos'])"
   ]
  },
  {
   "cell_type": "code",
   "execution_count": null,
   "metadata": {},
   "outputs": [],
   "source": [
    "display(genes_annot.reset_index(drop=True))"
   ]
  },
  {
   "cell_type": "code",
   "execution_count": null,
   "metadata": {},
   "outputs": [],
   "source": [
    "# write results into a CSV file\n",
    "genes_annot.set_index('gene_id').to_csv('homologs_annot.csv')"
   ]
  }
 ],
 "metadata": {
  "kernelspec": {
   "display_name": "Python 3",
   "language": "python",
   "name": "python3"
  },
  "language_info": {
   "codemirror_mode": {
    "name": "ipython",
    "version": 3
   },
   "file_extension": ".py",
   "mimetype": "text/x-python",
   "name": "python",
   "nbconvert_exporter": "python",
   "pygments_lexer": "ipython3",
   "version": "3.7.3"
  }
 },
 "nbformat": 4,
 "nbformat_minor": 2
}

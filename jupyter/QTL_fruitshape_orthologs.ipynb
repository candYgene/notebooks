{
 "cells": [
  {
   "cell_type": "markdown",
   "metadata": {},
   "source": [
    "# Compare QTLs for tomato fruit shape & potato tuber shape\n",
    "\n",
    "## Background\n",
    "\n",
    "Reference tomatoes have a round fruit shape while the reference potatoes have an elongated tuber shape. Recently published article (<a href=\"https://dx.doi.org/10.1038%2Fs41467-018-07216-8\">Wu et al., 2018</a>) reveals that the SLOFP20 gene present on the tomato chromosome 10 is responsible for round fruits. However, this gene does not have an ortholog in the reference potato genome (DM), which results in elongated tuber. This notebook is used to map the QTL regions in both tomato and potato. First, genes in the QTLs are classified into three categories: i) corresponding genes (orthologs) between tomato and potato, ii) tomato genes with no orthologs in potato and iii) vice versa. For each category, GO annotations are retrieved and then compared among the categories. "
   ]
  },
  {
   "cell_type": "markdown",
   "metadata": {},
   "source": [
    "## Initialization"
   ]
  },
  {
   "cell_type": "code",
   "execution_count": 1,
   "metadata": {},
   "outputs": [],
   "source": [
    "import requests\n",
    "import io\n",
    "import pandas as pd\n",
    "import numpy as np\n",
    "#from diagrams import DIAGRAMS\n",
    "from IPython.display import Image,SVG\n",
    "from itertools import chain"
   ]
  },
  {
   "cell_type": "code",
   "execution_count": 2,
   "metadata": {},
   "outputs": [],
   "source": [
    "url = dict(local='http://localhost:8088/api/local/local',\n",
    "           remote='http://pbg-ld.candygene-nlesc.surf-hosted.nl:8088/api/candYgene/queries')\n",
    "base_url = url['remote']\n",
    "headers = {'accept': 'text/csv'}\n",
    "#print(base_url)"
   ]
  },
  {
   "cell_type": "code",
   "execution_count": 3,
   "metadata": {},
   "outputs": [],
   "source": [
    "# genes delineating QTLs for (tomato) fruit and (potato) tuber shapes\n",
    "qtl_genes = dict(tomato=['Solyc10g075170.1', 'Solyc10g076240.1'],\n",
    "                 potato=['PGSC0003DMG400006678', 'PGSC0003DMG400020801'])"
   ]
  },
  {
   "cell_type": "code",
   "execution_count": 4,
   "metadata": {},
   "outputs": [],
   "source": [
    "# retrieve genomic locations for the genes\n",
    "genes = pd.DataFrame()\n",
    "for g in qtl_genes['tomato']: #list(chain(*(qtl_genes.values()))):\n",
    "    try:\n",
    "        if g is not None:\n",
    "            with requests.get(base_url + '/getFeatureLocation',\n",
    "                              params = {'featureid': \"'%s'\" % g},\n",
    "                              headers = headers) as req:\n",
    "                genes = genes.append(pd.read_csv(io.StringIO(req.text)), ignore_index=True)\n",
    "    except:\n",
    "        print('Failed to connect to the Web API!')\n",
    "        break"
   ]
  },
  {
   "cell_type": "code",
   "execution_count": 5,
   "metadata": {},
   "outputs": [
    {
     "data": {
      "text/html": [
       "<div>\n",
       "<style scoped>\n",
       "    .dataframe tbody tr th:only-of-type {\n",
       "        vertical-align: middle;\n",
       "    }\n",
       "\n",
       "    .dataframe tbody tr th {\n",
       "        vertical-align: top;\n",
       "    }\n",
       "\n",
       "    .dataframe thead th {\n",
       "        text-align: right;\n",
       "    }\n",
       "</style>\n",
       "<table border=\"1\" class=\"dataframe\">\n",
       "  <thead>\n",
       "    <tr style=\"text-align: right;\">\n",
       "      <th></th>\n",
       "      <th>feature_id</th>\n",
       "      <th>feature_name</th>\n",
       "      <th>chrom</th>\n",
       "      <th>begin_pos</th>\n",
       "      <th>end_pos</th>\n",
       "      <th>taxon_id</th>\n",
       "    </tr>\n",
       "  </thead>\n",
       "  <tbody>\n",
       "    <tr>\n",
       "      <th>0</th>\n",
       "      <td>Solyc10g075170.1</td>\n",
       "      <td>protein_coding_gene</td>\n",
       "      <td>chromosome 10</td>\n",
       "      <td>58891402</td>\n",
       "      <td>58895882</td>\n",
       "      <td>4081</td>\n",
       "    </tr>\n",
       "    <tr>\n",
       "      <th>1</th>\n",
       "      <td>Solyc10g076240.1</td>\n",
       "      <td>protein_coding_gene</td>\n",
       "      <td>chromosome 10</td>\n",
       "      <td>59082990</td>\n",
       "      <td>59084119</td>\n",
       "      <td>4081</td>\n",
       "    </tr>\n",
       "  </tbody>\n",
       "</table>\n",
       "</div>"
      ],
      "text/plain": [
       "         feature_id         feature_name          chrom  begin_pos   end_pos  \\\n",
       "0  Solyc10g075170.1  protein_coding_gene  chromosome 10   58891402  58895882   \n",
       "1  Solyc10g076240.1  protein_coding_gene  chromosome 10   59082990  59084119   \n",
       "\n",
       "   taxon_id  \n",
       "0      4081  \n",
       "1      4081  "
      ]
     },
     "execution_count": 5,
     "metadata": {},
     "output_type": "execute_result"
    }
   ],
   "source": [
    "genes"
   ]
  },
  {
   "cell_type": "code",
   "execution_count": 6,
   "metadata": {},
   "outputs": [],
   "source": [
    "#d = genes.groupby(['taxon_id', 'chrom']).apply(lambda x: np.sort(np.array(list(chain(*[x.begin_pos, x.end_pos])))))\n",
    "#t = d[4081]['chromosome 10']\n",
    "#p = d[4113]['chromosome 10']\n",
    "#print(t)\n",
    "#print(p)\n",
    "#print(t[0], t[-1])\n",
    "#print(p[0], p[-1])"
   ]
  },
  {
   "cell_type": "code",
   "execution_count": 7,
   "metadata": {},
   "outputs": [],
   "source": [
    "# compute QTL interval given the start/end positions of the delineating genes\n",
    "pos = pd.concat([genes['begin_pos'], genes['end_pos']]).describe()\n",
    "interval = dict(chrom=genes['chrom'].unique()[0],\n",
    "                taxon_id=int(genes['taxon_id'].unique()[0]),\n",
    "                begin=int(pos['min']),\n",
    "                end=int(pos['max']))"
   ]
  },
  {
   "cell_type": "code",
   "execution_count": 8,
   "metadata": {},
   "outputs": [
    {
     "data": {
      "text/plain": [
       "{'chrom': 'chromosome 10',\n",
       " 'taxon_id': 4081,\n",
       " 'begin': 58891402,\n",
       " 'end': 59084119}"
      ]
     },
     "execution_count": 8,
     "metadata": {},
     "output_type": "execute_result"
    }
   ],
   "source": [
    "interval"
   ]
  },
  {
   "cell_type": "code",
   "execution_count": 9,
   "metadata": {},
   "outputs": [],
   "source": [
    "# retrieve all genes (incl. their coordinates) in the interval\n",
    "genes_interval = pd.DataFrame()\n",
    "params = {'feature': 'protein_coding_gene',\n",
    "          'chrom': interval['chrom'],\n",
    "          'graph': 'http://solgenomics.net/genome/Solanum_lycopersicum',\n",
    "          'begin': interval['begin'],\n",
    "          'end': interval['end']}\n",
    "try:\n",
    "    with requests.get(base_url + '/getFeaturesInInterval',\n",
    "                      params=params,\n",
    "                      headers=headers) as req:\n",
    "        genes_interval = pd.read_csv(io.StringIO(req.text))\n",
    "except:\n",
    "    print('Failed to connect to the Web API!')"
   ]
  },
  {
   "cell_type": "code",
   "execution_count": 10,
   "metadata": {},
   "outputs": [
    {
     "data": {
      "text/html": [
       "<div>\n",
       "<style scoped>\n",
       "    .dataframe tbody tr th:only-of-type {\n",
       "        vertical-align: middle;\n",
       "    }\n",
       "\n",
       "    .dataframe tbody tr th {\n",
       "        vertical-align: top;\n",
       "    }\n",
       "\n",
       "    .dataframe thead th {\n",
       "        text-align: right;\n",
       "    }\n",
       "</style>\n",
       "<table border=\"1\" class=\"dataframe\">\n",
       "  <thead>\n",
       "    <tr style=\"text-align: right;\">\n",
       "      <th></th>\n",
       "      <th>feature_id</th>\n",
       "      <th>feature_name</th>\n",
       "      <th>chrom</th>\n",
       "      <th>begin_pos</th>\n",
       "      <th>end_pos</th>\n",
       "    </tr>\n",
       "  </thead>\n",
       "  <tbody>\n",
       "    <tr>\n",
       "      <th>0</th>\n",
       "      <td>Solyc10g075170.1</td>\n",
       "      <td>protein_coding_gene</td>\n",
       "      <td>chromosome 10</td>\n",
       "      <td>58891402</td>\n",
       "      <td>58895882</td>\n",
       "    </tr>\n",
       "    <tr>\n",
       "      <th>1</th>\n",
       "      <td>Solyc10g076170.1</td>\n",
       "      <td>protein_coding_gene</td>\n",
       "      <td>chromosome 10</td>\n",
       "      <td>58981351</td>\n",
       "      <td>58981887</td>\n",
       "    </tr>\n",
       "    <tr>\n",
       "      <th>2</th>\n",
       "      <td>Solyc10g076180.1</td>\n",
       "      <td>protein_coding_gene</td>\n",
       "      <td>chromosome 10</td>\n",
       "      <td>59006329</td>\n",
       "      <td>59007294</td>\n",
       "    </tr>\n",
       "    <tr>\n",
       "      <th>3</th>\n",
       "      <td>Solyc10g076190.1</td>\n",
       "      <td>protein_coding_gene</td>\n",
       "      <td>chromosome 10</td>\n",
       "      <td>59045991</td>\n",
       "      <td>59047132</td>\n",
       "    </tr>\n",
       "    <tr>\n",
       "      <th>4</th>\n",
       "      <td>Solyc10g076200.1</td>\n",
       "      <td>protein_coding_gene</td>\n",
       "      <td>chromosome 10</td>\n",
       "      <td>59051770</td>\n",
       "      <td>59052216</td>\n",
       "    </tr>\n",
       "    <tr>\n",
       "      <th>5</th>\n",
       "      <td>Solyc10g076210.1</td>\n",
       "      <td>protein_coding_gene</td>\n",
       "      <td>chromosome 10</td>\n",
       "      <td>59054478</td>\n",
       "      <td>59055612</td>\n",
       "    </tr>\n",
       "    <tr>\n",
       "      <th>6</th>\n",
       "      <td>Solyc10g076220.1</td>\n",
       "      <td>protein_coding_gene</td>\n",
       "      <td>chromosome 10</td>\n",
       "      <td>59059828</td>\n",
       "      <td>59060961</td>\n",
       "    </tr>\n",
       "    <tr>\n",
       "      <th>7</th>\n",
       "      <td>Solyc10g076230.1</td>\n",
       "      <td>protein_coding_gene</td>\n",
       "      <td>chromosome 10</td>\n",
       "      <td>59074041</td>\n",
       "      <td>59074647</td>\n",
       "    </tr>\n",
       "    <tr>\n",
       "      <th>8</th>\n",
       "      <td>Solyc10g076240.1</td>\n",
       "      <td>protein_coding_gene</td>\n",
       "      <td>chromosome 10</td>\n",
       "      <td>59082990</td>\n",
       "      <td>59084119</td>\n",
       "    </tr>\n",
       "  </tbody>\n",
       "</table>\n",
       "</div>"
      ],
      "text/plain": [
       "         feature_id         feature_name          chrom  begin_pos   end_pos\n",
       "0  Solyc10g075170.1  protein_coding_gene  chromosome 10   58891402  58895882\n",
       "1  Solyc10g076170.1  protein_coding_gene  chromosome 10   58981351  58981887\n",
       "2  Solyc10g076180.1  protein_coding_gene  chromosome 10   59006329  59007294\n",
       "3  Solyc10g076190.1  protein_coding_gene  chromosome 10   59045991  59047132\n",
       "4  Solyc10g076200.1  protein_coding_gene  chromosome 10   59051770  59052216\n",
       "5  Solyc10g076210.1  protein_coding_gene  chromosome 10   59054478  59055612\n",
       "6  Solyc10g076220.1  protein_coding_gene  chromosome 10   59059828  59060961\n",
       "7  Solyc10g076230.1  protein_coding_gene  chromosome 10   59074041  59074647\n",
       "8  Solyc10g076240.1  protein_coding_gene  chromosome 10   59082990  59084119"
      ]
     },
     "execution_count": 10,
     "metadata": {},
     "output_type": "execute_result"
    }
   ],
   "source": [
    "genes_interval"
   ]
  },
  {
   "cell_type": "code",
   "execution_count": 11,
   "metadata": {},
   "outputs": [],
   "source": [
    "# get orthologs in potato\n",
    "rows = []\n",
    "for index, g in genes_interval.iterrows():\n",
    "    try:\n",
    "        with requests.get(base_url + '/getOrthologs',\n",
    "                          params={'geneid': \"'%s'\" % g['feature_id']},\n",
    "                          headers=headers) as req:\n",
    "            df = pd.read_csv(io.StringIO(req.text))\n",
    "            if df.size == 0:\n",
    "                rows.append([g['feature_id'], g['chrom'], g['begin_pos'], g['end_pos'],\n",
    "                             None, None, None, None])\n",
    "                continue\n",
    "            for index, j in df.iterrows():\n",
    "                with requests.get(base_url + '/getFeatureLocation',\n",
    "                    params={'featureid': \"'%s'\" % j['ortholog_id']},\n",
    "                    headers=headers) as req:\n",
    "                    for index, o in pd.read_csv(io.StringIO(req.text)).iterrows():\n",
    "                        rows.append([g['feature_id'], g['chrom'], g['begin_pos'], g['end_pos'],\n",
    "                                          o['feature_id'], o['chrom'], o['begin_pos'], o['end_pos']])\n",
    "  \n",
    "    except:\n",
    "        print('Failed to connect to the Web API!')\n",
    "        break"
   ]
  },
  {
   "cell_type": "code",
   "execution_count": 12,
   "metadata": {},
   "outputs": [
    {
     "data": {
      "text/html": [
       "<div>\n",
       "<style scoped>\n",
       "    .dataframe tbody tr th:only-of-type {\n",
       "        vertical-align: middle;\n",
       "    }\n",
       "\n",
       "    .dataframe tbody tr th {\n",
       "        vertical-align: top;\n",
       "    }\n",
       "\n",
       "    .dataframe thead th {\n",
       "        text-align: right;\n",
       "    }\n",
       "</style>\n",
       "<table border=\"1\" class=\"dataframe\">\n",
       "  <thead>\n",
       "    <tr style=\"text-align: right;\">\n",
       "      <th></th>\n",
       "      <th>gene_id</th>\n",
       "      <th>chrom</th>\n",
       "      <th>begin</th>\n",
       "      <th>end</th>\n",
       "      <th>ortho_id</th>\n",
       "      <th>ortho_chrom</th>\n",
       "      <th>ortho_begin</th>\n",
       "      <th>ortho_end</th>\n",
       "    </tr>\n",
       "  </thead>\n",
       "  <tbody>\n",
       "    <tr>\n",
       "      <th>0</th>\n",
       "      <td>Solyc10g075170.1</td>\n",
       "      <td>chromosome 10</td>\n",
       "      <td>58891402</td>\n",
       "      <td>58895882</td>\n",
       "      <td>PGSC0003DMG400006678</td>\n",
       "      <td>chromosome 10</td>\n",
       "      <td>48978066</td>\n",
       "      <td>48982521</td>\n",
       "    </tr>\n",
       "    <tr>\n",
       "      <th>1</th>\n",
       "      <td>Solyc10g076170.1</td>\n",
       "      <td>chromosome 10</td>\n",
       "      <td>58981351</td>\n",
       "      <td>58981887</td>\n",
       "      <td>None</td>\n",
       "      <td>None</td>\n",
       "      <td>None</td>\n",
       "      <td>None</td>\n",
       "    </tr>\n",
       "    <tr>\n",
       "      <th>2</th>\n",
       "      <td>Solyc10g076180.1</td>\n",
       "      <td>chromosome 10</td>\n",
       "      <td>59006329</td>\n",
       "      <td>59007294</td>\n",
       "      <td>None</td>\n",
       "      <td>None</td>\n",
       "      <td>None</td>\n",
       "      <td>None</td>\n",
       "    </tr>\n",
       "    <tr>\n",
       "      <th>3</th>\n",
       "      <td>Solyc10g076190.1</td>\n",
       "      <td>chromosome 10</td>\n",
       "      <td>59045991</td>\n",
       "      <td>59047132</td>\n",
       "      <td>PGSC0003DMG400011948</td>\n",
       "      <td>chromosome 0</td>\n",
       "      <td>22096297</td>\n",
       "      <td>22097627</td>\n",
       "    </tr>\n",
       "    <tr>\n",
       "      <th>4</th>\n",
       "      <td>Solyc10g076200.1</td>\n",
       "      <td>chromosome 10</td>\n",
       "      <td>59051770</td>\n",
       "      <td>59052216</td>\n",
       "      <td>PGSC0003DMG400011955</td>\n",
       "      <td>chromosome 0</td>\n",
       "      <td>22098971</td>\n",
       "      <td>22100334</td>\n",
       "    </tr>\n",
       "    <tr>\n",
       "      <th>5</th>\n",
       "      <td>Solyc10g076200.1</td>\n",
       "      <td>chromosome 10</td>\n",
       "      <td>59051770</td>\n",
       "      <td>59052216</td>\n",
       "      <td>PGSC0003DMG400040954</td>\n",
       "      <td>chromosome 10</td>\n",
       "      <td>49170543</td>\n",
       "      <td>49171657</td>\n",
       "    </tr>\n",
       "    <tr>\n",
       "      <th>6</th>\n",
       "      <td>Solyc10g076210.1</td>\n",
       "      <td>chromosome 10</td>\n",
       "      <td>59054478</td>\n",
       "      <td>59055612</td>\n",
       "      <td>PGSC0003DMG400020799</td>\n",
       "      <td>chromosome 10</td>\n",
       "      <td>49151461</td>\n",
       "      <td>49152451</td>\n",
       "    </tr>\n",
       "    <tr>\n",
       "      <th>7</th>\n",
       "      <td>Solyc10g076210.1</td>\n",
       "      <td>chromosome 10</td>\n",
       "      <td>59054478</td>\n",
       "      <td>59055612</td>\n",
       "      <td>PGSC0003DMG400020800</td>\n",
       "      <td>chromosome 10</td>\n",
       "      <td>49084193</td>\n",
       "      <td>49085040</td>\n",
       "    </tr>\n",
       "    <tr>\n",
       "      <th>8</th>\n",
       "      <td>Solyc10g076220.1</td>\n",
       "      <td>chromosome 10</td>\n",
       "      <td>59059828</td>\n",
       "      <td>59060961</td>\n",
       "      <td>PGSC0003DMG400020799</td>\n",
       "      <td>chromosome 10</td>\n",
       "      <td>49151461</td>\n",
       "      <td>49152451</td>\n",
       "    </tr>\n",
       "    <tr>\n",
       "      <th>9</th>\n",
       "      <td>Solyc10g076220.1</td>\n",
       "      <td>chromosome 10</td>\n",
       "      <td>59059828</td>\n",
       "      <td>59060961</td>\n",
       "      <td>PGSC0003DMG400020800</td>\n",
       "      <td>chromosome 10</td>\n",
       "      <td>49084193</td>\n",
       "      <td>49085040</td>\n",
       "    </tr>\n",
       "    <tr>\n",
       "      <th>10</th>\n",
       "      <td>Solyc10g076230.1</td>\n",
       "      <td>chromosome 10</td>\n",
       "      <td>59074041</td>\n",
       "      <td>59074647</td>\n",
       "      <td>PGSC0003DMG400020798</td>\n",
       "      <td>chromosome 10</td>\n",
       "      <td>49172630</td>\n",
       "      <td>49173264</td>\n",
       "    </tr>\n",
       "    <tr>\n",
       "      <th>11</th>\n",
       "      <td>Solyc10g076240.1</td>\n",
       "      <td>chromosome 10</td>\n",
       "      <td>59082990</td>\n",
       "      <td>59084119</td>\n",
       "      <td>None</td>\n",
       "      <td>None</td>\n",
       "      <td>None</td>\n",
       "      <td>None</td>\n",
       "    </tr>\n",
       "  </tbody>\n",
       "</table>\n",
       "</div>"
      ],
      "text/plain": [
       "             gene_id          chrom     begin       end              ortho_id  \\\n",
       "0   Solyc10g075170.1  chromosome 10  58891402  58895882  PGSC0003DMG400006678   \n",
       "1   Solyc10g076170.1  chromosome 10  58981351  58981887                  None   \n",
       "2   Solyc10g076180.1  chromosome 10  59006329  59007294                  None   \n",
       "3   Solyc10g076190.1  chromosome 10  59045991  59047132  PGSC0003DMG400011948   \n",
       "4   Solyc10g076200.1  chromosome 10  59051770  59052216  PGSC0003DMG400011955   \n",
       "5   Solyc10g076200.1  chromosome 10  59051770  59052216  PGSC0003DMG400040954   \n",
       "6   Solyc10g076210.1  chromosome 10  59054478  59055612  PGSC0003DMG400020799   \n",
       "7   Solyc10g076210.1  chromosome 10  59054478  59055612  PGSC0003DMG400020800   \n",
       "8   Solyc10g076220.1  chromosome 10  59059828  59060961  PGSC0003DMG400020799   \n",
       "9   Solyc10g076220.1  chromosome 10  59059828  59060961  PGSC0003DMG400020800   \n",
       "10  Solyc10g076230.1  chromosome 10  59074041  59074647  PGSC0003DMG400020798   \n",
       "11  Solyc10g076240.1  chromosome 10  59082990  59084119                  None   \n",
       "\n",
       "      ortho_chrom ortho_begin ortho_end  \n",
       "0   chromosome 10    48978066  48982521  \n",
       "1            None        None      None  \n",
       "2            None        None      None  \n",
       "3    chromosome 0    22096297  22097627  \n",
       "4    chromosome 0    22098971  22100334  \n",
       "5   chromosome 10    49170543  49171657  \n",
       "6   chromosome 10    49151461  49152451  \n",
       "7   chromosome 10    49084193  49085040  \n",
       "8   chromosome 10    49151461  49152451  \n",
       "9   chromosome 10    49084193  49085040  \n",
       "10  chromosome 10    49172630  49173264  \n",
       "11           None        None      None  "
      ]
     },
     "execution_count": 12,
     "metadata": {},
     "output_type": "execute_result"
    }
   ],
   "source": [
    "cols = ['gene_id', 'chrom', 'begin', 'end', 'ortho_id', 'ortho_chrom', 'ortho_begin', 'ortho_end']\n",
    "orthologs = pd.DataFrame(rows, columns=cols)\n",
    "orthologs['ortho_begin'] = orthologs['ortho_begin'].fillna(-1)\n",
    "orthologs['ortho_end'] = orthologs['ortho_end'].fillna(-1)\n",
    "orthologs['ortho_begin'] = orthologs['ortho_begin'].astype(np.int64)\n",
    "orthologs['ortho_end'] = orthologs['ortho_end'].astype(np.int64)\n",
    "orthologs = orthologs.replace([-1], [None])\n",
    "orthologs"
   ]
  },
  {
   "cell_type": "code",
   "execution_count": 13,
   "metadata": {
    "scrolled": true
   },
   "outputs": [
    {
     "data": {
      "text/html": [
       "<div>\n",
       "<style scoped>\n",
       "    .dataframe tbody tr th:only-of-type {\n",
       "        vertical-align: middle;\n",
       "    }\n",
       "\n",
       "    .dataframe tbody tr th {\n",
       "        vertical-align: top;\n",
       "    }\n",
       "\n",
       "    .dataframe thead tr th {\n",
       "        text-align: left;\n",
       "    }\n",
       "\n",
       "    .dataframe thead tr:last-of-type th {\n",
       "        text-align: right;\n",
       "    }\n",
       "</style>\n",
       "<table border=\"1\" class=\"dataframe\">\n",
       "  <thead>\n",
       "    <tr>\n",
       "      <th></th>\n",
       "      <th>ortho_id</th>\n",
       "    </tr>\n",
       "    <tr>\n",
       "      <th></th>\n",
       "      <th>nunique</th>\n",
       "    </tr>\n",
       "    <tr>\n",
       "      <th>gene_id</th>\n",
       "      <th></th>\n",
       "    </tr>\n",
       "  </thead>\n",
       "  <tbody>\n",
       "    <tr>\n",
       "      <th>Solyc10g075170.1</th>\n",
       "      <td>1</td>\n",
       "    </tr>\n",
       "    <tr>\n",
       "      <th>Solyc10g076170.1</th>\n",
       "      <td>0</td>\n",
       "    </tr>\n",
       "    <tr>\n",
       "      <th>Solyc10g076180.1</th>\n",
       "      <td>0</td>\n",
       "    </tr>\n",
       "    <tr>\n",
       "      <th>Solyc10g076190.1</th>\n",
       "      <td>1</td>\n",
       "    </tr>\n",
       "    <tr>\n",
       "      <th>Solyc10g076200.1</th>\n",
       "      <td>2</td>\n",
       "    </tr>\n",
       "    <tr>\n",
       "      <th>Solyc10g076210.1</th>\n",
       "      <td>2</td>\n",
       "    </tr>\n",
       "    <tr>\n",
       "      <th>Solyc10g076220.1</th>\n",
       "      <td>2</td>\n",
       "    </tr>\n",
       "    <tr>\n",
       "      <th>Solyc10g076230.1</th>\n",
       "      <td>1</td>\n",
       "    </tr>\n",
       "    <tr>\n",
       "      <th>Solyc10g076240.1</th>\n",
       "      <td>0</td>\n",
       "    </tr>\n",
       "  </tbody>\n",
       "</table>\n",
       "</div>"
      ],
      "text/plain": [
       "                 ortho_id\n",
       "                  nunique\n",
       "gene_id                  \n",
       "Solyc10g075170.1        1\n",
       "Solyc10g076170.1        0\n",
       "Solyc10g076180.1        0\n",
       "Solyc10g076190.1        1\n",
       "Solyc10g076200.1        2\n",
       "Solyc10g076210.1        2\n",
       "Solyc10g076220.1        2\n",
       "Solyc10g076230.1        1\n",
       "Solyc10g076240.1        0"
      ]
     },
     "metadata": {},
     "output_type": "display_data"
    }
   ],
   "source": [
    "# show number of orthologs per gene\n",
    "display(orthologs.groupby(['gene_id']).agg({'ortho_id':['nunique']}))"
   ]
  },
  {
   "cell_type": "markdown",
   "metadata": {},
   "source": [
    "## Potato\n",
    "### Find interval\n",
    "Find locations for genes, and compute interval"
   ]
  },
  {
   "cell_type": "code",
   "execution_count": 14,
   "metadata": {},
   "outputs": [
    {
     "ename": "NameError",
     "evalue": "name 'pg1' is not defined",
     "output_type": "error",
     "traceback": [
      "\u001b[0;31m---------------------------------------------------------------------------\u001b[0m",
      "\u001b[0;31mTypeError\u001b[0m                                 Traceback (most recent call last)",
      "\u001b[0;32m<ipython-input-14-02e920e678f6>\u001b[0m in \u001b[0;36m<module>\u001b[0;34m\u001b[0m\n\u001b[1;32m      1\u001b[0m \u001b[0;32mtry\u001b[0m\u001b[0;34m:\u001b[0m\u001b[0;34m\u001b[0m\u001b[0;34m\u001b[0m\u001b[0m\n\u001b[0;32m----> 2\u001b[0;31m     resp1 = requests.get(url+\"/getFeatureLocation\", \n\u001b[0m\u001b[1;32m      3\u001b[0m                         \u001b[0mparams\u001b[0m\u001b[0;34m=\u001b[0m\u001b[0;34m{\u001b[0m\u001b[0;34m\"featureid\"\u001b[0m\u001b[0;34m:\u001b[0m \u001b[0;34m\"'\"\u001b[0m\u001b[0;34m+\u001b[0m\u001b[0mpg1\u001b[0m\u001b[0;34m+\u001b[0m\u001b[0;34m\"'\"\u001b[0m\u001b[0;34m}\u001b[0m\u001b[0;34m,\u001b[0m\u001b[0;34m\u001b[0m\u001b[0;34m\u001b[0m\u001b[0m\n",
      "\u001b[0;31mTypeError\u001b[0m: unsupported operand type(s) for +: 'dict' and 'str'",
      "\nDuring handling of the above exception, another exception occurred:\n",
      "\u001b[0;31mNameError\u001b[0m                                 Traceback (most recent call last)",
      "\u001b[0;32m<ipython-input-14-02e920e678f6>\u001b[0m in \u001b[0;36m<module>\u001b[0;34m\u001b[0m\n\u001b[1;32m     12\u001b[0m     \u001b[0mintervalP\u001b[0m\u001b[0;34m[\u001b[0m\u001b[0;34m\"end_pos\"\u001b[0m\u001b[0;34m]\u001b[0m \u001b[0;34m=\u001b[0m \u001b[0mint\u001b[0m\u001b[0;34m(\u001b[0m\u001b[0mresp2\u001b[0m\u001b[0;34m.\u001b[0m\u001b[0mjson\u001b[0m\u001b[0;34m(\u001b[0m\u001b[0;34m)\u001b[0m\u001b[0;34m[\u001b[0m\u001b[0;34m\"results\"\u001b[0m\u001b[0;34m]\u001b[0m\u001b[0;34m[\u001b[0m\u001b[0;34m\"bindings\"\u001b[0m\u001b[0;34m]\u001b[0m\u001b[0;34m[\u001b[0m\u001b[0;36m0\u001b[0m\u001b[0;34m]\u001b[0m\u001b[0;34m[\u001b[0m\u001b[0;34m\"begin_pos\"\u001b[0m\u001b[0;34m]\u001b[0m\u001b[0;34m[\u001b[0m\u001b[0;34m\"value\"\u001b[0m\u001b[0;34m]\u001b[0m\u001b[0;34m)\u001b[0m\u001b[0;34m\u001b[0m\u001b[0;34m\u001b[0m\u001b[0m\n\u001b[1;32m     13\u001b[0m \u001b[0;32mexcept\u001b[0m\u001b[0;34m:\u001b[0m\u001b[0;34m\u001b[0m\u001b[0;34m\u001b[0m\u001b[0m\n\u001b[0;32m---> 14\u001b[0;31m     \u001b[0;32mraise\u001b[0m \u001b[0mException\u001b[0m\u001b[0;34m(\u001b[0m\u001b[0;34m\"couldn't get interval for \"\u001b[0m\u001b[0;34m+\u001b[0m\u001b[0mstr\u001b[0m\u001b[0;34m(\u001b[0m\u001b[0mpg1\u001b[0m\u001b[0;34m)\u001b[0m\u001b[0;34m+\u001b[0m\u001b[0;34m\" or \"\u001b[0m\u001b[0;34m+\u001b[0m\u001b[0mstr\u001b[0m\u001b[0;34m(\u001b[0m\u001b[0mpg2\u001b[0m\u001b[0;34m)\u001b[0m\u001b[0;34m)\u001b[0m\u001b[0;34m\u001b[0m\u001b[0;34m\u001b[0m\u001b[0m\n\u001b[0m\u001b[1;32m     15\u001b[0m \u001b[0mintervalP\u001b[0m\u001b[0;34m\u001b[0m\u001b[0;34m\u001b[0m\u001b[0m\n",
      "\u001b[0;31mNameError\u001b[0m: name 'pg1' is not defined"
     ]
    }
   ],
   "source": [
    "try:\n",
    "    resp1 = requests.get(url+\"/getFeatureLocation\", \n",
    "                        params={\"featureid\": \"'\"+pg1+\"'\"}, \n",
    "                        headers={\"accept\": \"application/json\"})\n",
    "    resp2 = requests.get(url+\"/getFeatureLocation\", \n",
    "                        params={\"featureid\": \"'\"+pg2+\"'\"}, \n",
    "                        headers={\"accept\": \"application/json\"})\n",
    "    intervalP = {}\n",
    "    intervalP[\"chrom\"] = resp1.json()[\"results\"][\"bindings\"][0][\"chrom\"][\"value\"]\n",
    "    intervalP[\"taxon_id\"] = resp1.json()[\"results\"][\"bindings\"][0][\"taxon_id\"][\"value\"]\n",
    "    intervalP[\"begin_pos\"] = int(resp1.json()[\"results\"][\"bindings\"][0][\"end_pos\"][\"value\"])\n",
    "    intervalP[\"end_pos\"] = int(resp2.json()[\"results\"][\"bindings\"][0][\"begin_pos\"][\"value\"])    \n",
    "except:\n",
    "    raise Exception(\"couldn't get interval for \"+str(pg1)+\" or \"+str(pg2))\n",
    "intervalP   "
   ]
  },
  {
   "cell_type": "markdown",
   "metadata": {},
   "source": [
    "### Find genes and orthologs\n",
    "Find genes and orthologs for interval"
   ]
  },
  {
   "cell_type": "markdown",
   "metadata": {},
   "source": [
    "Find potato genes in interval"
   ]
  },
  {
   "cell_type": "code",
   "execution_count": null,
   "metadata": {},
   "outputs": [],
   "source": [
    "try:\n",
    "    if intervalP[\"taxon_id\"]==\"4113\":\n",
    "        graph = \"http://solgenomics.net/genome/Solanum_tuberosum\"\n",
    "    else:\n",
    "        raise Exception(\"unknown taxon_id \"+str(intervalP[\"taxon_id\"]))\n",
    "    genes = requests.get(url+\"/getFeaturesInInterval\", \n",
    "                        params={\"feature\": \"'protein_coding_gene'\", \"graph\": graph,\n",
    "                               \"begin\": intervalP[\"begin_pos\"], \"end\": intervalP[\"end_pos\"],\n",
    "                               \"chrom\": intervalP[\"chrom\"]}, \n",
    "                        headers={\"accept\": \"application/json\"})\n",
    "    genesP_in_interval = []\n",
    "    for gene in genes.json()[\"results\"][\"bindings\"]:\n",
    "        gene_id = gene[\"feature_id\"][\"value\"]\n",
    "        #get location\n",
    "        location = requests.get(url+\"/getFeatureLocation\", \n",
    "                        params={\"featureid\": \"'\"+gene_id+\"'\"}, \n",
    "                        headers={\"accept\": \"application/json\"})\n",
    "        chrom = location.json()[\"results\"][\"bindings\"][0][\"chrom\"][\"value\"]\n",
    "        taxon_id = location.json()[\"results\"][\"bindings\"][0][\"taxon_id\"][\"value\"]\n",
    "        begin_pos = int(location.json()[\"results\"][\"bindings\"][0][\"begin_pos\"][\"value\"])\n",
    "        end_pos = int(location.json()[\"results\"][\"bindings\"][0][\"end_pos\"][\"value\"])    \n",
    "        genesP_in_interval.append([gene_id, chrom, begin_pos, end_pos, taxon_id])\n",
    "    genesP_in_interval = pd.DataFrame(genesP_in_interval)\n",
    "    genesP_in_interval.columns = [\"gene_id\", \"chrom\", \"begin_pos\", \"end_pos\", \"taxon_id\"]\n",
    "    genesP_in_interval = genesP_in_interval.set_index([\"gene_id\"])\n",
    "except:\n",
    "    raise Exception(\"couldn't get genes in interval \"+str(intervalP[\"begin_pos\"])+\" - \"+str(intervalP[\"begin_pos\"])+\" on \"+str(intervalP[\"chrom\"]))    \n",
    "#display(genesP_in_interval)    "
   ]
  },
  {
   "cell_type": "markdown",
   "metadata": {},
   "source": [
    "Find tomato orthologs for these genes"
   ]
  },
  {
   "cell_type": "code",
   "execution_count": null,
   "metadata": {},
   "outputs": [],
   "source": [
    "try:\n",
    "    ortholog_genesP_for_interval = []\n",
    "    for gene_id,gene in genesP_in_interval.iterrows():\n",
    "        orthologs = requests.get(url+\"/getOrthologs\", \n",
    "                        params={\"geneid\": \"'\"+gene_id+\"'\"}, \n",
    "                        headers={\"accept\": \"application/json\"})\n",
    "        orthologsResult = orthologs.json()[\"results\"][\"bindings\"]\n",
    "        if len(orthologsResult)>0:\n",
    "            for ortholog in orthologsResult:\n",
    "                ortholog_id = ortholog[\"ortholog_id\"][\"value\"]\n",
    "                #get location\n",
    "                location = requests.get(url+\"/getFeatureLocation\", \n",
    "                                params={\"featureid\": \"'\"+ortholog_id+\"'\"}, \n",
    "                                headers={\"accept\": \"application/json\"})\n",
    "                chrom = location.json()[\"results\"][\"bindings\"][0][\"chrom\"][\"value\"]\n",
    "                taxon_id = location.json()[\"results\"][\"bindings\"][0][\"taxon_id\"][\"value\"]\n",
    "                begin_pos = int(location.json()[\"results\"][\"bindings\"][0][\"begin_pos\"][\"value\"])\n",
    "                end_pos = int(location.json()[\"results\"][\"bindings\"][0][\"end_pos\"][\"value\"]) \n",
    "                ortholog_genesP_for_interval.append([gene_id, gene[\"chrom\"],gene[\"begin_pos\"],\n",
    "                                                     gene[\"end_pos\"],gene[\"taxon_id\"],ortholog_id,\n",
    "                                                     chrom, begin_pos, end_pos, taxon_id])\n",
    "        else:\n",
    "            ortholog_genesP_for_interval.append([gene_id, gene[\"chrom\"],gene[\"begin_pos\"],\n",
    "                                                 gene[\"end_pos\"],gene[\"taxon_id\"], None, None,\n",
    "                                                None, None, None])\n",
    "    ortholog_genesP_for_interval = pd.DataFrame(ortholog_genesP_for_interval)            \n",
    "    ortholog_genesP_for_interval.columns = [\"gene_id\", \"chrom\", \"begin_pos\", \"end_pos\", \"taxon_id\", \n",
    "                                            \"ortholog_gene_id\", \"ortholog_chrom\", \"ortholog_begin_pos\",\n",
    "                                            \"ortholog_end_pos\", \"ortholog_taxon_id\"]\n",
    "    ortholog_genesP_for_interval = ortholog_genesP_for_interval.set_index([\"gene_id\"])\n",
    "except:\n",
    "    raise Exception(\"couldn't get orthologs\")  "
   ]
  },
  {
   "cell_type": "markdown",
   "metadata": {},
   "source": [
    "Number of orthologs for each gene"
   ]
  },
  {
   "cell_type": "code",
   "execution_count": null,
   "metadata": {},
   "outputs": [],
   "source": [
    "aggregations = { \"ortholog_gene_id\" : [\"nunique\"]}\n",
    "display(ortholog_genesP_for_interval.groupby([\"gene_id\"]).agg(aggregations))"
   ]
  },
  {
   "cell_type": "markdown",
   "metadata": {},
   "source": [
    "### List orthologs\n",
    "List orthologs for the genes found in the interval"
   ]
  },
  {
   "cell_type": "code",
   "execution_count": null,
   "metadata": {},
   "outputs": [],
   "source": [
    "index=pd.MultiIndex.from_tuples([tuple(x) for x in ortholog_genesP_for_interval[[\"chrom\", \"begin_pos\", \"end_pos\", \"ortholog_gene_id\"]].to_records()], names=[\"gene_id\", \"chrom\", \"begin_pos\", \"end_pos\", \"ortholog_gene_id\"])\n",
    "display(ortholog_genesP_for_interval.set_index(index)[[\"ortholog_chrom\", \"ortholog_begin_pos\", \"ortholog_end_pos\", \"taxon_id\"]])   "
   ]
  },
  {
   "cell_type": "markdown",
   "metadata": {},
   "source": [
    "### Chromosomes for orthologs\n",
    "Chromosomes containing the found orthologs"
   ]
  },
  {
   "cell_type": "code",
   "execution_count": null,
   "metadata": {},
   "outputs": [],
   "source": [
    "kauraggregations = {\"ortholog_begin_pos\" : [\"min\",\"max\"], \"ortholog_end_pos\" : [\"min\",\"max\"]}\n",
    "display(ortholog_genesP_for_interval.groupby([\"ortholog_taxon_id\", \"ortholog_chrom\"]).agg(aggregations))"
   ]
  },
  {
   "cell_type": "markdown",
   "metadata": {},
   "source": [
    "### Diagram crosslinks\n",
    "Create a diagram with crosslinks between found genes and orthologs"
   ]
  },
  {
   "cell_type": "code",
   "execution_count": null,
   "metadata": {},
   "outputs": [],
   "source": [
    "#genesPdiagram = DIAGRAMS.crosslinks(\"potato\", \"tomato\", intervalP, ortholog_genesP_for_interval)\n",
    "#tmpFilename = \"potato_\"+pg1+\"-\"+pg2+\".svg\"\n",
    "#genesPdiagram.write(tmpFilename, \"svg\")\n",
    "#SVG(tmpFilename)"
   ]
  },
  {
   "cell_type": "markdown",
   "metadata": {},
   "source": [
    "# Annotations\n",
    "Compare GO annotatios in all three classes\n",
    "\n",
    "Genes, orthologs for potato and tomato and annotations"
   ]
  },
  {
   "cell_type": "code",
   "execution_count": null,
   "metadata": {},
   "outputs": [],
   "source": [
    "%matplotlib inline\n",
    "import matplotlib.pyplot as plt\n",
    "from matplotlib_venn import venn2"
   ]
  },
  {
   "cell_type": "code",
   "execution_count": null,
   "metadata": {},
   "outputs": [],
   "source": [
    "setT = genesT_in_interval.index.unique()\n",
    "setP = genesP_in_interval.index.unique()\n",
    "setTP = setT & ortholog_genesP_for_interval[\"ortholog_gene_id\"].dropna().unique()\n",
    "setPT = setP & ortholog_genesT_for_interval[\"ortholog_gene_id\"].dropna().unique()\n",
    "setT = list(set(setT)-set(setTP))\n",
    "setP = list(set(setP)-set(setPT))\n",
    "venn2(subsets = (len(setT), len(setTP), len(setP)), set_labels = (\"Tomato\", \"Potato\"))\n",
    "#venn2(subsets = (1,2,3), set_labels = (\"Tomato\", \"Potato\"))\n",
    "plt.show()"
   ]
  },
  {
   "cell_type": "markdown",
   "metadata": {},
   "source": [
    "## Only in Tomato interval"
   ]
  },
  {
   "cell_type": "code",
   "execution_count": null,
   "metadata": {},
   "outputs": [],
   "source": [
    "print(*setT, sep = \"\\n\")"
   ]
  },
  {
   "cell_type": "code",
   "execution_count": null,
   "metadata": {},
   "outputs": [],
   "source": [
    "try:\n",
    "    termsT = []\n",
    "    for gene_id in setT:\n",
    "        annotations = requests.get(url+\"/getGeneAnnotations\", \n",
    "                                   params={\"geneid\": \"'\"+gene_id+\"'\"}, \n",
    "                                   headers={\"accept\": \"application/json\"})        \n",
    "        for annotation in annotations.json()[\"results\"][\"bindings\"]:\n",
    "            uniprot_goa = annotation[\"uniprot_goa\"][\"value\"].strip()\n",
    "            if uniprot_goa==\"\":\n",
    "                termsT.append([gene_id, None])\n",
    "            else:\n",
    "                for go_id in uniprot_goa.split(\";\"):                    \n",
    "                    termsT.append([gene_id, go_id.strip()])\n",
    "            break        \n",
    "    termsT = pd.DataFrame(termsT)\n",
    "    termsT.columns = [\"gene_id\", \"go_id\"]\n",
    "    termsT = termsT.set_index([\"gene_id\"])\n",
    "except:\n",
    "    raise Exception(\"couldn't get terms for genes\") "
   ]
  },
  {
   "cell_type": "code",
   "execution_count": null,
   "metadata": {},
   "outputs": [],
   "source": [
    "goT = set([go_id for go_id in termsT[\"go_id\"] if not (go_id == None)])"
   ]
  },
  {
   "cell_type": "code",
   "execution_count": null,
   "metadata": {},
   "outputs": [],
   "source": [
    "len(goT)"
   ]
  },
  {
   "cell_type": "code",
   "execution_count": null,
   "metadata": {},
   "outputs": [],
   "source": [
    "print(*goT, sep=\"\\n\")"
   ]
  },
  {
   "cell_type": "code",
   "execution_count": null,
   "metadata": {},
   "outputs": [],
   "source": [
    "termsT.set_index([\"go_id\"], append=True)"
   ]
  },
  {
   "cell_type": "code",
   "execution_count": null,
   "metadata": {},
   "outputs": [],
   "source": []
  },
  {
   "cell_type": "markdown",
   "metadata": {},
   "source": [
    "## Only in Potato"
   ]
  },
  {
   "cell_type": "code",
   "execution_count": null,
   "metadata": {},
   "outputs": [],
   "source": [
    "print(*setP, sep = \"\\n\")"
   ]
  },
  {
   "cell_type": "code",
   "execution_count": null,
   "metadata": {
    "scrolled": true
   },
   "outputs": [],
   "source": [
    "try:\n",
    "    termsP = []\n",
    "    for gene_id in setP:\n",
    "        annotations = requests.get(url+\"/getGeneAnnotations\", \n",
    "                                   params={\"geneid\": \"'\"+gene_id+\"'\"}, \n",
    "                                   headers={\"accept\": \"application/json\"})        \n",
    "        for annotation in annotations.json()[\"results\"][\"bindings\"]:\n",
    "            uniprot_goa = annotation[\"uniprot_goa\"][\"value\"].strip()\n",
    "            if uniprot_goa==\"\":\n",
    "                termsP.append([gene_id, None])\n",
    "            else:\n",
    "                for go_id in uniprot_goa.split(\";\"):                    \n",
    "                    termsP.append([gene_id, go_id.strip()])\n",
    "            break        \n",
    "    termsP = pd.DataFrame(termsP)\n",
    "    termsP.columns = [\"gene_id\", \"go_id\"]\n",
    "    termsP = termsP.set_index([\"gene_id\"])\n",
    "except:\n",
    "    raise Exception(\"couldn't get terms for genes\") "
   ]
  },
  {
   "cell_type": "code",
   "execution_count": null,
   "metadata": {},
   "outputs": [],
   "source": [
    "goP = set([go_id for go_id in termsP[\"go_id\"] if not (go_id == None)])"
   ]
  },
  {
   "cell_type": "code",
   "execution_count": null,
   "metadata": {},
   "outputs": [],
   "source": [
    "len(goP)"
   ]
  },
  {
   "cell_type": "code",
   "execution_count": null,
   "metadata": {},
   "outputs": [],
   "source": [
    "print(*goP, sep=\"\\n\")"
   ]
  },
  {
   "cell_type": "code",
   "execution_count": null,
   "metadata": {},
   "outputs": [],
   "source": [
    "termsP.set_index([\"go_id\"], append=True)"
   ]
  },
  {
   "cell_type": "markdown",
   "metadata": {},
   "source": [
    "## Both in Tomato and Potato"
   ]
  },
  {
   "cell_type": "code",
   "execution_count": null,
   "metadata": {},
   "outputs": [],
   "source": [
    "print(*setTP, sep = \"\\n\")\n",
    "#print(*setPT, sep = \"\\n\")"
   ]
  },
  {
   "cell_type": "code",
   "execution_count": null,
   "metadata": {},
   "outputs": [],
   "source": [
    "try:\n",
    "    termsTP = []\n",
    "    for gene_id in setTP:\n",
    "        annotations = requests.get(url+\"/getGeneAnnotations\", \n",
    "                                   params={\"geneid\": \"'\"+gene_id+\"'\"}, \n",
    "                                   headers={\"accept\": \"application/json\"})        \n",
    "        for annotation in annotations.json()[\"results\"][\"bindings\"]:\n",
    "            uniprot_goa = annotation[\"uniprot_goa\"][\"value\"].strip()\n",
    "            if uniprot_goa==\"\":\n",
    "                termsTP.append([gene_id, None])\n",
    "            else:\n",
    "                for go_id in uniprot_goa.split(\";\"):                    \n",
    "                    termsTP.append([gene_id, go_id.strip()])\n",
    "            break        \n",
    "    termsTP = pd.DataFrame(termsTP)\n",
    "    termsTP.columns = [\"gene_id\", \"go_id\"]\n",
    "    termsTP = termsTP.set_index([\"gene_id\"])\n",
    "except:\n",
    "    raise Exception(\"couldn't get terms for genes\") "
   ]
  },
  {
   "cell_type": "code",
   "execution_count": null,
   "metadata": {},
   "outputs": [],
   "source": [
    "print(*set([go_id for go_id in termsTP[\"go_id\"] if not (go_id == None)]), sep=\"\\n\")"
   ]
  },
  {
   "cell_type": "code",
   "execution_count": null,
   "metadata": {},
   "outputs": [],
   "source": [
    "termsTP.set_index([\"go_id\"], append=True)"
   ]
  },
  {
   "cell_type": "markdown",
   "metadata": {},
   "source": [
    "## Exploring the Annotations of Gene *Solyc10g076180.1*"
   ]
  },
  {
   "cell_type": "markdown",
   "metadata": {},
   "source": [
    "- GO Annotation\n",
    "- PPI \n",
    "- STRING\n",
    "- KEGG\n",
    "- ALL Orthologs\n",
    "- Species with no Orthologs"
   ]
  },
  {
   "cell_type": "code",
   "execution_count": null,
   "metadata": {},
   "outputs": [],
   "source": [
    "try:\n",
    "    ortholog_paralog_genesT_for_interval = []\n",
    "    for gene_id,gene in genesT_in_interval.iterrows():\n",
    "        #get paralogs, and then orthologs\n",
    "        paralogs = requests.get(url+\"/getParalogs\", \n",
    "                        params={\"geneid\": \"'\"+gene_id+\"'\"}, \n",
    "                        headers={\"accept\": \"application/json\"})\n",
    "        for paralog in paralogs.json()[\"results\"][\"bindings\"]:\n",
    "            paralog_id = paralog[\"paralog_id\"][\"value\"]\n",
    "            #get orthologs for paralog\n",
    "            orthologs = requests.get(url+\"/getOrthologs\", \n",
    "                        params={\"geneid\": \"'\"+paralog_id+\"'\"}, \n",
    "                        headers={\"accept\": \"application/json\"})\n",
    "            for ortholog in orthologs.json()[\"results\"][\"bindings\"]:\n",
    "                ortholog_id = ortholog[\"ortholog_id\"][\"value\"]\n",
    "                #get location\n",
    "                location = requests.get(url+\"/getFeatureLocation\", \n",
    "                                params={\"featureid\": \"'\"+ortholog_id+\"'\"}, \n",
    "                                headers={\"accept\": \"application/json\"})\n",
    "                chrom = location.json()[\"results\"][\"bindings\"][0][\"chrom\"][\"value\"]\n",
    "                taxon_id = location.json()[\"results\"][\"bindings\"][0][\"taxon_id\"][\"value\"]\n",
    "                begin_pos = int(location.json()[\"results\"][\"bindings\"][0][\"begin_pos\"][\"value\"])\n",
    "                end_pos = int(location.json()[\"results\"][\"bindings\"][0][\"end_pos\"][\"value\"]) \n",
    "                ortholog_paralog_genesT_for_interval.append([gene_id, gene[\"chrom\"],gene[\"begin_pos\"],\n",
    "                                                             gene[\"end_pos\"],gene[\"taxon_id\"],paralog_id,\n",
    "                                                             \"PARALOG\", ortholog_id,\n",
    "                                                             chrom, begin_pos, end_pos, taxon_id])\n",
    "        #get direct orthologs\n",
    "        orthologs = requests.get(url+\"/getOrthologs\", \n",
    "                        params={\"geneid\": \"'\"+gene_id+\"'\"}, \n",
    "                        headers={\"accept\": \"application/json\"})\n",
    "        for ortholog in orthologs.json()[\"results\"][\"bindings\"]:\n",
    "            ortholog_id = ortholog[\"ortholog_id\"][\"value\"]\n",
    "            #get location\n",
    "            location = requests.get(url+\"/getFeatureLocation\", \n",
    "                            params={\"featureid\": \"'\"+ortholog_id+\"'\"}, \n",
    "                            headers={\"accept\": \"application/json\"})\n",
    "            chrom = location.json()[\"results\"][\"bindings\"][0][\"chrom\"][\"value\"]\n",
    "            taxon_id = location.json()[\"results\"][\"bindings\"][0][\"taxon_id\"][\"value\"]\n",
    "            begin_pos = int(location.json()[\"results\"][\"bindings\"][0][\"begin_pos\"][\"value\"])\n",
    "            end_pos = int(location.json()[\"results\"][\"bindings\"][0][\"end_pos\"][\"value\"]) \n",
    "            ortholog_paralog_genesT_for_interval.append([gene_id, gene[\"chrom\"],gene[\"begin_pos\"],\n",
    "                                                 gene[\"end_pos\"],gene[\"taxon_id\"],None, \"ORTHOLOG\", ortholog_id,\n",
    "                                                 chrom, begin_pos, end_pos, taxon_id])    \n",
    "    #create dataframe        \n",
    "    ortholog_paralog_genesT_for_interval = pd.DataFrame(ortholog_paralog_genesT_for_interval)            \n",
    "    ortholog_paralog_genesT_for_interval.columns = [\"gene_id\", \"chrom\", \"begin_pos\", \"end_pos\", \"taxon_id\", \"paralog_gene_id\",\n",
    "                                            \"path\", \"ortholog_gene_id\", \"ortholog_chrom\", \"ortholog_begin_pos\",\n",
    "                                            \"ortholog_end_pos\", \"ortholog_taxon_id\"]\n",
    "    ortholog_paralog_genesT_for_interval = ortholog_paralog_genesT_for_interval.set_index([\"gene_id\"])\n",
    "except:\n",
    "    raise Exception(\"couldn't get orthologs\")  "
   ]
  },
  {
   "cell_type": "markdown",
   "metadata": {},
   "source": [
    "Number of orthologs for each gene"
   ]
  },
  {
   "cell_type": "code",
   "execution_count": null,
   "metadata": {},
   "outputs": [],
   "source": [
    "aggregations = { \"ortholog_gene_id\" : [\"nunique\"]}\n",
    "display(ortholog_paralog_genesT_for_interval.groupby([\"gene_id\"]).agg(aggregations))"
   ]
  },
  {
   "cell_type": "code",
   "execution_count": null,
   "metadata": {},
   "outputs": [],
   "source": [
    "index=pd.MultiIndex.from_tuples([tuple(x) for x in ortholog_paralog_genesT_for_interval[[\"chrom\", \"begin_pos\", \"end_pos\", \"paralog_gene_id\", \"ortholog_gene_id\"]].to_records()], names=[\"gene_id\", \"chrom\", \"begin_pos\", \"end_pos\", \"paralog_gene_id\", \"ortholog_gene_id\"])\n",
    "display(ortholog_paralog_genesT_for_interval.set_index(index)[[\"path\", \"ortholog_chrom\", \"ortholog_begin_pos\", \"ortholog_end_pos\"]])      "
   ]
  }
 ],
 "metadata": {
  "kernelspec": {
   "display_name": "Python 3",
   "language": "python",
   "name": "python3"
  },
  "language_info": {
   "codemirror_mode": {
    "name": "ipython",
    "version": 3
   },
   "file_extension": ".py",
   "mimetype": "text/x-python",
   "name": "python",
   "nbconvert_exporter": "python",
   "pygments_lexer": "ipython3",
   "version": "3.6.8"
  }
 },
 "nbformat": 4,
 "nbformat_minor": 2
}

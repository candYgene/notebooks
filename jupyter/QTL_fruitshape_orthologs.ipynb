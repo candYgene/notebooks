{
 "cells": [
  {
   "cell_type": "markdown",
   "metadata": {},
   "source": [
    "# Compairing QTLs for Tomato fruit shape & Potato tuber shape on Chromosome 10\n",
    "\n",
    "*Gurnoor Singh, Arnold*\n",
    "\n",
    "<div class=text-justify>\n",
    "Reference tomato have a round fruit shape, while reference potatoes have an elongated tuber shape. Recently published article ( <a href=\"https://dx.doi.org/10.1038%2Fs41467-018-07216-8\">DOI:10.1038/s41467-018-07216-8</a>) reveals that the presence of SLOFP20 on chromosome 10 of tomatoes is responsible for the roundness in fruit shape. However, there is no ortholog of this SLOFP20 in the reference potato DM, and this contributes to elongated tuber. In our python application we map the QTL regions in both tomato and potato, to check how well genes in both the QTL map. Consequently,  we classify genes into 3 categories, genes that occur both in tomato and potato, gene that are unique in tomato, and genes that are unique in potato. Further, we query the GO annotations in every class to see if there is any difference in GO annotations based on classes. This to find a uniqueness of every gene class.\n",
    "\n",
    "Lastly, we summaries all the properties of the gene SLOFP20 from SGN, Uniprot and Ensembleplants database. \n",
    "</div>\n",
    "\n",
    "\n",
    "Potato markers in the region pPt-458713 and pPt-473367 where as Tomato markers in the region are solcap_snp_sl_26447 and  gene188_0-i21"
   ]
  },
  {
   "cell_type": "markdown",
   "metadata": {},
   "source": [
    "## Initialization"
   ]
  },
  {
   "cell_type": "code",
   "execution_count": 1,
   "metadata": {},
   "outputs": [],
   "source": [
    "import orthologs\n",
    "from IPython.display import Image,SVG\n",
    "search = orthologs.SEARCH(\"http://pbg-ld.candygene-nlesc.surf-hosted.nl:8890/sparql\")"
   ]
  },
  {
   "cell_type": "markdown",
   "metadata": {},
   "source": [
    "QTL for fruit shape in tomatoes on chromosome 10 is marked by the genes Solyc10g075170 and Solyc10g076240. Similarly QTL for tuber shape in potatoes on chromosome 10 is marked by the genes PGSC0003DMG400006678 and PGSC0003DMG400020801.\n"
   ]
  },
  {
   "cell_type": "code",
   "execution_count": 2,
   "metadata": {},
   "outputs": [],
   "source": [
    "#potato\n",
    "pg1 = \"PGSC0003DMG400006678\"\n",
    "pg2 = \"PGSC0003DMG400020801\"\n",
    "#tomato\n",
    "tg1 = \"Solyc10g075170.1\"\n",
    "tg2 = \"Solyc10g076240.1\"\n"
   ]
  },
  {
   "cell_type": "markdown",
   "metadata": {},
   "source": [
    "## Tomato\n",
    "\n",
    "### Find co-ordinates of the QTL interval\n",
    "Search locations of genes, and compute interval"
   ]
  },
  {
   "cell_type": "code",
   "execution_count": 3,
   "metadata": {
    "scrolled": true
   },
   "outputs": [
    {
     "data": {
      "text/html": [
       "<div>\n",
       "<style scoped>\n",
       "    .dataframe tbody tr th:only-of-type {\n",
       "        vertical-align: middle;\n",
       "    }\n",
       "\n",
       "    .dataframe tbody tr th {\n",
       "        vertical-align: top;\n",
       "    }\n",
       "\n",
       "    .dataframe thead th {\n",
       "        text-align: right;\n",
       "    }\n",
       "</style>\n",
       "<table border=\"1\" class=\"dataframe\">\n",
       "  <thead>\n",
       "    <tr style=\"text-align: right;\">\n",
       "      <th></th>\n",
       "      <th>location</th>\n",
       "    </tr>\n",
       "    <tr>\n",
       "      <th>gene_id</th>\n",
       "      <th></th>\n",
       "    </tr>\n",
       "  </thead>\n",
       "  <tbody>\n",
       "    <tr>\n",
       "      <th>Solyc10g075170.1</th>\n",
       "      <td>chromosome 10:58891402-58895882</td>\n",
       "    </tr>\n",
       "    <tr>\n",
       "      <th>Solyc10g076240.1</th>\n",
       "      <td>chromosome 10:59082990-59084119</td>\n",
       "    </tr>\n",
       "  </tbody>\n",
       "</table>\n",
       "</div>"
      ],
      "text/plain": [
       "                                         location\n",
       "gene_id                                          \n",
       "Solyc10g075170.1  chromosome 10:58891402-58895882\n",
       "Solyc10g076240.1  chromosome 10:59082990-59084119"
      ]
     },
     "metadata": {},
     "output_type": "display_data"
    }
   ],
   "source": [
    "intervalT = search.compute_interval(tg1, tg2)"
   ]
  },
  {
   "cell_type": "markdown",
   "metadata": {},
   "source": [
    "### List the candidate genes inside this QTL interval and search potato orthologs\n",
    "List genes and potato orthologs inside this interval"
   ]
  },
  {
   "cell_type": "code",
   "execution_count": 4,
   "metadata": {},
   "outputs": [
    {
     "data": {
      "text/html": [
       "<div>\n",
       "<style scoped>\n",
       "    .dataframe tbody tr th:only-of-type {\n",
       "        vertical-align: middle;\n",
       "    }\n",
       "\n",
       "    .dataframe tbody tr th {\n",
       "        vertical-align: top;\n",
       "    }\n",
       "\n",
       "    .dataframe thead tr th {\n",
       "        text-align: left;\n",
       "    }\n",
       "\n",
       "    .dataframe thead tr:last-of-type th {\n",
       "        text-align: right;\n",
       "    }\n",
       "</style>\n",
       "<table border=\"1\" class=\"dataframe\">\n",
       "  <thead>\n",
       "    <tr>\n",
       "      <th></th>\n",
       "      <th>ortholog_gene_id</th>\n",
       "    </tr>\n",
       "    <tr>\n",
       "      <th></th>\n",
       "      <th>nunique</th>\n",
       "    </tr>\n",
       "    <tr>\n",
       "      <th>gene_id</th>\n",
       "      <th></th>\n",
       "    </tr>\n",
       "  </thead>\n",
       "  <tbody>\n",
       "    <tr>\n",
       "      <th>Solyc10g076170.1</th>\n",
       "      <td>0</td>\n",
       "    </tr>\n",
       "    <tr>\n",
       "      <th>Solyc10g076180.1</th>\n",
       "      <td>0</td>\n",
       "    </tr>\n",
       "    <tr>\n",
       "      <th>Solyc10g076190.1</th>\n",
       "      <td>1</td>\n",
       "    </tr>\n",
       "    <tr>\n",
       "      <th>Solyc10g076200.1</th>\n",
       "      <td>2</td>\n",
       "    </tr>\n",
       "    <tr>\n",
       "      <th>Solyc10g076210.1</th>\n",
       "      <td>2</td>\n",
       "    </tr>\n",
       "    <tr>\n",
       "      <th>Solyc10g076220.1</th>\n",
       "      <td>2</td>\n",
       "    </tr>\n",
       "    <tr>\n",
       "      <th>Solyc10g076230.1</th>\n",
       "      <td>1</td>\n",
       "    </tr>\n",
       "  </tbody>\n",
       "</table>\n",
       "</div>"
      ],
      "text/plain": [
       "                 ortholog_gene_id\n",
       "                          nunique\n",
       "gene_id                          \n",
       "Solyc10g076170.1                0\n",
       "Solyc10g076180.1                0\n",
       "Solyc10g076190.1                1\n",
       "Solyc10g076200.1                2\n",
       "Solyc10g076210.1                2\n",
       "Solyc10g076220.1                2\n",
       "Solyc10g076230.1                1"
      ]
     },
     "metadata": {},
     "output_type": "display_data"
    }
   ],
   "source": [
    "genesT = search.interval_genes(intervalT)\n",
    "aggregations = { \"ortholog_gene_id\" : [\"nunique\"]}\n",
    "display(genesT.groupby([\"gene_id\"]).agg(aggregations))"
   ]
  },
  {
   "cell_type": "markdown",
   "metadata": {},
   "source": [
    "### List orthologs\n",
    "List orthologs for the genes found in the interval"
   ]
  },
  {
   "cell_type": "code",
   "execution_count": 21,
   "metadata": {},
   "outputs": [
    {
     "data": {
      "text/html": [
       "<div>\n",
       "<style scoped>\n",
       "    .dataframe tbody tr th:only-of-type {\n",
       "        vertical-align: middle;\n",
       "    }\n",
       "\n",
       "    .dataframe tbody tr th {\n",
       "        vertical-align: top;\n",
       "    }\n",
       "\n",
       "    .dataframe thead th {\n",
       "        text-align: right;\n",
       "    }\n",
       "</style>\n",
       "<table border=\"1\" class=\"dataframe\">\n",
       "  <thead>\n",
       "    <tr style=\"text-align: right;\">\n",
       "      <th></th>\n",
       "      <th></th>\n",
       "      <th></th>\n",
       "      <th></th>\n",
       "      <th>ortholog_location</th>\n",
       "    </tr>\n",
       "    <tr>\n",
       "      <th>gene_id</th>\n",
       "      <th>location</th>\n",
       "      <th>ensembl_gene_id</th>\n",
       "      <th>ortholog_gene_id</th>\n",
       "      <th></th>\n",
       "    </tr>\n",
       "  </thead>\n",
       "  <tbody>\n",
       "    <tr>\n",
       "      <th>Solyc10g076170.1</th>\n",
       "      <th>chromosome 10:58981351-58981887</th>\n",
       "      <th>Solyc10g076170.1</th>\n",
       "      <th>NaN</th>\n",
       "      <td>None</td>\n",
       "    </tr>\n",
       "    <tr>\n",
       "      <th>Solyc10g076180.1</th>\n",
       "      <th>chromosome 10:59006329-59007294</th>\n",
       "      <th>Solyc10g076180.1</th>\n",
       "      <th>NaN</th>\n",
       "      <td>None</td>\n",
       "    </tr>\n",
       "    <tr>\n",
       "      <th>Solyc10g076190.1</th>\n",
       "      <th>chromosome 10:59045991-59047132</th>\n",
       "      <th>Solyc10g076190.1</th>\n",
       "      <th>PGSC0003DMG400011948</th>\n",
       "      <td>chromosome 00:22142391-22143721:1</td>\n",
       "    </tr>\n",
       "    <tr>\n",
       "      <th rowspan=\"2\" valign=\"top\">Solyc10g076200.1</th>\n",
       "      <th rowspan=\"2\" valign=\"top\">chromosome 10:59051770-59052216</th>\n",
       "      <th rowspan=\"2\" valign=\"top\">Solyc10g076200.1</th>\n",
       "      <th>PGSC0003DMG400011955</th>\n",
       "      <td>chromosome 00:22145065-22146428:-1</td>\n",
       "    </tr>\n",
       "    <tr>\n",
       "      <th>PGSC0003DMG400040954</th>\n",
       "      <td>chromosome 10:49170543-49171657:1</td>\n",
       "    </tr>\n",
       "    <tr>\n",
       "      <th rowspan=\"2\" valign=\"top\">Solyc10g076210.1</th>\n",
       "      <th rowspan=\"2\" valign=\"top\">chromosome 10:59054478-59055612</th>\n",
       "      <th rowspan=\"2\" valign=\"top\">Solyc10g076210.1</th>\n",
       "      <th>PGSC0003DMG400020800</th>\n",
       "      <td>chromosome 10:49084193-49085040:-1</td>\n",
       "    </tr>\n",
       "    <tr>\n",
       "      <th>PGSC0003DMG400020799</th>\n",
       "      <td>chromosome 10:49151461-49152451:-1</td>\n",
       "    </tr>\n",
       "    <tr>\n",
       "      <th rowspan=\"2\" valign=\"top\">Solyc10g076220.1</th>\n",
       "      <th rowspan=\"2\" valign=\"top\">chromosome 10:59059828-59060961</th>\n",
       "      <th rowspan=\"2\" valign=\"top\">Solyc10g076220.1</th>\n",
       "      <th>PGSC0003DMG400020800</th>\n",
       "      <td>chromosome 10:49084193-49085040:-1</td>\n",
       "    </tr>\n",
       "    <tr>\n",
       "      <th>PGSC0003DMG400020799</th>\n",
       "      <td>chromosome 10:49151461-49152451:-1</td>\n",
       "    </tr>\n",
       "    <tr>\n",
       "      <th>Solyc10g076230.1</th>\n",
       "      <th>chromosome 10:59074041-59074647</th>\n",
       "      <th>Solyc10g076230.1</th>\n",
       "      <th>PGSC0003DMG400020798</th>\n",
       "      <td>chromosome 10:49172630-49173264:-1</td>\n",
       "    </tr>\n",
       "  </tbody>\n",
       "</table>\n",
       "</div>"
      ],
      "text/plain": [
       "                                                                                                         ortholog_location\n",
       "gene_id          location                        ensembl_gene_id  ortholog_gene_id                                        \n",
       "Solyc10g076170.1 chromosome 10:58981351-58981887 Solyc10g076170.1 NaN                   None                              \n",
       "Solyc10g076180.1 chromosome 10:59006329-59007294 Solyc10g076180.1 NaN                   None                              \n",
       "Solyc10g076190.1 chromosome 10:59045991-59047132 Solyc10g076190.1 PGSC0003DMG400011948  chromosome 00:22142391-22143721:1 \n",
       "Solyc10g076200.1 chromosome 10:59051770-59052216 Solyc10g076200.1 PGSC0003DMG400011955  chromosome 00:22145065-22146428:-1\n",
       "                                                                  PGSC0003DMG400040954  chromosome 10:49170543-49171657:1 \n",
       "Solyc10g076210.1 chromosome 10:59054478-59055612 Solyc10g076210.1 PGSC0003DMG400020800  chromosome 10:49084193-49085040:-1\n",
       "                                                                  PGSC0003DMG400020799  chromosome 10:49151461-49152451:-1\n",
       "Solyc10g076220.1 chromosome 10:59059828-59060961 Solyc10g076220.1 PGSC0003DMG400020800  chromosome 10:49084193-49085040:-1\n",
       "                                                                  PGSC0003DMG400020799  chromosome 10:49151461-49152451:-1\n",
       "Solyc10g076230.1 chromosome 10:59074041-59074647 Solyc10g076230.1 PGSC0003DMG400020798  chromosome 10:49172630-49173264:-1"
      ]
     },
     "metadata": {},
     "output_type": "display_data"
    }
   ],
   "source": [
    "#df2=genesT[[\"location\",\"ortholog_gene_id\",\"ortholog_location\"]].groupby([\"gene_id\"])\n",
    "#df2.describe()\n",
    "import pandas as pd\n",
    "index=pd.MultiIndex.from_tuples([tuple(x) for x in genesT[[\"location\",\"ensembl_gene_id\", \"ortholog_gene_id\"]].to_records()], names=[\"gene_id\", \"location\", \"ensembl_gene_id\", \"ortholog_gene_id\"])\n",
    "display(genesT.set_index(index)[[\"ortholog_location\"]])             "
   ]
  },
  {
   "cell_type": "markdown",
   "metadata": {},
   "source": [
    "### Chromosomes for orthologs\n",
    "Chromosomes containing the found orthologs"
   ]
  },
  {
   "cell_type": "code",
   "execution_count": 6,
   "metadata": {},
   "outputs": [
    {
     "data": {
      "text/html": [
       "<div>\n",
       "<style scoped>\n",
       "    .dataframe tbody tr th:only-of-type {\n",
       "        vertical-align: middle;\n",
       "    }\n",
       "\n",
       "    .dataframe tbody tr th {\n",
       "        vertical-align: top;\n",
       "    }\n",
       "\n",
       "    .dataframe thead tr th {\n",
       "        text-align: left;\n",
       "    }\n",
       "\n",
       "    .dataframe thead tr:last-of-type th {\n",
       "        text-align: right;\n",
       "    }\n",
       "</style>\n",
       "<table border=\"1\" class=\"dataframe\">\n",
       "  <thead>\n",
       "    <tr>\n",
       "      <th></th>\n",
       "      <th>ortholog_gene_id</th>\n",
       "    </tr>\n",
       "    <tr>\n",
       "      <th></th>\n",
       "      <th>nunique</th>\n",
       "    </tr>\n",
       "    <tr>\n",
       "      <th>ortholog_begin_ref</th>\n",
       "      <th></th>\n",
       "    </tr>\n",
       "  </thead>\n",
       "  <tbody>\n",
       "    <tr>\n",
       "      <th>http://rdf.ebi.ac.uk/resource/ensembl/33/solanum_tuberosum/SolTub_3.0/00</th>\n",
       "      <td>2</td>\n",
       "    </tr>\n",
       "    <tr>\n",
       "      <th>http://rdf.ebi.ac.uk/resource/ensembl/33/solanum_tuberosum/SolTub_3.0/10</th>\n",
       "      <td>4</td>\n",
       "    </tr>\n",
       "  </tbody>\n",
       "</table>\n",
       "</div>"
      ],
      "text/plain": [
       "                                                                         ortholog_gene_id\n",
       "                                                                                  nunique\n",
       "ortholog_begin_ref                                                                       \n",
       "http://rdf.ebi.ac.uk/resource/ensembl/33/solanum_tuberosum/SolTub_3.0/00  2              \n",
       "http://rdf.ebi.ac.uk/resource/ensembl/33/solanum_tuberosum/SolTub_3.0/10  4              "
      ]
     },
     "metadata": {},
     "output_type": "display_data"
    }
   ],
   "source": [
    "kauraggregations = {\"ortholog_begin_pos\" : [\"min\",\"max\"], \"ortholog_end_pos\" : [\"min\",\"max\"]}\n",
    "display(genesT.groupby([\"ortholog_begin_ref\"]).agg(aggregations))"
   ]
  },
  {
   "cell_type": "markdown",
   "metadata": {},
   "source": [
    "### Diagram crosslinks\n",
    "Create a diagram with crosslinks between found genes and orthologs"
   ]
  },
  {
   "cell_type": "code",
   "execution_count": 7,
   "metadata": {},
   "outputs": [
    {
     "data": {
      "image/svg+xml": [
       "<svg fill-rule=\"evenodd\" height=\"595.2755905511812\" preserveAspectRatio=\"xMinYMin meet\" version=\"1.0\" viewBox=\"0 0 841 595\" width=\"841.8897637795277\" xmlns=\"http://www.w3.org/2000/svg\" xmlns:xlink=\"http://www.w3.org/1999/xlink\">\n",
       "\t<title>...</title>\n",
       "\t<desc>...</desc>\n",
       "\t<clipPath id=\"clip\">\n",
       "\t\t<rect height=\"595.2755905511812\" width=\"841.8897637795277\" x=\"0\" y=\"0\"/>\n",
       "\t</clipPath>\n",
       "\t<g id=\"group\" style=\"clip-path: url(#clip)\" transform=\"scale(1,-1) translate(0,-595)\">\n",
       "\t\t<g transform=\"\">\n",
       "\t\t\t<polygon points=\"42.09449 76.64173, 483.7792 76.64173, 483.7792 197.185, 42.09449 197.185\" style=\"stroke: rgb(96%,96%,96%); stroke-linecap: butt; stroke-width: 1; fill: rgb(96%,96%,96%);\"/>\n",
       "\t\t\t<polygon points=\"42.09449 237.3661, 139.4327 237.3661, 139.4327 357.9094, 42.09449 357.9094\" style=\"stroke: rgb(96%,96%,96%); stroke-linecap: butt; stroke-width: 1; fill: rgb(96%,96%,96%);\"/>\n",
       "\t\t\t<polygon points=\"42.09449 398.0906, 799.7912 398.0906, 799.7912 518.6339, 42.09449 518.6339\" style=\"stroke: rgb(96%,96%,96%); stroke-linecap: butt; stroke-width: 1; fill: rgb(96%,96%,96%);\"/>\n",
       "\t\t\t<polygon points=\"649.9632 398.0906, 654.5837 398.0906, 87.9755 357.9094, 82.58964 357.9094\" style=\"stroke: rgb(50%,50%,50%); stroke-linecap: round; stroke-width: 1; fill: rgb(82%,82%,82%);\"/>\n",
       "\t\t\t<polygon points=\"673.3654 398.0906, 675.1714 398.0906, 98.93754 357.9094, 93.41805 357.9094\" style=\"stroke: rgb(50%,50%,50%); stroke-linecap: round; stroke-width: 1; fill: rgb(82%,82%,82%);\"/>\n",
       "\t\t\t<polygon points=\"649.9632 398.0906, 654.5837 398.0906, 87.9755 357.9094, 82.58964 357.9094\" style=\"stroke: rgb(50%,50%,50%); stroke-linecap: round; stroke-width: 1; fill: rgb(82%,82%,82%);\"/>\n",
       "\t\t\t<polygon points=\"673.3654 398.0906, 675.1714 398.0906, 98.93754 357.9094, 93.41805 357.9094\" style=\"stroke: rgb(50%,50%,50%); stroke-linecap: round; stroke-width: 1; fill: rgb(82%,82%,82%);\"/>\n",
       "\t\t\t<polygon points=\"763.5521 398.0906, 766.0061 398.0906, 443.284 197.185, 440.7166 197.185\" style=\"stroke: rgb(50%,50%,50%); stroke-linecap: round; stroke-width: 1; fill: rgb(82%,82%,82%);\"/>\n",
       "\t\t\t<polygon points=\"684.3314 398.0906, 688.9236 398.0906, 359.0015 197.185, 354.9924 197.185\" style=\"stroke: rgb(50%,50%,50%); stroke-linecap: round; stroke-width: 1; fill: rgb(82%,82%,82%);\"/>\n",
       "\t\t\t<polygon points=\"684.3314 398.0906, 688.9236 398.0906, 86.01958 197.185, 82.58964 197.185\" style=\"stroke: rgb(50%,50%,50%); stroke-linecap: round; stroke-width: 1; fill: rgb(82%,82%,82%);\"/>\n",
       "\t\t\t<polygon points=\"673.3654 398.0906, 675.1714 398.0906, 436.7765 197.185, 432.2653 197.185\" style=\"stroke: rgb(50%,50%,50%); stroke-linecap: round; stroke-width: 1; fill: rgb(82%,82%,82%);\"/>\n",
       "\t\t\t<polygon points=\"673.3654 398.0906, 675.1714 398.0906, 436.7765 197.185, 432.2653 197.185\" style=\"stroke: rgb(50%,50%,50%); stroke-linecap: round; stroke-width: 1; fill: rgb(82%,82%,82%);\"/>\n",
       "\t\t\t<polygon points=\"684.3314 398.0906, 688.9236 398.0906, 86.01958 197.185, 82.58964 197.185\" style=\"stroke: rgb(50%,50%,50%); stroke-linecap: round; stroke-width: 1; fill: rgb(82%,82%,82%);\"/>\n",
       "\t\t\t<polygon points=\"705.9963 398.0906, 710.5845 398.0906, 86.01958 197.185, 82.58964 197.185\" style=\"stroke: rgb(50%,50%,50%); stroke-linecap: round; stroke-width: 1; fill: rgb(82%,82%,82%);\"/>\n",
       "\t\t\t<polygon points=\"763.5521 398.0906, 766.0061 398.0906, 443.284 197.185, 440.7166 197.185\" style=\"stroke: rgb(50%,50%,50%); stroke-linecap: round; stroke-width: 1; fill: rgb(82%,82%,82%);\"/>\n",
       "\t\t\t<polygon points=\"440.7166 76.64173, 443.284 76.64173, 443.284 136.9134, 440.7166 136.9134\" style=\"stroke: rgb(100%,0%,0%); stroke-linecap: butt; stroke-width: 1; fill: rgb(100%,0%,0%);\"/>\n",
       "\t\t\t<polygon points=\"354.9924 76.64173, 359.0015 76.64173, 359.0015 136.9134, 354.9924 136.9134\" style=\"stroke: rgb(100%,0%,0%); stroke-linecap: butt; stroke-width: 1; fill: rgb(100%,0%,0%);\"/>\n",
       "\t\t\t<polygon points=\"82.58964 76.64173, 86.01958 76.64173, 86.01958 136.9134, 82.58964 136.9134\" style=\"stroke: rgb(100%,0%,0%); stroke-linecap: butt; stroke-width: 1; fill: rgb(100%,0%,0%);\"/>\n",
       "\t\t\t<polygon points=\"432.2653 136.9134, 436.7765 136.9134, 436.7765 197.185, 432.2653 197.185\" style=\"stroke: rgb(100%,0%,0%); stroke-linecap: butt; stroke-width: 1; fill: rgb(100%,0%,0%);\"/>\n",
       "\t\t\t<polygon points=\"82.58964 297.6378, 87.9755 297.6378, 87.9755 357.9094, 82.58964 357.9094\" style=\"stroke: rgb(100%,0%,0%); stroke-linecap: butt; stroke-width: 1; fill: rgb(100%,0%,0%);\"/>\n",
       "\t\t\t<polygon points=\"93.41805 237.3661, 98.93754 237.3661, 98.93754 297.6378, 93.41805 297.6378\" style=\"stroke: rgb(100%,0%,0%); stroke-linecap: butt; stroke-width: 1; fill: rgb(100%,0%,0%);\"/>\n",
       "\t\t\t<polygon points=\"388.2025 458.3622, 390.3731 458.3622, 390.3731 518.6339, 388.2025 518.6339\" style=\"stroke: rgb(0%,0%,100%); stroke-linecap: butt; stroke-width: 1; fill: rgb(0%,0%,100%);\"/>\n",
       "\t\t\t<polygon points=\"489.3513 458.3622, 493.2591 458.3622, 493.2591 518.6339, 489.3513 518.6339\" style=\"stroke: rgb(0%,0%,100%); stroke-linecap: butt; stroke-width: 1; fill: rgb(0%,0%,100%);\"/>\n",
       "\t\t\t<polygon points=\"649.9632 398.0906, 654.5837 398.0906, 654.5837 458.3622, 649.9632 458.3622\" style=\"stroke: rgb(0%,0%,100%); stroke-linecap: butt; stroke-width: 1; fill: rgb(0%,0%,100%);\"/>\n",
       "\t\t\t<polygon points=\"673.3654 458.3622, 675.1714 458.3622, 675.1714 518.6339, 673.3654 518.6339\" style=\"stroke: rgb(0%,0%,100%); stroke-linecap: butt; stroke-width: 1; fill: rgb(0%,0%,100%);\"/>\n",
       "\t\t\t<polygon points=\"684.3314 398.0906, 688.9236 398.0906, 688.9236 458.3622, 684.3314 458.3622\" style=\"stroke: rgb(0%,0%,100%); stroke-linecap: butt; stroke-width: 1; fill: rgb(0%,0%,100%);\"/>\n",
       "\t\t\t<polygon points=\"705.9963 398.0906, 710.5845 398.0906, 710.5845 458.3622, 705.9963 458.3622\" style=\"stroke: rgb(0%,0%,100%); stroke-linecap: butt; stroke-width: 1; fill: rgb(0%,0%,100%);\"/>\n",
       "\t\t\t<polygon points=\"763.5521 398.0906, 766.0061 398.0906, 766.0061 458.3622, 763.5521 458.3622\" style=\"stroke: rgb(0%,0%,100%); stroke-linecap: butt; stroke-width: 1; fill: rgb(0%,0%,100%);\"/>\n",
       "\t\t\t<path d=\"M 483.779188,76.641732 L 483.779188,197.185039 Z\" style=\"stroke: rgb(0%,0%,0%); stroke-linecap: butt; stroke-width: 1;\"/>\n",
       "\t\t\t<path d=\"M 42.094488,136.913386 L 483.779188,136.913386 Z\" style=\"stroke: rgb(0%,0%,0%); stroke-linecap: butt; stroke-width: 1;\"/>\n",
       "\t\t\t<path d=\"M 42.094488,76.641732 L 42.094488,197.185039 Z\" style=\"stroke: rgb(0%,0%,0%); stroke-linecap: butt; stroke-width: 1;\"/>\n",
       "\t\t\t<path d=\"M 139.432691,237.366142 L 139.432691,357.909449 Z\" style=\"stroke: rgb(0%,0%,0%); stroke-linecap: butt; stroke-width: 1;\"/>\n",
       "\t\t\t<path d=\"M 42.094488,297.637795 L 139.432691,297.637795 Z\" style=\"stroke: rgb(0%,0%,0%); stroke-linecap: butt; stroke-width: 1;\"/>\n",
       "\t\t\t<path d=\"M 42.094488,237.366142 L 42.094488,357.909449 Z\" style=\"stroke: rgb(0%,0%,0%); stroke-linecap: butt; stroke-width: 1;\"/>\n",
       "\t\t\t<path d=\"M 799.791226,398.090551 L 799.791226,518.633858 Z\" style=\"stroke: rgb(0%,0%,0%); stroke-linecap: butt; stroke-width: 1;\"/>\n",
       "\t\t\t<path d=\"M 42.094488,458.362205 L 799.791226,458.362205 Z\" style=\"stroke: rgb(0%,0%,0%); stroke-linecap: butt; stroke-width: 1;\"/>\n",
       "\t\t\t<path d=\"M 42.094488,398.090551 L 42.094488,518.633858 Z\" style=\"stroke: rgb(0%,0%,0%); stroke-linecap: butt; stroke-width: 1;\"/>\n",
       "\t\t\t<path d=\"M 463.721938,458.362205 L 463.721938,488.498031 Z\" style=\"stroke: rgb(0%,0%,0%); stroke-linecap: butt; stroke-width: 1;\"/>\n",
       "\t\t\t<path d=\"M 58.770393,458.362205 L 58.770393,476.443701 Z\" style=\"stroke: rgb(0%,0%,0%); stroke-linecap: butt; stroke-width: 1;\"/>\n",
       "\t\t\t<path d=\"M 99.265547,458.362205 L 99.265547,476.443701 Z\" style=\"stroke: rgb(0%,0%,0%); stroke-linecap: butt; stroke-width: 1;\"/>\n",
       "\t\t\t<path d=\"M 139.760702,458.362205 L 139.760702,476.443701 Z\" style=\"stroke: rgb(0%,0%,0%); stroke-linecap: butt; stroke-width: 1;\"/>\n",
       "\t\t\t<path d=\"M 180.255857,458.362205 L 180.255857,476.443701 Z\" style=\"stroke: rgb(0%,0%,0%); stroke-linecap: butt; stroke-width: 1;\"/>\n",
       "\t\t\t<path d=\"M 220.751011,458.362205 L 220.751011,476.443701 Z\" style=\"stroke: rgb(0%,0%,0%); stroke-linecap: butt; stroke-width: 1;\"/>\n",
       "\t\t\t<path d=\"M 261.246166,458.362205 L 261.246166,476.443701 Z\" style=\"stroke: rgb(0%,0%,0%); stroke-linecap: butt; stroke-width: 1;\"/>\n",
       "\t\t\t<path d=\"M 301.741320,458.362205 L 301.741320,476.443701 Z\" style=\"stroke: rgb(0%,0%,0%); stroke-linecap: butt; stroke-width: 1;\"/>\n",
       "\t\t\t<path d=\"M 342.236475,458.362205 L 342.236475,476.443701 Z\" style=\"stroke: rgb(0%,0%,0%); stroke-linecap: butt; stroke-width: 1;\"/>\n",
       "\t\t\t<path d=\"M 382.731629,458.362205 L 382.731629,476.443701 Z\" style=\"stroke: rgb(0%,0%,0%); stroke-linecap: butt; stroke-width: 1;\"/>\n",
       "\t\t\t<path d=\"M 423.226784,458.362205 L 423.226784,476.443701 Z\" style=\"stroke: rgb(0%,0%,0%); stroke-linecap: butt; stroke-width: 1;\"/>\n",
       "\t\t\t<path d=\"M 463.721938,458.362205 L 463.721938,476.443701 Z\" style=\"stroke: rgb(0%,0%,0%); stroke-linecap: butt; stroke-width: 1;\"/>\n",
       "\t\t\t<path d=\"M 504.217093,458.362205 L 504.217093,476.443701 Z\" style=\"stroke: rgb(0%,0%,0%); stroke-linecap: butt; stroke-width: 1;\"/>\n",
       "\t\t\t<path d=\"M 544.712248,458.362205 L 544.712248,476.443701 Z\" style=\"stroke: rgb(0%,0%,0%); stroke-linecap: butt; stroke-width: 1;\"/>\n",
       "\t\t\t<path d=\"M 585.207402,458.362205 L 585.207402,476.443701 Z\" style=\"stroke: rgb(0%,0%,0%); stroke-linecap: butt; stroke-width: 1;\"/>\n",
       "\t\t\t<path d=\"M 625.702557,458.362205 L 625.702557,476.443701 Z\" style=\"stroke: rgb(0%,0%,0%); stroke-linecap: butt; stroke-width: 1;\"/>\n",
       "\t\t\t<path d=\"M 666.197711,458.362205 L 666.197711,476.443701 Z\" style=\"stroke: rgb(0%,0%,0%); stroke-linecap: butt; stroke-width: 1;\"/>\n",
       "\t\t\t<path d=\"M 706.692866,458.362205 L 706.692866,476.443701 Z\" style=\"stroke: rgb(0%,0%,0%); stroke-linecap: butt; stroke-width: 1;\"/>\n",
       "\t\t\t<path d=\"M 747.188020,458.362205 L 747.188020,476.443701 Z\" style=\"stroke: rgb(0%,0%,0%); stroke-linecap: butt; stroke-width: 1;\"/>\n",
       "\t\t\t<path d=\"M 787.683175,458.362205 L 787.683175,476.443701 Z\" style=\"stroke: rgb(0%,0%,0%); stroke-linecap: butt; stroke-width: 1;\"/>\n",
       "\t\t\t<g transform=\" matrix(0.707107,0.707107,-0.707107,0.707107,463.721938,488.498031)\">\n",
       "\t\t\t\t<text style=\"font-family: Helvetica; font-size: 6px; fill: rgb(0%,0%,0%);\" transform=\"translate(0,0) scale(1,-1)\" x=\"0\" y=\"0\">59000000</text>\n",
       "\t\t\t</g>\n",
       "\t\t\t<g transform=\" matrix(-0.707107,-0.707107,0.707107,-0.707107,443.284034,76.641732)\">\n",
       "\t\t\t\t<text style=\"font-family: Helvetica; font-size: 6px; fill: rgb(0%,0%,0%);\" transform=\"translate(0,0) scale(1,-1)\" x=\"0\" y=\"0\">PGSC0003DMG400020798</text>\n",
       "\t\t\t</g>\n",
       "\t\t\t<g transform=\" matrix(-0.707107,-0.707107,0.707107,-0.707107,359.001469,76.641732)\">\n",
       "\t\t\t\t<text style=\"font-family: Helvetica; font-size: 6px; fill: rgb(0%,0%,0%);\" transform=\"translate(0,0) scale(1,-1)\" x=\"0\" y=\"0\">PGSC0003DMG400020799</text>\n",
       "\t\t\t</g>\n",
       "\t\t\t<g transform=\" matrix(-0.707107,-0.707107,0.707107,-0.707107,86.019582,76.641732)\">\n",
       "\t\t\t\t<text style=\"font-family: Helvetica; font-size: 6px; fill: rgb(0%,0%,0%);\" transform=\"translate(0,0) scale(1,-1)\" x=\"0\" y=\"0\">PGSC0003DMG400020800</text>\n",
       "\t\t\t</g>\n",
       "\t\t\t<g transform=\" matrix(0.707107,0.707107,-0.707107,0.707107,432.265302,197.185039)\">\n",
       "\t\t\t\t<text style=\"font-family: Helvetica; font-size: 6px; fill: rgb(0%,0%,0%);\" transform=\"translate(0,0) scale(1,-1)\" x=\"0\" y=\"0\">PGSC0003DMG400040954</text>\n",
       "\t\t\t</g>\n",
       "\t\t\t<g transform=\" matrix(0.707107,0.707107,-0.707107,0.707107,82.589643,357.909449)\">\n",
       "\t\t\t\t<text style=\"font-family: Helvetica; font-size: 6px; fill: rgb(0%,0%,0%);\" transform=\"translate(0,0) scale(1,-1)\" x=\"0\" y=\"0\">PGSC0003DMG400011948</text>\n",
       "\t\t\t</g>\n",
       "\t\t\t<g transform=\" matrix(-0.707107,-0.707107,0.707107,-0.707107,98.937537,237.366142)\">\n",
       "\t\t\t\t<text style=\"font-family: Helvetica; font-size: 6px; fill: rgb(0%,0%,0%);\" transform=\"translate(0,0) scale(1,-1)\" x=\"0\" y=\"0\">PGSC0003DMG400011955</text>\n",
       "\t\t\t</g>\n",
       "\t\t\t<g transform=\" matrix(0.707107,0.707107,-0.707107,0.707107,388.202525,518.633858)\">\n",
       "\t\t\t\t<text style=\"font-family: Helvetica; font-size: 6px; fill: rgb(0%,0%,0%);\" transform=\"translate(0,0) scale(1,-1)\" x=\"0\" y=\"0\">Solyc10g076170.1</text>\n",
       "\t\t\t</g>\n",
       "\t\t\t<g transform=\" matrix(0.707107,0.707107,-0.707107,0.707107,489.351322,518.633858)\">\n",
       "\t\t\t\t<text style=\"font-family: Helvetica; font-size: 6px; fill: rgb(0%,0%,0%);\" transform=\"translate(0,0) scale(1,-1)\" x=\"0\" y=\"0\">Solyc10g076180.1</text>\n",
       "\t\t\t</g>\n",
       "\t\t\t<g transform=\" matrix(-0.707107,-0.707107,0.707107,-0.707107,654.583701,398.090551)\">\n",
       "\t\t\t\t<text style=\"font-family: Helvetica; font-size: 6px; fill: rgb(0%,0%,0%);\" transform=\"translate(0,0) scale(1,-1)\" x=\"0\" y=\"0\">Solyc10g076190.1</text>\n",
       "\t\t\t</g>\n",
       "\t\t\t<g transform=\" matrix(0.707107,0.707107,-0.707107,0.707107,673.365354,518.633858)\">\n",
       "\t\t\t\t<text style=\"font-family: Helvetica; font-size: 6px; fill: rgb(0%,0%,0%);\" transform=\"translate(0,0) scale(1,-1)\" x=\"0\" y=\"0\">Solyc10g076200.1</text>\n",
       "\t\t\t</g>\n",
       "\t\t\t<g transform=\" matrix(-0.707107,-0.707107,0.707107,-0.707107,688.923592,398.090551)\">\n",
       "\t\t\t\t<text style=\"font-family: Helvetica; font-size: 6px; fill: rgb(0%,0%,0%);\" transform=\"translate(0,0) scale(1,-1)\" x=\"0\" y=\"0\">Solyc10g076210.1</text>\n",
       "\t\t\t</g>\n",
       "\t\t\t<g transform=\" matrix(-0.707107,-0.707107,0.707107,-0.707107,710.584450,398.090551)\">\n",
       "\t\t\t\t<text style=\"font-family: Helvetica; font-size: 6px; fill: rgb(0%,0%,0%);\" transform=\"translate(0,0) scale(1,-1)\" x=\"0\" y=\"0\">Solyc10g076220.1</text>\n",
       "\t\t\t</g>\n",
       "\t\t\t<g transform=\" matrix(-0.707107,-0.707107,0.707107,-0.707107,766.006119,398.090551)\">\n",
       "\t\t\t\t<text style=\"font-family: Helvetica; font-size: 6px; fill: rgb(0%,0%,0%);\" transform=\"translate(0,0) scale(1,-1)\" x=\"0\" y=\"0\">Solyc10g076230.1</text>\n",
       "\t\t\t</g>\n",
       "\t\t\t<g transform=\" matrix(1.000000,0.000000,-0.000000,1.000000,42.000000,76.641732)\">\n",
       "\t\t\t\t<text style=\"font-family: Helvetica; font-size: 8px; fill: rgb(60%,60%,60%);\" transform=\"translate(0,0) scale(1,-1)\" x=\"0\" y=\"0\">potato</text>\n",
       "\t\t\t</g>\n",
       "\t\t\t<g transform=\" matrix(1.000000,0.000000,-0.000000,1.000000,193.000000,76.641732)\">\n",
       "\t\t\t\t<text style=\"font-family: Helvetica; font-size: 8px; fill: rgb(60%,60%,60%);\" transform=\"translate(0,0) scale(1,-1)\" x=\"0\" y=\"0\">potato</text>\n",
       "\t\t\t</g>\n",
       "\t\t\t<g transform=\" matrix(1.000000,0.000000,-0.000000,1.000000,344.000000,76.641732)\">\n",
       "\t\t\t\t<text style=\"font-family: Helvetica; font-size: 8px; fill: rgb(60%,60%,60%);\" transform=\"translate(0,0) scale(1,-1)\" x=\"0\" y=\"0\">potato</text>\n",
       "\t\t\t</g>\n",
       "\t\t\t<g transform=\" matrix(1.000000,0.000000,-0.000000,1.000000,42.000000,237.366142)\">\n",
       "\t\t\t\t<text style=\"font-family: Helvetica; font-size: 8px; fill: rgb(60%,60%,60%);\" transform=\"translate(0,0) scale(1,-1)\" x=\"0\" y=\"0\">potato</text>\n",
       "\t\t\t</g>\n",
       "\t\t\t<g transform=\" matrix(1.000000,0.000000,-0.000000,1.000000,42.000000,398.090551)\">\n",
       "\t\t\t\t<text style=\"font-family: Helvetica; font-size: 8px; fill: rgb(60%,60%,60%);\" transform=\"translate(0,0) scale(1,-1)\" x=\"0\" y=\"0\">tomato</text>\n",
       "\t\t\t</g>\n",
       "\t\t\t<g transform=\" matrix(1.000000,0.000000,-0.000000,1.000000,193.000000,398.090551)\">\n",
       "\t\t\t\t<text style=\"font-family: Helvetica; font-size: 8px; fill: rgb(60%,60%,60%);\" transform=\"translate(0,0) scale(1,-1)\" x=\"0\" y=\"0\">tomato</text>\n",
       "\t\t\t</g>\n",
       "\t\t\t<g transform=\" matrix(1.000000,0.000000,-0.000000,1.000000,344.000000,398.090551)\">\n",
       "\t\t\t\t<text style=\"font-family: Helvetica; font-size: 8px; fill: rgb(60%,60%,60%);\" transform=\"translate(0,0) scale(1,-1)\" x=\"0\" y=\"0\">tomato</text>\n",
       "\t\t\t</g>\n",
       "\t\t\t<g transform=\" matrix(1.000000,0.000000,-0.000000,1.000000,495.000000,398.090551)\">\n",
       "\t\t\t\t<text style=\"font-family: Helvetica; font-size: 8px; fill: rgb(60%,60%,60%);\" transform=\"translate(0,0) scale(1,-1)\" x=\"0\" y=\"0\">tomato</text>\n",
       "\t\t\t</g>\n",
       "\t\t\t<g transform=\" matrix(1.000000,0.000000,-0.000000,1.000000,646.000000,398.090551)\">\n",
       "\t\t\t\t<text style=\"font-family: Helvetica; font-size: 8px; fill: rgb(60%,60%,60%);\" transform=\"translate(0,0) scale(1,-1)\" x=\"0\" y=\"0\">tomato</text>\n",
       "\t\t\t</g>\n",
       "\t\t</g>\n",
       "\t</g>\n",
       "</svg>"
      ],
      "text/plain": [
       "<IPython.core.display.SVG object>"
      ]
     },
     "execution_count": 7,
     "metadata": {},
     "output_type": "execute_result"
    }
   ],
   "source": [
    "genesTdiagram = search.diagram_crosslinks(\"tomato\", \"potato\", intervalT, genesT)\n",
    "tmpFilename = \"tomato_\"+pg1+\"-\"+pg2+\"_crosslinks.svg\"\n",
    "genesTdiagram.write(tmpFilename, \"svg\")\n",
    "SVG(tmpFilename)"
   ]
  },
  {
   "cell_type": "markdown",
   "metadata": {},
   "source": [
    "## Potato\n",
    "### Find interval\n",
    "Find locations for genes, and compute interval"
   ]
  },
  {
   "cell_type": "code",
   "execution_count": 8,
   "metadata": {},
   "outputs": [
    {
     "data": {
      "text/html": [
       "<div>\n",
       "<style scoped>\n",
       "    .dataframe tbody tr th:only-of-type {\n",
       "        vertical-align: middle;\n",
       "    }\n",
       "\n",
       "    .dataframe tbody tr th {\n",
       "        vertical-align: top;\n",
       "    }\n",
       "\n",
       "    .dataframe thead th {\n",
       "        text-align: right;\n",
       "    }\n",
       "</style>\n",
       "<table border=\"1\" class=\"dataframe\">\n",
       "  <thead>\n",
       "    <tr style=\"text-align: right;\">\n",
       "      <th></th>\n",
       "      <th>location</th>\n",
       "    </tr>\n",
       "    <tr>\n",
       "      <th>gene_id</th>\n",
       "      <th></th>\n",
       "    </tr>\n",
       "  </thead>\n",
       "  <tbody>\n",
       "    <tr>\n",
       "      <th>PGSC0003DMG400006678</th>\n",
       "      <td>chromosome 10:48978066-48982521</td>\n",
       "    </tr>\n",
       "    <tr>\n",
       "      <th>PGSC0003DMG400020801</th>\n",
       "      <td>chromosome 10:49258672-49260078</td>\n",
       "    </tr>\n",
       "  </tbody>\n",
       "</table>\n",
       "</div>"
      ],
      "text/plain": [
       "                                             location\n",
       "gene_id                                              \n",
       "PGSC0003DMG400006678  chromosome 10:48978066-48982521\n",
       "PGSC0003DMG400020801  chromosome 10:49258672-49260078"
      ]
     },
     "metadata": {},
     "output_type": "display_data"
    }
   ],
   "source": [
    "intervalP = search.compute_interval(pg1, pg2)"
   ]
  },
  {
   "cell_type": "markdown",
   "metadata": {},
   "source": [
    "### Find genes and orthologs\n",
    "Find genes and orthologs for interval"
   ]
  },
  {
   "cell_type": "code",
   "execution_count": 9,
   "metadata": {},
   "outputs": [
    {
     "data": {
      "text/html": [
       "<div>\n",
       "<style scoped>\n",
       "    .dataframe tbody tr th:only-of-type {\n",
       "        vertical-align: middle;\n",
       "    }\n",
       "\n",
       "    .dataframe tbody tr th {\n",
       "        vertical-align: top;\n",
       "    }\n",
       "\n",
       "    .dataframe thead tr th {\n",
       "        text-align: left;\n",
       "    }\n",
       "\n",
       "    .dataframe thead tr:last-of-type th {\n",
       "        text-align: right;\n",
       "    }\n",
       "</style>\n",
       "<table border=\"1\" class=\"dataframe\">\n",
       "  <thead>\n",
       "    <tr>\n",
       "      <th></th>\n",
       "      <th>ensembl_gene_id</th>\n",
       "      <th>ortholog_gene_id</th>\n",
       "    </tr>\n",
       "    <tr>\n",
       "      <th></th>\n",
       "      <th>nunique</th>\n",
       "      <th>nunique</th>\n",
       "    </tr>\n",
       "    <tr>\n",
       "      <th>gene_id</th>\n",
       "      <th></th>\n",
       "      <th></th>\n",
       "    </tr>\n",
       "  </thead>\n",
       "  <tbody>\n",
       "    <tr>\n",
       "      <th>Solyc10g076170.1</th>\n",
       "      <td>1</td>\n",
       "      <td>0</td>\n",
       "    </tr>\n",
       "    <tr>\n",
       "      <th>Solyc10g076180.1</th>\n",
       "      <td>1</td>\n",
       "      <td>0</td>\n",
       "    </tr>\n",
       "    <tr>\n",
       "      <th>Solyc10g076190.1</th>\n",
       "      <td>1</td>\n",
       "      <td>1</td>\n",
       "    </tr>\n",
       "    <tr>\n",
       "      <th>Solyc10g076200.1</th>\n",
       "      <td>1</td>\n",
       "      <td>2</td>\n",
       "    </tr>\n",
       "    <tr>\n",
       "      <th>Solyc10g076210.1</th>\n",
       "      <td>1</td>\n",
       "      <td>2</td>\n",
       "    </tr>\n",
       "    <tr>\n",
       "      <th>Solyc10g076220.1</th>\n",
       "      <td>1</td>\n",
       "      <td>2</td>\n",
       "    </tr>\n",
       "    <tr>\n",
       "      <th>Solyc10g076230.1</th>\n",
       "      <td>1</td>\n",
       "      <td>1</td>\n",
       "    </tr>\n",
       "  </tbody>\n",
       "</table>\n",
       "</div>"
      ],
      "text/plain": [
       "                 ensembl_gene_id ortholog_gene_id\n",
       "                         nunique          nunique\n",
       "gene_id                                          \n",
       "Solyc10g076170.1  1               0              \n",
       "Solyc10g076180.1  1               0              \n",
       "Solyc10g076190.1  1               1              \n",
       "Solyc10g076200.1  1               2              \n",
       "Solyc10g076210.1  1               2              \n",
       "Solyc10g076220.1  1               2              \n",
       "Solyc10g076230.1  1               1              "
      ]
     },
     "metadata": {},
     "output_type": "display_data"
    }
   ],
   "source": [
    "genesP = search.interval_genes(intervalP)\n",
    "aggregations = {\"ensembl_gene_id\" : [\"nunique\"], \"ortholog_gene_id\" : [\"nunique\"]}\n",
    "display(genesT.groupby([\"gene_id\"]).agg(aggregations))"
   ]
  },
  {
   "cell_type": "markdown",
   "metadata": {},
   "source": [
    "### List orthologs\n",
    "List orthologs for the genes found in the interval"
   ]
  },
  {
   "cell_type": "code",
   "execution_count": 10,
   "metadata": {},
   "outputs": [
    {
     "data": {
      "text/html": [
       "<div>\n",
       "<style scoped>\n",
       "    .dataframe tbody tr th:only-of-type {\n",
       "        vertical-align: middle;\n",
       "    }\n",
       "\n",
       "    .dataframe tbody tr th {\n",
       "        vertical-align: top;\n",
       "    }\n",
       "\n",
       "    .dataframe thead th {\n",
       "        text-align: right;\n",
       "    }\n",
       "</style>\n",
       "<table border=\"1\" class=\"dataframe\">\n",
       "  <thead>\n",
       "    <tr style=\"text-align: right;\">\n",
       "      <th></th>\n",
       "      <th></th>\n",
       "      <th></th>\n",
       "      <th></th>\n",
       "      <th>ortholog_location</th>\n",
       "    </tr>\n",
       "    <tr>\n",
       "      <th>gene_id</th>\n",
       "      <th>location</th>\n",
       "      <th>ensembl_gene_id</th>\n",
       "      <th>ortholog_gene_id</th>\n",
       "      <th></th>\n",
       "    </tr>\n",
       "  </thead>\n",
       "  <tbody>\n",
       "    <tr>\n",
       "      <th>PGSC0003DMG400006679</th>\n",
       "      <th>chromosome 10:49022687-49023709</th>\n",
       "      <th>PGSC0003DMG400006679</th>\n",
       "      <th>NaN</th>\n",
       "      <td>None</td>\n",
       "    </tr>\n",
       "    <tr>\n",
       "      <th>PGSC0003DMG400006680</th>\n",
       "      <th>chromosome 10:49040786-49046010</th>\n",
       "      <th>PGSC0003DMG400006680</th>\n",
       "      <th>NaN</th>\n",
       "      <td>None</td>\n",
       "    </tr>\n",
       "    <tr>\n",
       "      <th>PGSC0003DMG400006681</th>\n",
       "      <th>chromosome 10:49064472-49065184</th>\n",
       "      <th>PGSC0003DMG400006681</th>\n",
       "      <th>NaN</th>\n",
       "      <td>None</td>\n",
       "    </tr>\n",
       "    <tr>\n",
       "      <th rowspan=\"2\" valign=\"top\">PGSC0003DMG400020800</th>\n",
       "      <th rowspan=\"2\" valign=\"top\">chromosome 10:49084193-49085040</th>\n",
       "      <th rowspan=\"2\" valign=\"top\">PGSC0003DMG400020800</th>\n",
       "      <th>Solyc10g076210.1</th>\n",
       "      <td>chromosome 10:59054478-59055612:-1</td>\n",
       "    </tr>\n",
       "    <tr>\n",
       "      <th>Solyc10g076220.1</th>\n",
       "      <td>chromosome 10:59059828-59060961:-1</td>\n",
       "    </tr>\n",
       "    <tr>\n",
       "      <th>PGSC0003DMG400045482</th>\n",
       "      <th>chromosome 10:49092329-49093552</th>\n",
       "      <th>PGSC0003DMG400045482</th>\n",
       "      <th>NaN</th>\n",
       "      <td>None</td>\n",
       "    </tr>\n",
       "    <tr>\n",
       "      <th rowspan=\"2\" valign=\"top\">PGSC0003DMG400040544</th>\n",
       "      <th rowspan=\"2\" valign=\"top\">chromosome 10:49108641-49111957</th>\n",
       "      <th rowspan=\"2\" valign=\"top\">PGSC0003DMG400040544</th>\n",
       "      <th>Solyc01g066890.1</th>\n",
       "      <td>chromosome 1:75142075-75142941:-1</td>\n",
       "    </tr>\n",
       "    <tr>\n",
       "      <th>Solyc07g041360.1</th>\n",
       "      <td>chromosome 7:52534390-52534818:-1</td>\n",
       "    </tr>\n",
       "    <tr>\n",
       "      <th rowspan=\"2\" valign=\"top\">PGSC0003DMG400020799</th>\n",
       "      <th rowspan=\"2\" valign=\"top\">chromosome 10:49151461-49152451</th>\n",
       "      <th rowspan=\"2\" valign=\"top\">PGSC0003DMG400020799</th>\n",
       "      <th>Solyc10g076210.1</th>\n",
       "      <td>chromosome 10:59054478-59055612:-1</td>\n",
       "    </tr>\n",
       "    <tr>\n",
       "      <th>Solyc10g076220.1</th>\n",
       "      <td>chromosome 10:59059828-59060961:-1</td>\n",
       "    </tr>\n",
       "    <tr>\n",
       "      <th>PGSC0003DMG400040954</th>\n",
       "      <th>chromosome 10:49170543-49171657</th>\n",
       "      <th>PGSC0003DMG400040954</th>\n",
       "      <th>Solyc10g076200.1</th>\n",
       "      <td>chromosome 10:59051770-59052216:1</td>\n",
       "    </tr>\n",
       "    <tr>\n",
       "      <th rowspan=\"2\" valign=\"top\">PGSC0003DMG400020798</th>\n",
       "      <th rowspan=\"2\" valign=\"top\">chromosome 10:49172630-49173264</th>\n",
       "      <th rowspan=\"2\" valign=\"top\">PGSC0003DMG400020798</th>\n",
       "      <th>Solyc10g076230.1</th>\n",
       "      <td>chromosome 10:59074041-59074647:-1</td>\n",
       "    </tr>\n",
       "    <tr>\n",
       "      <th>Solyc10g075120.1</th>\n",
       "      <td>chromosome 10:58847992-58848834:1</td>\n",
       "    </tr>\n",
       "    <tr>\n",
       "      <th>PGSC0003DMG400035649</th>\n",
       "      <th>chromosome 10:49174387-49174710</th>\n",
       "      <th>PGSC0003DMG400035649</th>\n",
       "      <th>NaN</th>\n",
       "      <td>None</td>\n",
       "    </tr>\n",
       "    <tr>\n",
       "      <th>PGSC0003DMG400020797</th>\n",
       "      <th>chromosome 10:49199138-49201970</th>\n",
       "      <th>PGSC0003DMG400020797</th>\n",
       "      <th>NaN</th>\n",
       "      <td>None</td>\n",
       "    </tr>\n",
       "    <tr>\n",
       "      <th>PGSC0003DMG400039458</th>\n",
       "      <th>chromosome 10:49235999-49240574</th>\n",
       "      <th>PGSC0003DMG400039458</th>\n",
       "      <th>NaN</th>\n",
       "      <td>None</td>\n",
       "    </tr>\n",
       "    <tr>\n",
       "      <th>PGSC0003DMG400020795</th>\n",
       "      <th>chromosome 10:49247297-49254377</th>\n",
       "      <th>PGSC0003DMG400020795</th>\n",
       "      <th>NaN</th>\n",
       "      <td>None</td>\n",
       "    </tr>\n",
       "  </tbody>\n",
       "</table>\n",
       "</div>"
      ],
      "text/plain": [
       "                                                                                                             ortholog_location\n",
       "gene_id              location                        ensembl_gene_id      ortholog_gene_id                                    \n",
       "PGSC0003DMG400006679 chromosome 10:49022687-49023709 PGSC0003DMG400006679 NaN               None                              \n",
       "PGSC0003DMG400006680 chromosome 10:49040786-49046010 PGSC0003DMG400006680 NaN               None                              \n",
       "PGSC0003DMG400006681 chromosome 10:49064472-49065184 PGSC0003DMG400006681 NaN               None                              \n",
       "PGSC0003DMG400020800 chromosome 10:49084193-49085040 PGSC0003DMG400020800 Solyc10g076210.1  chromosome 10:59054478-59055612:-1\n",
       "                                                                          Solyc10g076220.1  chromosome 10:59059828-59060961:-1\n",
       "PGSC0003DMG400045482 chromosome 10:49092329-49093552 PGSC0003DMG400045482 NaN               None                              \n",
       "PGSC0003DMG400040544 chromosome 10:49108641-49111957 PGSC0003DMG400040544 Solyc01g066890.1  chromosome 1:75142075-75142941:-1 \n",
       "                                                                          Solyc07g041360.1  chromosome 7:52534390-52534818:-1 \n",
       "PGSC0003DMG400020799 chromosome 10:49151461-49152451 PGSC0003DMG400020799 Solyc10g076210.1  chromosome 10:59054478-59055612:-1\n",
       "                                                                          Solyc10g076220.1  chromosome 10:59059828-59060961:-1\n",
       "PGSC0003DMG400040954 chromosome 10:49170543-49171657 PGSC0003DMG400040954 Solyc10g076200.1  chromosome 10:59051770-59052216:1 \n",
       "PGSC0003DMG400020798 chromosome 10:49172630-49173264 PGSC0003DMG400020798 Solyc10g076230.1  chromosome 10:59074041-59074647:-1\n",
       "                                                                          Solyc10g075120.1  chromosome 10:58847992-58848834:1 \n",
       "PGSC0003DMG400035649 chromosome 10:49174387-49174710 PGSC0003DMG400035649 NaN               None                              \n",
       "PGSC0003DMG400020797 chromosome 10:49199138-49201970 PGSC0003DMG400020797 NaN               None                              \n",
       "PGSC0003DMG400039458 chromosome 10:49235999-49240574 PGSC0003DMG400039458 NaN               None                              \n",
       "PGSC0003DMG400020795 chromosome 10:49247297-49254377 PGSC0003DMG400020795 NaN               None                              "
      ]
     },
     "metadata": {},
     "output_type": "display_data"
    }
   ],
   "source": [
    "#display(genesP[[\"location\",\"ensembl_gene_id\",\"ortholog_gene_id\",\"ortholog_location\"]])\n",
    "import pandas as pd\n",
    "index=pd.MultiIndex.from_tuples([tuple(x) for x in genesP[[\"location\",\"ensembl_gene_id\", \"ortholog_gene_id\"]].to_records()], names=[\"gene_id\", \"location\", \"ensembl_gene_id\", \"ortholog_gene_id\"])\n",
    "display(genesP.set_index(index)[[\"ortholog_location\"]])"
   ]
  },
  {
   "cell_type": "markdown",
   "metadata": {},
   "source": [
    "### Chromosomes for orthologs\n",
    "Chromosomes containing the found orthologs"
   ]
  },
  {
   "cell_type": "code",
   "execution_count": 11,
   "metadata": {},
   "outputs": [
    {
     "data": {
      "text/html": [
       "<div>\n",
       "<style scoped>\n",
       "    .dataframe tbody tr th:only-of-type {\n",
       "        vertical-align: middle;\n",
       "    }\n",
       "\n",
       "    .dataframe tbody tr th {\n",
       "        vertical-align: top;\n",
       "    }\n",
       "\n",
       "    .dataframe thead tr th {\n",
       "        text-align: left;\n",
       "    }\n",
       "\n",
       "    .dataframe thead tr:last-of-type th {\n",
       "        text-align: right;\n",
       "    }\n",
       "</style>\n",
       "<table border=\"1\" class=\"dataframe\">\n",
       "  <thead>\n",
       "    <tr>\n",
       "      <th></th>\n",
       "      <th colspan=\"2\" halign=\"left\">ortholog_begin_pos</th>\n",
       "      <th colspan=\"2\" halign=\"left\">ortholog_end_pos</th>\n",
       "    </tr>\n",
       "    <tr>\n",
       "      <th></th>\n",
       "      <th>min</th>\n",
       "      <th>max</th>\n",
       "      <th>min</th>\n",
       "      <th>max</th>\n",
       "    </tr>\n",
       "    <tr>\n",
       "      <th>ortholog_begin_ref</th>\n",
       "      <th></th>\n",
       "      <th></th>\n",
       "      <th></th>\n",
       "      <th></th>\n",
       "    </tr>\n",
       "  </thead>\n",
       "  <tbody>\n",
       "    <tr>\n",
       "      <th>http://rdf.ebi.ac.uk/resource/ensembl/33/solanum_lycopersicum/SL2.50/1</th>\n",
       "      <td>75142941.0</td>\n",
       "      <td>75142941.0</td>\n",
       "      <td>75142075.0</td>\n",
       "      <td>75142075.0</td>\n",
       "    </tr>\n",
       "    <tr>\n",
       "      <th>http://rdf.ebi.ac.uk/resource/ensembl/33/solanum_lycopersicum/SL2.50/10</th>\n",
       "      <td>58847992.0</td>\n",
       "      <td>59074647.0</td>\n",
       "      <td>58848834.0</td>\n",
       "      <td>59074041.0</td>\n",
       "    </tr>\n",
       "    <tr>\n",
       "      <th>http://rdf.ebi.ac.uk/resource/ensembl/33/solanum_lycopersicum/SL2.50/7</th>\n",
       "      <td>52534818.0</td>\n",
       "      <td>52534818.0</td>\n",
       "      <td>52534390.0</td>\n",
       "      <td>52534390.0</td>\n",
       "    </tr>\n",
       "  </tbody>\n",
       "</table>\n",
       "</div>"
      ],
      "text/plain": [
       "                                                                        ortholog_begin_pos  \\\n",
       "                                                                                       min   \n",
       "ortholog_begin_ref                                                                           \n",
       "http://rdf.ebi.ac.uk/resource/ensembl/33/solanum_lycopersicum/SL2.50/1   75142941.0          \n",
       "http://rdf.ebi.ac.uk/resource/ensembl/33/solanum_lycopersicum/SL2.50/10  58847992.0          \n",
       "http://rdf.ebi.ac.uk/resource/ensembl/33/solanum_lycopersicum/SL2.50/7   52534818.0          \n",
       "\n",
       "                                                                                     \\\n",
       "                                                                                max   \n",
       "ortholog_begin_ref                                                                    \n",
       "http://rdf.ebi.ac.uk/resource/ensembl/33/solanum_lycopersicum/SL2.50/1   75142941.0   \n",
       "http://rdf.ebi.ac.uk/resource/ensembl/33/solanum_lycopersicum/SL2.50/10  59074647.0   \n",
       "http://rdf.ebi.ac.uk/resource/ensembl/33/solanum_lycopersicum/SL2.50/7   52534818.0   \n",
       "\n",
       "                                                                        ortholog_end_pos  \\\n",
       "                                                                                     min   \n",
       "ortholog_begin_ref                                                                         \n",
       "http://rdf.ebi.ac.uk/resource/ensembl/33/solanum_lycopersicum/SL2.50/1   75142075.0        \n",
       "http://rdf.ebi.ac.uk/resource/ensembl/33/solanum_lycopersicum/SL2.50/10  58848834.0        \n",
       "http://rdf.ebi.ac.uk/resource/ensembl/33/solanum_lycopersicum/SL2.50/7   52534390.0        \n",
       "\n",
       "                                                                                     \n",
       "                                                                                max  \n",
       "ortholog_begin_ref                                                                   \n",
       "http://rdf.ebi.ac.uk/resource/ensembl/33/solanum_lycopersicum/SL2.50/1   75142075.0  \n",
       "http://rdf.ebi.ac.uk/resource/ensembl/33/solanum_lycopersicum/SL2.50/10  59074041.0  \n",
       "http://rdf.ebi.ac.uk/resource/ensembl/33/solanum_lycopersicum/SL2.50/7   52534390.0  "
      ]
     },
     "metadata": {},
     "output_type": "display_data"
    }
   ],
   "source": [
    "aggregations = {\"ortholog_begin_pos\" : [\"min\",\"max\"], \"ortholog_end_pos\" : [\"min\",\"max\"]}\n",
    "display(genesP.groupby([\"ortholog_begin_ref\"]).agg(aggregations))"
   ]
  },
  {
   "cell_type": "markdown",
   "metadata": {},
   "source": [
    "### Diagram crosslinks\n",
    "Create a diagram with crosslinks between found genes and orthologs"
   ]
  },
  {
   "cell_type": "code",
   "execution_count": 12,
   "metadata": {},
   "outputs": [
    {
     "data": {
      "image/svg+xml": [
       "<svg fill-rule=\"evenodd\" height=\"595.2755905511812\" preserveAspectRatio=\"xMinYMin meet\" version=\"1.0\" viewBox=\"0 0 841 595\" width=\"841.8897637795277\" xmlns=\"http://www.w3.org/2000/svg\" xmlns:xlink=\"http://www.w3.org/1999/xlink\">\n",
       "\t<title>...</title>\n",
       "\t<desc>...</desc>\n",
       "\t<clipPath id=\"clip\">\n",
       "\t\t<rect height=\"595.2755905511812\" width=\"841.8897637795277\" x=\"0\" y=\"0\"/>\n",
       "\t</clipPath>\n",
       "\t<g id=\"group\" style=\"clip-path: url(#clip)\" transform=\"scale(1,-1) translate(0,-595)\">\n",
       "\t\t<g transform=\"\">\n",
       "\t\t\t<polygon points=\"42.09449 71.61909, 98.14446 71.61909, 98.14446 162.0266, 42.09449 162.0266\" style=\"stroke: rgb(96%,96%,96%); stroke-linecap: butt; stroke-width: 1; fill: rgb(96%,96%,96%);\"/>\n",
       "\t\t\t<polygon points=\"42.09449 192.1624, 718.8619 192.1624, 718.8619 282.5699, 42.09449 282.5699\" style=\"stroke: rgb(96%,96%,96%); stroke-linecap: butt; stroke-width: 1; fill: rgb(96%,96%,96%);\"/>\n",
       "\t\t\t<polygon points=\"42.09449 312.7057, 99.34624 312.7057, 99.34624 403.1132, 42.09449 403.1132\" style=\"stroke: rgb(96%,96%,96%); stroke-linecap: butt; stroke-width: 1; fill: rgb(96%,96%,96%);\"/>\n",
       "\t\t\t<polygon points=\"42.09449 433.249, 799.7925 433.249, 799.7925 523.6565, 42.09449 523.6565\" style=\"stroke: rgb(96%,96%,96%); stroke-linecap: butt; stroke-width: 1; fill: rgb(96%,96%,96%);\"/>\n",
       "\t\t\t<polygon points=\"388.1402 433.249, 397.2386 433.249, 71.90842 403.1132, 69.5323 403.1132\" style=\"stroke: rgb(50%,50%,50%); stroke-linecap: round; stroke-width: 1; fill: rgb(82%,82%,82%);\"/>\n",
       "\t\t\t<polygon points=\"388.1402 433.249, 397.2386 433.249, 71.90842 403.1132, 69.5323 403.1132\" style=\"stroke: rgb(50%,50%,50%); stroke-linecap: round; stroke-width: 1; fill: rgb(82%,82%,82%);\"/>\n",
       "\t\t\t<polygon points=\"563.7121 433.249, 565.4516 433.249, 71.84257 282.5699, 69.5323 282.5699\" style=\"stroke: rgb(50%,50%,50%); stroke-linecap: round; stroke-width: 1; fill: rgb(82%,82%,82%);\"/>\n",
       "\t\t\t<polygon points=\"557.9858 433.249, 561.0424 433.249, 629.8784 282.5699, 628.6546 282.5699\" style=\"stroke: rgb(50%,50%,50%); stroke-linecap: round; stroke-width: 1; fill: rgb(82%,82%,82%);\"/>\n",
       "\t\t\t<polygon points=\"321.0603 433.249, 323.3842 433.249, 639.1962 282.5699, 636.0848 282.5699\" style=\"stroke: rgb(50%,50%,50%); stroke-linecap: round; stroke-width: 1; fill: rgb(82%,82%,82%);\"/>\n",
       "\t\t\t<polygon points=\"321.0603 433.249, 323.3842 433.249, 653.8727 282.5699, 650.764 282.5699\" style=\"stroke: rgb(50%,50%,50%); stroke-linecap: round; stroke-width: 1; fill: rgb(82%,82%,82%);\"/>\n",
       "\t\t\t<polygon points=\"563.7121 433.249, 565.4516 433.249, 691.4241 282.5699, 689.7614 282.5699\" style=\"stroke: rgb(50%,50%,50%); stroke-linecap: round; stroke-width: 1; fill: rgb(82%,82%,82%);\"/>\n",
       "\t\t\t<polygon points=\"563.7121 433.249, 565.4516 433.249, 691.4241 282.5699, 689.7614 282.5699\" style=\"stroke: rgb(50%,50%,50%); stroke-linecap: round; stroke-width: 1; fill: rgb(82%,82%,82%);\"/>\n",
       "\t\t\t<polygon points=\"505.629 433.249, 508.3453 433.249, 639.1962 282.5699, 636.0848 282.5699\" style=\"stroke: rgb(50%,50%,50%); stroke-linecap: round; stroke-width: 1; fill: rgb(82%,82%,82%);\"/>\n",
       "\t\t\t<polygon points=\"321.0603 433.249, 323.3842 433.249, 639.1962 282.5699, 636.0848 282.5699\" style=\"stroke: rgb(50%,50%,50%); stroke-linecap: round; stroke-width: 1; fill: rgb(82%,82%,82%);\"/>\n",
       "\t\t\t<polygon points=\"557.9858 433.249, 561.0424 433.249, 629.8784 282.5699, 628.6546 282.5699\" style=\"stroke: rgb(50%,50%,50%); stroke-linecap: round; stroke-width: 1; fill: rgb(82%,82%,82%);\"/>\n",
       "\t\t\t<polygon points=\"388.1402 433.249, 397.2386 433.249, 70.70664 162.0266, 69.5323 162.0266\" style=\"stroke: rgb(50%,50%,50%); stroke-linecap: round; stroke-width: 1; fill: rgb(82%,82%,82%);\"/>\n",
       "\t\t\t<polygon points=\"388.1402 433.249, 397.2386 433.249, 70.70664 162.0266, 69.5323 162.0266\" style=\"stroke: rgb(50%,50%,50%); stroke-linecap: round; stroke-width: 1; fill: rgb(82%,82%,82%);\"/>\n",
       "\t\t\t<polygon points=\"69.5323 71.61909, 70.70664 71.61909, 70.70664 116.8228, 69.5323 116.8228\" style=\"stroke: rgb(100%,0%,0%); stroke-linecap: butt; stroke-width: 1; fill: rgb(100%,0%,0%);\"/>\n",
       "\t\t\t<polygon points=\"69.5323 237.3661, 71.84257 237.3661, 71.84257 282.5699, 69.5323 282.5699\" style=\"stroke: rgb(100%,0%,0%); stroke-linecap: butt; stroke-width: 1; fill: rgb(100%,0%,0%);\"/>\n",
       "\t\t\t<polygon points=\"628.6546 237.3661, 629.8784 237.3661, 629.8784 282.5699, 628.6546 282.5699\" style=\"stroke: rgb(100%,0%,0%); stroke-linecap: butt; stroke-width: 1; fill: rgb(100%,0%,0%);\"/>\n",
       "\t\t\t<polygon points=\"636.0848 192.1624, 639.1962 192.1624, 639.1962 237.3661, 636.0848 237.3661\" style=\"stroke: rgb(100%,0%,0%); stroke-linecap: butt; stroke-width: 1; fill: rgb(100%,0%,0%);\"/>\n",
       "\t\t\t<polygon points=\"650.764 192.1624, 653.8727 192.1624, 653.8727 237.3661, 650.764 237.3661\" style=\"stroke: rgb(100%,0%,0%); stroke-linecap: butt; stroke-width: 1; fill: rgb(100%,0%,0%);\"/>\n",
       "\t\t\t<polygon points=\"689.7614 192.1624, 691.4241 192.1624, 691.4241 237.3661, 689.7614 237.3661\" style=\"stroke: rgb(100%,0%,0%); stroke-linecap: butt; stroke-width: 1; fill: rgb(100%,0%,0%);\"/>\n",
       "\t\t\t<polygon points=\"69.5323 312.7057, 71.90842 312.7057, 71.90842 357.9094, 69.5323 357.9094\" style=\"stroke: rgb(100%,0%,0%); stroke-linecap: butt; stroke-width: 1; fill: rgb(100%,0%,0%);\"/>\n",
       "\t\t\t<polygon points=\"152.3012 433.249, 155.1054 433.249, 155.1054 478.4528, 152.3012 478.4528\" style=\"stroke: rgb(0%,0%,100%); stroke-linecap: butt; stroke-width: 1; fill: rgb(0%,0%,100%);\"/>\n",
       "\t\t\t<polygon points=\"201.9609 433.249, 216.2944 433.249, 216.2944 478.4528, 201.9609 478.4528\" style=\"stroke: rgb(0%,0%,100%); stroke-linecap: butt; stroke-width: 1; fill: rgb(0%,0%,100%);\"/>\n",
       "\t\t\t<polygon points=\"266.9501 433.249, 268.9037 433.249, 268.9037 478.4528, 266.9501 478.4528\" style=\"stroke: rgb(0%,0%,100%); stroke-linecap: butt; stroke-width: 1; fill: rgb(0%,0%,100%);\"/>\n",
       "\t\t\t<polygon points=\"768.582 433.249, 788.008 433.249, 788.008 478.4528, 768.582 478.4528\" style=\"stroke: rgb(0%,0%,100%); stroke-linecap: butt; stroke-width: 1; fill: rgb(0%,0%,100%);\"/>\n",
       "\t\t\t<polygon points=\"636.4442 433.249, 644.2146 433.249, 644.2146 478.4528, 636.4442 478.4528\" style=\"stroke: rgb(0%,0%,100%); stroke-linecap: butt; stroke-width: 1; fill: rgb(0%,0%,100%);\"/>\n",
       "\t\t\t<polygon points=\"563.7121 433.249, 565.4516 433.249, 565.4516 478.4528, 563.7121 478.4528\" style=\"stroke: rgb(0%,0%,100%); stroke-linecap: butt; stroke-width: 1; fill: rgb(0%,0%,100%);\"/>\n",
       "\t\t\t<polygon points=\"505.629 433.249, 508.3453 433.249, 508.3453 478.4528, 505.629 478.4528\" style=\"stroke: rgb(0%,0%,100%); stroke-linecap: butt; stroke-width: 1; fill: rgb(0%,0%,100%);\"/>\n",
       "\t\t\t<polygon points=\"321.0603 433.249, 323.3842 433.249, 323.3842 478.4528, 321.0603 478.4528\" style=\"stroke: rgb(0%,0%,100%); stroke-linecap: butt; stroke-width: 1; fill: rgb(0%,0%,100%);\"/>\n",
       "\t\t\t<polygon points=\"568.5329 433.249, 569.4191 433.249, 569.4191 478.4528, 568.5329 478.4528\" style=\"stroke: rgb(0%,0%,100%); stroke-linecap: butt; stroke-width: 1; fill: rgb(0%,0%,100%);\"/>\n",
       "\t\t\t<polygon points=\"737.5828 478.4528, 750.1356 478.4528, 750.1356 523.6565, 737.5828 523.6565\" style=\"stroke: rgb(0%,0%,100%); stroke-linecap: butt; stroke-width: 1; fill: rgb(0%,0%,100%);\"/>\n",
       "\t\t\t<polygon points=\"388.1402 433.249, 397.2386 433.249, 397.2386 478.4528, 388.1402 478.4528\" style=\"stroke: rgb(0%,0%,100%); stroke-linecap: butt; stroke-width: 1; fill: rgb(0%,0%,100%);\"/>\n",
       "\t\t\t<polygon points=\"557.9858 478.4528, 561.0424 478.4528, 561.0424 523.6565, 557.9858 523.6565\" style=\"stroke: rgb(0%,0%,100%); stroke-linecap: butt; stroke-width: 1; fill: rgb(0%,0%,100%);\"/>\n",
       "\t\t\t<polygon points=\"343.3837 478.4528, 346.7393 478.4528, 346.7393 523.6565, 343.3837 523.6565\" style=\"stroke: rgb(0%,0%,100%); stroke-linecap: butt; stroke-width: 1; fill: rgb(0%,0%,100%);\"/>\n",
       "\t\t\t<path d=\"M 98.144460,71.619094 L 98.144460,162.026575 Z\" style=\"stroke: rgb(0%,0%,0%); stroke-linecap: butt; stroke-width: 1;\"/>\n",
       "\t\t\t<path d=\"M 42.094488,116.822835 L 98.144460,116.822835 Z\" style=\"stroke: rgb(0%,0%,0%); stroke-linecap: butt; stroke-width: 1;\"/>\n",
       "\t\t\t<path d=\"M 42.094488,71.619094 L 42.094488,162.026575 Z\" style=\"stroke: rgb(0%,0%,0%); stroke-linecap: butt; stroke-width: 1;\"/>\n",
       "\t\t\t<path d=\"M 718.861949,192.162402 L 718.861949,282.569882 Z\" style=\"stroke: rgb(0%,0%,0%); stroke-linecap: butt; stroke-width: 1;\"/>\n",
       "\t\t\t<path d=\"M 42.094488,237.366142 L 718.861949,237.366142 Z\" style=\"stroke: rgb(0%,0%,0%); stroke-linecap: butt; stroke-width: 1;\"/>\n",
       "\t\t\t<path d=\"M 42.094488,192.162402 L 42.094488,282.569882 Z\" style=\"stroke: rgb(0%,0%,0%); stroke-linecap: butt; stroke-width: 1;\"/>\n",
       "\t\t\t<path d=\"M 99.346236,312.705709 L 99.346236,403.113189 Z\" style=\"stroke: rgb(0%,0%,0%); stroke-linecap: butt; stroke-width: 1;\"/>\n",
       "\t\t\t<path d=\"M 42.094488,357.909449 L 99.346236,357.909449 Z\" style=\"stroke: rgb(0%,0%,0%); stroke-linecap: butt; stroke-width: 1;\"/>\n",
       "\t\t\t<path d=\"M 42.094488,312.705709 L 42.094488,403.113189 Z\" style=\"stroke: rgb(0%,0%,0%); stroke-linecap: butt; stroke-width: 1;\"/>\n",
       "\t\t\t<path d=\"M 799.792532,433.249016 L 799.792532,523.656496 Z\" style=\"stroke: rgb(0%,0%,0%); stroke-linecap: butt; stroke-width: 1;\"/>\n",
       "\t\t\t<path d=\"M 42.094488,478.452756 L 799.792532,478.452756 Z\" style=\"stroke: rgb(0%,0%,0%); stroke-linecap: butt; stroke-width: 1;\"/>\n",
       "\t\t\t<path d=\"M 42.094488,433.249016 L 42.094488,523.656496 Z\" style=\"stroke: rgb(0%,0%,0%); stroke-linecap: butt; stroke-width: 1;\"/>\n",
       "\t\t\t<path d=\"M 90.053047,478.452756 L 90.053047,501.054626 Z\" style=\"stroke: rgb(0%,0%,0%); stroke-linecap: butt; stroke-width: 1;\"/>\n",
       "\t\t\t<path d=\"M 62.615231,478.452756 L 62.615231,492.013878 Z\" style=\"stroke: rgb(0%,0%,0%); stroke-linecap: butt; stroke-width: 1;\"/>\n",
       "\t\t\t<path d=\"M 90.053047,478.452756 L 90.053047,492.013878 Z\" style=\"stroke: rgb(0%,0%,0%); stroke-linecap: butt; stroke-width: 1;\"/>\n",
       "\t\t\t<path d=\"M 117.490864,478.452756 L 117.490864,492.013878 Z\" style=\"stroke: rgb(0%,0%,0%); stroke-linecap: butt; stroke-width: 1;\"/>\n",
       "\t\t\t<path d=\"M 144.928680,478.452756 L 144.928680,492.013878 Z\" style=\"stroke: rgb(0%,0%,0%); stroke-linecap: butt; stroke-width: 1;\"/>\n",
       "\t\t\t<path d=\"M 172.366497,478.452756 L 172.366497,492.013878 Z\" style=\"stroke: rgb(0%,0%,0%); stroke-linecap: butt; stroke-width: 1;\"/>\n",
       "\t\t\t<path d=\"M 199.804313,478.452756 L 199.804313,492.013878 Z\" style=\"stroke: rgb(0%,0%,0%); stroke-linecap: butt; stroke-width: 1;\"/>\n",
       "\t\t\t<path d=\"M 227.242129,478.452756 L 227.242129,492.013878 Z\" style=\"stroke: rgb(0%,0%,0%); stroke-linecap: butt; stroke-width: 1;\"/>\n",
       "\t\t\t<path d=\"M 254.679946,478.452756 L 254.679946,492.013878 Z\" style=\"stroke: rgb(0%,0%,0%); stroke-linecap: butt; stroke-width: 1;\"/>\n",
       "\t\t\t<path d=\"M 282.117762,478.452756 L 282.117762,492.013878 Z\" style=\"stroke: rgb(0%,0%,0%); stroke-linecap: butt; stroke-width: 1;\"/>\n",
       "\t\t\t<path d=\"M 309.555579,478.452756 L 309.555579,492.013878 Z\" style=\"stroke: rgb(0%,0%,0%); stroke-linecap: butt; stroke-width: 1;\"/>\n",
       "\t\t\t<path d=\"M 336.993395,478.452756 L 336.993395,492.013878 Z\" style=\"stroke: rgb(0%,0%,0%); stroke-linecap: butt; stroke-width: 1;\"/>\n",
       "\t\t\t<path d=\"M 364.431211,478.452756 L 364.431211,492.013878 Z\" style=\"stroke: rgb(0%,0%,0%); stroke-linecap: butt; stroke-width: 1;\"/>\n",
       "\t\t\t<path d=\"M 391.869028,478.452756 L 391.869028,492.013878 Z\" style=\"stroke: rgb(0%,0%,0%); stroke-linecap: butt; stroke-width: 1;\"/>\n",
       "\t\t\t<path d=\"M 419.306844,478.452756 L 419.306844,492.013878 Z\" style=\"stroke: rgb(0%,0%,0%); stroke-linecap: butt; stroke-width: 1;\"/>\n",
       "\t\t\t<path d=\"M 446.744661,478.452756 L 446.744661,492.013878 Z\" style=\"stroke: rgb(0%,0%,0%); stroke-linecap: butt; stroke-width: 1;\"/>\n",
       "\t\t\t<path d=\"M 474.182477,478.452756 L 474.182477,492.013878 Z\" style=\"stroke: rgb(0%,0%,0%); stroke-linecap: butt; stroke-width: 1;\"/>\n",
       "\t\t\t<path d=\"M 501.620293,478.452756 L 501.620293,492.013878 Z\" style=\"stroke: rgb(0%,0%,0%); stroke-linecap: butt; stroke-width: 1;\"/>\n",
       "\t\t\t<path d=\"M 529.058110,478.452756 L 529.058110,492.013878 Z\" style=\"stroke: rgb(0%,0%,0%); stroke-linecap: butt; stroke-width: 1;\"/>\n",
       "\t\t\t<path d=\"M 556.495926,478.452756 L 556.495926,492.013878 Z\" style=\"stroke: rgb(0%,0%,0%); stroke-linecap: butt; stroke-width: 1;\"/>\n",
       "\t\t\t<path d=\"M 583.933743,478.452756 L 583.933743,492.013878 Z\" style=\"stroke: rgb(0%,0%,0%); stroke-linecap: butt; stroke-width: 1;\"/>\n",
       "\t\t\t<path d=\"M 611.371559,478.452756 L 611.371559,492.013878 Z\" style=\"stroke: rgb(0%,0%,0%); stroke-linecap: butt; stroke-width: 1;\"/>\n",
       "\t\t\t<path d=\"M 638.809375,478.452756 L 638.809375,492.013878 Z\" style=\"stroke: rgb(0%,0%,0%); stroke-linecap: butt; stroke-width: 1;\"/>\n",
       "\t\t\t<path d=\"M 666.247192,478.452756 L 666.247192,492.013878 Z\" style=\"stroke: rgb(0%,0%,0%); stroke-linecap: butt; stroke-width: 1;\"/>\n",
       "\t\t\t<path d=\"M 693.685008,478.452756 L 693.685008,492.013878 Z\" style=\"stroke: rgb(0%,0%,0%); stroke-linecap: butt; stroke-width: 1;\"/>\n",
       "\t\t\t<path d=\"M 721.122825,478.452756 L 721.122825,492.013878 Z\" style=\"stroke: rgb(0%,0%,0%); stroke-linecap: butt; stroke-width: 1;\"/>\n",
       "\t\t\t<path d=\"M 748.560641,478.452756 L 748.560641,492.013878 Z\" style=\"stroke: rgb(0%,0%,0%); stroke-linecap: butt; stroke-width: 1;\"/>\n",
       "\t\t\t<path d=\"M 775.998457,478.452756 L 775.998457,492.013878 Z\" style=\"stroke: rgb(0%,0%,0%); stroke-linecap: butt; stroke-width: 1;\"/>\n",
       "\t\t\t<g transform=\" matrix(0.707107,0.707107,-0.707107,0.707107,90.053047,501.054626)\">\n",
       "\t\t\t\t<text style=\"font-family: Helvetica; font-size: 6px; fill: rgb(0%,0%,0%);\" transform=\"translate(0,0) scale(1,-1)\" x=\"0\" y=\"0\">49000000</text>\n",
       "\t\t\t</g>\n",
       "\t\t\t<g transform=\" matrix(-0.707107,-0.707107,0.707107,-0.707107,70.706643,71.619094)\">\n",
       "\t\t\t\t<text style=\"font-family: Helvetica; font-size: 6px; fill: rgb(0%,0%,0%);\" transform=\"translate(0,0) scale(1,-1)\" x=\"0\" y=\"0\">Solyc07g041360.1</text>\n",
       "\t\t\t</g>\n",
       "\t\t\t<g transform=\" matrix(0.707107,0.707107,-0.707107,0.707107,69.532305,282.569882)\">\n",
       "\t\t\t\t<text style=\"font-family: Helvetica; font-size: 6px; fill: rgb(0%,0%,0%);\" transform=\"translate(0,0) scale(1,-1)\" x=\"0\" y=\"0\">Solyc10g075120.1</text>\n",
       "\t\t\t</g>\n",
       "\t\t\t<g transform=\" matrix(0.707107,0.707107,-0.707107,0.707107,628.654640,282.569882)\">\n",
       "\t\t\t\t<text style=\"font-family: Helvetica; font-size: 6px; fill: rgb(0%,0%,0%);\" transform=\"translate(0,0) scale(1,-1)\" x=\"0\" y=\"0\">Solyc10g076200.1</text>\n",
       "\t\t\t</g>\n",
       "\t\t\t<g transform=\" matrix(-0.707107,-0.707107,0.707107,-0.707107,639.196249,192.162402)\">\n",
       "\t\t\t\t<text style=\"font-family: Helvetica; font-size: 6px; fill: rgb(0%,0%,0%);\" transform=\"translate(0,0) scale(1,-1)\" x=\"0\" y=\"0\">Solyc10g076210.1</text>\n",
       "\t\t\t</g>\n",
       "\t\t\t<g transform=\" matrix(-0.707107,-0.707107,0.707107,-0.707107,653.872737,192.162402)\">\n",
       "\t\t\t\t<text style=\"font-family: Helvetica; font-size: 6px; fill: rgb(0%,0%,0%);\" transform=\"translate(0,0) scale(1,-1)\" x=\"0\" y=\"0\">Solyc10g076220.1</text>\n",
       "\t\t\t</g>\n",
       "\t\t\t<g transform=\" matrix(-0.707107,-0.707107,0.707107,-0.707107,691.424132,192.162402)\">\n",
       "\t\t\t\t<text style=\"font-family: Helvetica; font-size: 6px; fill: rgb(0%,0%,0%);\" transform=\"translate(0,0) scale(1,-1)\" x=\"0\" y=\"0\">Solyc10g076230.1</text>\n",
       "\t\t\t</g>\n",
       "\t\t\t<g transform=\" matrix(-0.707107,-0.707107,0.707107,-0.707107,71.908419,312.705709)\">\n",
       "\t\t\t\t<text style=\"font-family: Helvetica; font-size: 6px; fill: rgb(0%,0%,0%);\" transform=\"translate(0,0) scale(1,-1)\" x=\"0\" y=\"0\">Solyc01g066890.1</text>\n",
       "\t\t\t</g>\n",
       "\t\t\t<g transform=\" matrix(-0.707107,-0.707107,0.707107,-0.707107,155.105366,433.249016)\">\n",
       "\t\t\t\t<text style=\"font-family: Helvetica; font-size: 6px; fill: rgb(0%,0%,0%);\" transform=\"translate(0,0) scale(1,-1)\" x=\"0\" y=\"0\">PGSC0003DMG400006679</text>\n",
       "\t\t\t</g>\n",
       "\t\t\t<g transform=\" matrix(-0.707107,-0.707107,0.707107,-0.707107,216.294441,433.249016)\">\n",
       "\t\t\t\t<text style=\"font-family: Helvetica; font-size: 6px; fill: rgb(0%,0%,0%);\" transform=\"translate(0,0) scale(1,-1)\" x=\"0\" y=\"0\">PGSC0003DMG400006680</text>\n",
       "\t\t\t</g>\n",
       "\t\t\t<g transform=\" matrix(-0.707107,-0.707107,0.707107,-0.707107,268.903710,433.249016)\">\n",
       "\t\t\t\t<text style=\"font-family: Helvetica; font-size: 6px; fill: rgb(0%,0%,0%);\" transform=\"translate(0,0) scale(1,-1)\" x=\"0\" y=\"0\">PGSC0003DMG400006681</text>\n",
       "\t\t\t</g>\n",
       "\t\t\t<g transform=\" matrix(-0.707107,-0.707107,0.707107,-0.707107,788.007990,433.249016)\">\n",
       "\t\t\t\t<text style=\"font-family: Helvetica; font-size: 6px; fill: rgb(0%,0%,0%);\" transform=\"translate(0,0) scale(1,-1)\" x=\"0\" y=\"0\">PGSC0003DMG400020795</text>\n",
       "\t\t\t</g>\n",
       "\t\t\t<g transform=\" matrix(-0.707107,-0.707107,0.707107,-0.707107,644.214625,433.249016)\">\n",
       "\t\t\t\t<text style=\"font-family: Helvetica; font-size: 6px; fill: rgb(0%,0%,0%);\" transform=\"translate(0,0) scale(1,-1)\" x=\"0\" y=\"0\">PGSC0003DMG400020797</text>\n",
       "\t\t\t</g>\n",
       "\t\t\t<g transform=\" matrix(-0.707107,-0.707107,0.707107,-0.707107,565.451630,433.249016)\">\n",
       "\t\t\t\t<text style=\"font-family: Helvetica; font-size: 6px; fill: rgb(0%,0%,0%);\" transform=\"translate(0,0) scale(1,-1)\" x=\"0\" y=\"0\">PGSC0003DMG400020798</text>\n",
       "\t\t\t</g>\n",
       "\t\t\t<g transform=\" matrix(-0.707107,-0.707107,0.707107,-0.707107,508.345302,433.249016)\">\n",
       "\t\t\t\t<text style=\"font-family: Helvetica; font-size: 6px; fill: rgb(0%,0%,0%);\" transform=\"translate(0,0) scale(1,-1)\" x=\"0\" y=\"0\">PGSC0003DMG400020799</text>\n",
       "\t\t\t</g>\n",
       "\t\t\t<g transform=\" matrix(-0.707107,-0.707107,0.707107,-0.707107,323.384238,433.249016)\">\n",
       "\t\t\t\t<text style=\"font-family: Helvetica; font-size: 6px; fill: rgb(0%,0%,0%);\" transform=\"translate(0,0) scale(1,-1)\" x=\"0\" y=\"0\">PGSC0003DMG400020800</text>\n",
       "\t\t\t</g>\n",
       "\t\t\t<g transform=\" matrix(-0.707107,-0.707107,0.707107,-0.707107,569.419138,433.249016)\">\n",
       "\t\t\t\t<text style=\"font-family: Helvetica; font-size: 6px; fill: rgb(0%,0%,0%);\" transform=\"translate(0,0) scale(1,-1)\" x=\"0\" y=\"0\">PGSC0003DMG400035649</text>\n",
       "\t\t\t</g>\n",
       "\t\t\t<g transform=\" matrix(0.707107,0.707107,-0.707107,0.707107,737.582771,523.656496)\">\n",
       "\t\t\t\t<text style=\"font-family: Helvetica; font-size: 6px; fill: rgb(0%,0%,0%);\" transform=\"translate(0,0) scale(1,-1)\" x=\"0\" y=\"0\">PGSC0003DMG400039458</text>\n",
       "\t\t\t</g>\n",
       "\t\t\t<g transform=\" matrix(-0.707107,-0.707107,0.707107,-0.707107,397.238609,433.249016)\">\n",
       "\t\t\t\t<text style=\"font-family: Helvetica; font-size: 6px; fill: rgb(0%,0%,0%);\" transform=\"translate(0,0) scale(1,-1)\" x=\"0\" y=\"0\">PGSC0003DMG400040544</text>\n",
       "\t\t\t</g>\n",
       "\t\t\t<g transform=\" matrix(0.707107,0.707107,-0.707107,0.707107,557.985800,523.656496)\">\n",
       "\t\t\t\t<text style=\"font-family: Helvetica; font-size: 6px; fill: rgb(0%,0%,0%);\" transform=\"translate(0,0) scale(1,-1)\" x=\"0\" y=\"0\">PGSC0003DMG400040954</text>\n",
       "\t\t\t</g>\n",
       "\t\t\t<g transform=\" matrix(0.707107,0.707107,-0.707107,0.707107,343.383662,523.656496)\">\n",
       "\t\t\t\t<text style=\"font-family: Helvetica; font-size: 6px; fill: rgb(0%,0%,0%);\" transform=\"translate(0,0) scale(1,-1)\" x=\"0\" y=\"0\">PGSC0003DMG400045482</text>\n",
       "\t\t\t</g>\n",
       "\t\t\t<g transform=\" matrix(1.000000,0.000000,-0.000000,1.000000,42.000000,192.162402)\">\n",
       "\t\t\t\t<text style=\"font-family: Helvetica; font-size: 8px; fill: rgb(60%,60%,60%);\" transform=\"translate(0,0) scale(1,-1)\" x=\"0\" y=\"0\">tomato</text>\n",
       "\t\t\t</g>\n",
       "\t\t\t<g transform=\" matrix(1.000000,0.000000,-0.000000,1.000000,193.000000,192.162402)\">\n",
       "\t\t\t\t<text style=\"font-family: Helvetica; font-size: 8px; fill: rgb(60%,60%,60%);\" transform=\"translate(0,0) scale(1,-1)\" x=\"0\" y=\"0\">tomato</text>\n",
       "\t\t\t</g>\n",
       "\t\t\t<g transform=\" matrix(1.000000,0.000000,-0.000000,1.000000,344.000000,192.162402)\">\n",
       "\t\t\t\t<text style=\"font-family: Helvetica; font-size: 8px; fill: rgb(60%,60%,60%);\" transform=\"translate(0,0) scale(1,-1)\" x=\"0\" y=\"0\">tomato</text>\n",
       "\t\t\t</g>\n",
       "\t\t\t<g transform=\" matrix(1.000000,0.000000,-0.000000,1.000000,495.000000,192.162402)\">\n",
       "\t\t\t\t<text style=\"font-family: Helvetica; font-size: 8px; fill: rgb(60%,60%,60%);\" transform=\"translate(0,0) scale(1,-1)\" x=\"0\" y=\"0\">tomato</text>\n",
       "\t\t\t</g>\n",
       "\t\t\t<g transform=\" matrix(1.000000,0.000000,-0.000000,1.000000,646.000000,192.162402)\">\n",
       "\t\t\t\t<text style=\"font-family: Helvetica; font-size: 8px; fill: rgb(60%,60%,60%);\" transform=\"translate(0,0) scale(1,-1)\" x=\"0\" y=\"0\">tomato</text>\n",
       "\t\t\t</g>\n",
       "\t\t\t<g transform=\" matrix(1.000000,0.000000,-0.000000,1.000000,42.000000,433.249016)\">\n",
       "\t\t\t\t<text style=\"font-family: Helvetica; font-size: 8px; fill: rgb(60%,60%,60%);\" transform=\"translate(0,0) scale(1,-1)\" x=\"0\" y=\"0\">potato</text>\n",
       "\t\t\t</g>\n",
       "\t\t\t<g transform=\" matrix(1.000000,0.000000,-0.000000,1.000000,193.000000,433.249016)\">\n",
       "\t\t\t\t<text style=\"font-family: Helvetica; font-size: 8px; fill: rgb(60%,60%,60%);\" transform=\"translate(0,0) scale(1,-1)\" x=\"0\" y=\"0\">potato</text>\n",
       "\t\t\t</g>\n",
       "\t\t\t<g transform=\" matrix(1.000000,0.000000,-0.000000,1.000000,344.000000,433.249016)\">\n",
       "\t\t\t\t<text style=\"font-family: Helvetica; font-size: 8px; fill: rgb(60%,60%,60%);\" transform=\"translate(0,0) scale(1,-1)\" x=\"0\" y=\"0\">potato</text>\n",
       "\t\t\t</g>\n",
       "\t\t\t<g transform=\" matrix(1.000000,0.000000,-0.000000,1.000000,495.000000,433.249016)\">\n",
       "\t\t\t\t<text style=\"font-family: Helvetica; font-size: 8px; fill: rgb(60%,60%,60%);\" transform=\"translate(0,0) scale(1,-1)\" x=\"0\" y=\"0\">potato</text>\n",
       "\t\t\t</g>\n",
       "\t\t\t<g transform=\" matrix(1.000000,0.000000,-0.000000,1.000000,646.000000,433.249016)\">\n",
       "\t\t\t\t<text style=\"font-family: Helvetica; font-size: 8px; fill: rgb(60%,60%,60%);\" transform=\"translate(0,0) scale(1,-1)\" x=\"0\" y=\"0\">potato</text>\n",
       "\t\t\t</g>\n",
       "\t\t</g>\n",
       "\t</g>\n",
       "</svg>"
      ],
      "text/plain": [
       "<IPython.core.display.SVG object>"
      ]
     },
     "execution_count": 12,
     "metadata": {},
     "output_type": "execute_result"
    }
   ],
   "source": [
    "genesPdiagram = search.diagram_crosslinks(\"potato\", \"tomato\", intervalP, genesP)\n",
    "tmpFilename = \"potato_\"+tg1+\"-\"+tg2+\".svg\"\n",
    "genesPdiagram.write(tmpFilename, \"svg\")\n",
    "SVG(tmpFilename)"
   ]
  },
  {
   "cell_type": "markdown",
   "metadata": {},
   "source": [
    "# Annotations\n",
    "Compare GO annotatios in all three classes\n",
    "\n",
    "Genes, orthologs for potato and tomato and annotations"
   ]
  },
  {
   "cell_type": "code",
   "execution_count": 13,
   "metadata": {},
   "outputs": [],
   "source": [
    "%matplotlib inline\n",
    "import matplotlib.pyplot as plt\n",
    "from matplotlib_venn import venn2"
   ]
  },
  {
   "cell_type": "code",
   "execution_count": 14,
   "metadata": {},
   "outputs": [
    {
     "data": {
      "image/png": "[encoded data removed]",
      "text/plain": [
       "<Figure size 432x288 with 1 Axes>"
      ]
     },
     "metadata": {},
     "output_type": "display_data"
    }
   ],
   "source": [
    "setp1 = genesP[\"ortholog_gene_id\"].dropna().unique()\n",
    "setp2 = genesT.index.unique()\n",
    "setp3 = setp2 & setp1\n",
    "setp1 = list(set(setp1)-set(setp3))\n",
    "setp2 = list(set(setp2)-set(setp3))\n",
    "venn2(subsets = (len(setp1), len(setp2), len(setp3)), set_labels = (\"Tomato\", \"Potato\"))\n",
    "plt.show()\n"
   ]
  },
  {
   "cell_type": "markdown",
   "metadata": {},
   "source": [
    "## Only in Potato interval"
   ]
  },
  {
   "cell_type": "code",
   "execution_count": 15,
   "metadata": {},
   "outputs": [
    {
     "name": "stdout",
     "output_type": "stream",
     "text": [
      "Solyc01g066890.1\n",
      "Solyc10g075120.1\n",
      "Solyc07g041360.1\n"
     ]
    }
   ],
   "source": [
    "print(*setp1, sep = \"\\n\")"
   ]
  },
  {
   "cell_type": "code",
   "execution_count": 16,
   "metadata": {},
   "outputs": [
    {
     "name": "stdout",
     "output_type": "stream",
     "text": [
      "peroxidase activity\n",
      "response to oxidative stress\n",
      "heme binding\n"
     ]
    }
   ],
   "source": [
    "termp1 = search.gene_annotations(setp1)[\"term\"].dropna().unique()\n",
    "print(*termp1, sep = \"\\n\")"
   ]
  },
  {
   "cell_type": "markdown",
   "metadata": {},
   "source": [
    "## Inside both tomatoes and Potatoes"
   ]
  },
  {
   "cell_type": "code",
   "execution_count": 17,
   "metadata": {},
   "outputs": [
    {
     "name": "stdout",
     "output_type": "stream",
     "text": [
      "Solyc10g076200.1\n",
      "Solyc10g076210.1\n",
      "Solyc10g076220.1\n",
      "Solyc10g076230.1\n"
     ]
    }
   ],
   "source": [
    "print(*setp3, sep = \"\\n\")"
   ]
  },
  {
   "cell_type": "code",
   "execution_count": 18,
   "metadata": {
    "scrolled": true
   },
   "outputs": [
    {
     "name": "stdout",
     "output_type": "stream",
     "text": [
      "peroxidase activity\n",
      "extracellular region\n",
      "lipid transport\n",
      "response to oxidative stress\n",
      "lipid binding\n",
      "metal ion binding\n",
      "heme binding\n",
      "hydrogen peroxide catabolic process\n"
     ]
    }
   ],
   "source": [
    "termp3 = search.gene_annotations(setp3)[\"term\"].dropna().unique()\n",
    "print(*termp3, sep = \"\\n\")"
   ]
  },
  {
   "cell_type": "markdown",
   "metadata": {},
   "source": [
    "## Only in tomato interval"
   ]
  },
  {
   "cell_type": "code",
   "execution_count": 19,
   "metadata": {},
   "outputs": [
    {
     "name": "stdout",
     "output_type": "stream",
     "text": [
      "Solyc10g076190.1\n",
      "Solyc10g076180.1\n",
      "Solyc10g076170.1\n"
     ]
    }
   ],
   "source": [
    "print(*setp2, sep = \"\\n\")"
   ]
  },
  {
   "cell_type": "code",
   "execution_count": 20,
   "metadata": {},
   "outputs": [
    {
     "name": "stdout",
     "output_type": "stream",
     "text": [
      "DNA binding\n",
      "peroxidase activity\n",
      "extracellular region\n",
      "response to oxidative stress\n",
      "negative regulation of transcription, DNA-templated\n",
      "metal ion binding\n",
      "heme binding\n",
      "hydrogen peroxide catabolic process\n"
     ]
    }
   ],
   "source": [
    "termp2 = search.gene_annotations(setp2)[\"term\"].dropna().unique()\n",
    "print(*termp2, sep = \"\\n\")"
   ]
  },
  {
   "cell_type": "markdown",
   "metadata": {},
   "source": [
    "## Exploring the Annotations of Gene *Solyc10g076180.1*"
   ]
  },
  {
   "cell_type": "markdown",
   "metadata": {},
   "source": [
    "- GO Annotation\n",
    "- PPI \n",
    "- STRING\n",
    "- KEGG\n",
    "- ALL Orthologs\n",
    "- Species with no Orthologs"
   ]
  },
  {
   "cell_type": "code",
   "execution_count": null,
   "metadata": {},
   "outputs": [],
   "source": []
  }
 ],
 "metadata": {
  "kernelspec": {
   "display_name": "Python 3",
   "language": "python",
   "name": "python3"
  },
  "language_info": {
   "codemirror_mode": {
    "name": "ipython",
    "version": 3
   },
   "file_extension": ".py",
   "mimetype": "text/x-python",
   "name": "python",
   "nbconvert_exporter": "python",
   "pygments_lexer": "ipython3",
   "version": "3.7.1"
  }
 },
 "nbformat": 4,
 "nbformat_minor": 2
}

{
 "cells": [
  {
   "cell_type": "markdown",
   "metadata": {},
   "source": [
    "# Compare QTLs for tomato fruit shape and potato tuber shape\n",
    "\n",
    "## Background\n",
    "\n",
    "Tomato fruits have a round shape while the potato tubers have an elongated shape. The candidate gene _Solyc10g076180_ ( _SlOFP20_ , a member of the OVATE family) on the chromosome 10 of the reference tomato genome (Heinz 1706) is responsible for round fruits. However, this gene does not have an ortholog in the reference potato genome (DM), which results in elongated tuber (<a href=\"https://dx.doi.org/10.1038%2Fs41467-018-07216-8\">Wu et al., 2018</a>). This notebook uses the <a href=\"http://grlc.io/\">grlc</a>-based Web API of the <a href=\"https://doi.org/10.5281/zenodo.1458168\">pbg-ld</a> platform to map QTL regions for the traits in both tomato and potato as well as to retrieve annotations for the genes in the QTLs."
   ]
  },
  {
   "cell_type": "code",
   "execution_count": 1,
   "metadata": {
    "scrolled": true
   },
   "outputs": [],
   "source": [
    "import io\n",
    "import requests\n",
    "import ipywidgets\n",
    "import pandas as pd\n",
    "import numpy as np\n",
    "import networkx as nx\n",
    "import matplotlib.pyplot as plt\n",
    "\n",
    "try:\n",
    "    from networkx.drawing.nx_pydot import graphviz_layout\n",
    "except ImportError:\n",
    "    raise ImportError(\"This example needs Graphviz and either PyGraphviz or Pydot\")\n",
    "\n",
    "from ipywidgets import interactive"
   ]
  },
  {
   "cell_type": "code",
   "execution_count": 2,
   "metadata": {
    "scrolled": true
   },
   "outputs": [],
   "source": [
    "# display-related options\n",
    "pd.set_option('display.max_rows', 300)\n",
    "pd.set_option('display.max_colwidth', -1)\n",
    "pd.set_option('display.width', 0)"
   ]
  },
  {
   "cell_type": "code",
   "execution_count": 3,
   "metadata": {},
   "outputs": [],
   "source": [
    "# output files\n",
    "outfiles = {'paralogs': 'paralogs.csv',\n",
    "            'orthologs': 'orthologs.csv',\n",
    "            'genes_annot': 'genes_annot.csv',\n",
    "            'homologs_annot': 'homologs_annot.csv'}"
   ]
  },
  {
   "cell_type": "code",
   "execution_count": 4,
   "metadata": {
    "scrolled": true
   },
   "outputs": [],
   "source": [
    "# Web API\n",
    "base_url = None\n",
    "hosts = {'remote': 'http://pbg-ld.candygene-nlesc.surf-hosted.nl:8088/api/candYgene/queries',\n",
    "         'local': 'http://localhost:8088/api/local/local'}\n",
    "headers = {'accept': 'text/csv'} # request content in CSV"
   ]
  },
  {
   "cell_type": "code",
   "execution_count": 5,
   "metadata": {},
   "outputs": [],
   "source": [
    "# create a widget with a drop-down list of hosts\n",
    "def setWebAPI(host):\n",
    "    print(host)\n",
    "    return host\n",
    "w = interactive(setWebAPI, host=hosts)"
   ]
  },
  {
   "cell_type": "code",
   "execution_count": 6,
   "metadata": {
    "scrolled": true
   },
   "outputs": [
    {
     "data": {
      "application/vnd.jupyter.widget-view+json": {
       "model_id": "59fa9e383a504eb29598fba1471a5fb1",
       "version_major": 2,
       "version_minor": 0
      },
      "text/plain": [
       "interactive(children=(Dropdown(description='host', options={'remote': 'http://pbg-ld.candygene-nlesc.surf-host…"
      ]
     },
     "metadata": {},
     "output_type": "display_data"
    }
   ],
   "source": [
    "display(w) # default host 'remote'"
   ]
  },
  {
   "cell_type": "code",
   "execution_count": null,
   "metadata": {},
   "outputs": [],
   "source": [
    "base_url = w.result\n",
    "#print(base_url)"
   ]
  },
  {
   "cell_type": "markdown",
   "metadata": {},
   "source": [
    "## Input genes"
   ]
  },
  {
   "cell_type": "code",
   "execution_count": null,
   "metadata": {
    "scrolled": true
   },
   "outputs": [],
   "source": [
    "# tomato genes upstream/downstream of the candidate gene on chromosome 10\n",
    "input_data = dict(tomato=dict(genes=['Solyc10g075170.1', 'Solyc10g076240.1'],\n",
    "                              taxon_id=4081,\n",
    "                              graph_iri='http://solgenomics.net/genome/Solanum_lycopersicum'))"
   ]
  },
  {
   "cell_type": "code",
   "execution_count": null,
   "metadata": {
    "scrolled": true
   },
   "outputs": [],
   "source": [
    "# retrieve genomic locations for the genes\n",
    "genes = pd.DataFrame()\n",
    "for g in input_data['tomato']['genes']:\n",
    "    try:\n",
    "        if g is not None:\n",
    "            with requests.get(base_url + '/getFeatureLocation',\n",
    "                              params = {'featureid': \"'%s'\" % g},\n",
    "                              headers = headers) as req:\n",
    "                genes = genes.append(pd.read_csv(io.StringIO(req.text)), ignore_index=True)\n",
    "    except:\n",
    "        print('Failed to connect to the Web API!')\n",
    "        break"
   ]
  },
  {
   "cell_type": "code",
   "execution_count": null,
   "metadata": {
    "scrolled": true
   },
   "outputs": [],
   "source": [
    "display(genes)"
   ]
  },
  {
   "cell_type": "code",
   "execution_count": null,
   "metadata": {
    "scrolled": true
   },
   "outputs": [],
   "source": [
    "# compute the QTL interval given the start/end positions of the genes\n",
    "pos = pd.concat([genes['begin_pos'], genes['end_pos']]).describe()\n",
    "qtl_inter = dict(chrom=genes['chrom'].unique()[0],\n",
    "                 taxon_id=int(genes['taxon_id'].unique()[0]),\n",
    "                 begin=int(pos['min']),\n",
    "                 end=int(pos['max']))"
   ]
  },
  {
   "cell_type": "code",
   "execution_count": null,
   "metadata": {
    "scrolled": true
   },
   "outputs": [],
   "source": [
    "display(qtl_inter)"
   ]
  },
  {
   "cell_type": "code",
   "execution_count": null,
   "metadata": {
    "scrolled": true
   },
   "outputs": [],
   "source": [
    "# retrieve all genes in the genomic interval\n",
    "genes_inter = pd.DataFrame()\n",
    "params = {'feature': 'protein_coding_gene',\n",
    "          'chrom': qtl_inter['chrom'],\n",
    "          'graph': input_data['tomato']['graph_iri'],\n",
    "          'begin': qtl_inter['begin'],\n",
    "          'end': qtl_inter['end']}\n",
    "try:\n",
    "    with requests.get(base_url + '/getFeaturesInInterval',\n",
    "                      params=params,\n",
    "                      headers=headers) as req:\n",
    "        genes_inter = pd.read_csv(io.StringIO(req.text))\n",
    "except:\n",
    "    print('Failed to connect to the Web API!')"
   ]
  },
  {
   "cell_type": "code",
   "execution_count": null,
   "metadata": {
    "scrolled": true
   },
   "outputs": [],
   "source": [
    "display(genes_inter.sort_values(['chrom', 'begin_pos']))"
   ]
  },
  {
   "cell_type": "markdown",
   "metadata": {},
   "source": [
    "## Paralogs"
   ]
  },
  {
   "cell_type": "code",
   "execution_count": null,
   "metadata": {
    "scrolled": true
   },
   "outputs": [],
   "source": [
    "# for each tomato gene retrieve its paralog(s)\n",
    "rows = []\n",
    "for index, g in genes_inter.iterrows():\n",
    "    try:\n",
    "        with requests.get(base_url + '/getParalogs',\n",
    "                          params={'geneid': \"'%s'\" % g['feature_id']},\n",
    "                          headers=headers) as req:\n",
    "            df = pd.read_csv(io.StringIO(req.text))\n",
    "            if df.size == 0:\n",
    "                rows.append([g['feature_id'], g['chrom'], g['begin_pos'], g['end_pos'],\n",
    "                             None, None, None, None]) # if paralog not found\n",
    "                continue\n",
    "            for index, j in df.iterrows():\n",
    "                with requests.get(base_url + '/getFeatureLocation',\n",
    "                    params={'featureid': \"'%s'\" % j['paralog_id']},\n",
    "                    headers=headers) as req:\n",
    "                    for index, o in pd.read_csv(io.StringIO(req.text)).iterrows():\n",
    "                        rows.append([g['feature_id'], g['chrom'], g['begin_pos'], g['end_pos'],\n",
    "                                     o['feature_id'], o['chrom'], o['begin_pos'], o['end_pos']])\n",
    "  \n",
    "    except:\n",
    "        print('Failed to connect to the Web API!')\n",
    "        break"
   ]
  },
  {
   "cell_type": "code",
   "execution_count": null,
   "metadata": {
    "scrolled": false
   },
   "outputs": [],
   "source": [
    "# create a dataframe from the query results\n",
    "cols = ['gene_id', 'chrom', 'begin', 'end', 'para_id', 'para_chrom', 'para_begin', 'para_end']\n",
    "paralogs = pd.DataFrame(rows, columns=cols)\n",
    "paralogs['para_begin'] = paralogs['para_begin'].fillna(-1)\n",
    "paralogs['para_end'] = paralogs['para_end'].fillna(-1)\n",
    "paralogs['para_begin'] = paralogs['para_begin'].astype(np.int64)\n",
    "paralogs['para_end'] = paralogs['para_end'].astype(np.int64)\n",
    "paralogs = paralogs.replace([-1], [None])\\\n",
    "                   .sort_values(['gene_id', 'para_chrom', 'para_begin'])"
   ]
  },
  {
   "cell_type": "code",
   "execution_count": null,
   "metadata": {
    "scrolled": true
   },
   "outputs": [],
   "source": [
    "display(paralogs)"
   ]
  },
  {
   "cell_type": "code",
   "execution_count": null,
   "metadata": {},
   "outputs": [],
   "source": [
    "# write results into a CSV file\n",
    "paralogs.set_index('gene_id').to_csv(outfiles['paralogs'])"
   ]
  },
  {
   "cell_type": "code",
   "execution_count": null,
   "metadata": {
    "scrolled": true
   },
   "outputs": [],
   "source": [
    "# count paralogs per gene\n",
    "display(paralogs.groupby(['gene_id'])['para_id']\n",
    "        .agg(['count'])\n",
    "        .sort_values(['count'], ascending=False)\n",
    "        .rename(columns={'count':'n_paralogs'})\n",
    "        .reset_index())"
   ]
  },
  {
   "cell_type": "markdown",
   "metadata": {},
   "source": [
    "### Note: The gene _Solyc10g076170_ does not have a paralog in tomato."
   ]
  },
  {
   "cell_type": "code",
   "execution_count": null,
   "metadata": {
    "scrolled": false
   },
   "outputs": [],
   "source": [
    "# create a new dataframe with all genes in the interval including their paralogs\n",
    "genes = paralogs[['para_id', 'para_chrom', 'para_begin', 'para_end']]\\\n",
    "        .query('para_id.notnull()')\\\n",
    "        .rename(columns=dict(para_id='gene_id', para_chrom='chrom', para_begin='begin', para_end='end'))\n",
    "genes = genes.append(paralogs[['gene_id', 'chrom', 'begin', 'end']]).drop_duplicates()"
   ]
  },
  {
   "cell_type": "code",
   "execution_count": null,
   "metadata": {
    "scrolled": true
   },
   "outputs": [],
   "source": [
    "display(genes.sort_values(['gene_id', 'chrom', 'begin']).reset_index(drop=True))"
   ]
  },
  {
   "cell_type": "markdown",
   "metadata": {},
   "source": [
    "## Orthologs"
   ]
  },
  {
   "cell_type": "code",
   "execution_count": null,
   "metadata": {
    "scrolled": true
   },
   "outputs": [],
   "source": [
    "# for each tomato gene retrieve its ortholog(s) in potato\n",
    "rows = []\n",
    "for index, g in genes.iterrows():\n",
    "    try:\n",
    "        with requests.get(base_url + '/getOrthologs',\n",
    "                          params={'geneid': \"'%s'\" % g['gene_id']},\n",
    "                          headers=headers) as req:\n",
    "            df = pd.read_csv(io.StringIO(req.text))\n",
    "            if df.size == 0:\n",
    "                rows.append([g['gene_id'], g['chrom'], g['begin'], g['end'],\n",
    "                             None, None, None, None]) # if ortholog not found\n",
    "                continue\n",
    "            for index, j in df.iterrows():\n",
    "                with requests.get(base_url + '/getFeatureLocation',\n",
    "                    params={'featureid': \"'%s'\" % j['ortholog_id']},\n",
    "                    headers=headers) as req:\n",
    "                    for index, o in pd.read_csv(io.StringIO(req.text)).iterrows():\n",
    "                        rows.append([g['gene_id'], g['chrom'], g['begin'], g['end'],\n",
    "                                     o['feature_id'], o['chrom'], o['begin_pos'], o['end_pos']])  \n",
    "    except:\n",
    "        print('Failed to connect to the Web API!')\n",
    "        break"
   ]
  },
  {
   "cell_type": "code",
   "execution_count": null,
   "metadata": {
    "scrolled": false
   },
   "outputs": [],
   "source": [
    "# create a dataframe from the query results\n",
    "cols = ['gene_id', 'chrom', 'begin', 'end', 'ortho_id', 'ortho_chrom', 'ortho_begin', 'ortho_end']\n",
    "orthologs = pd.DataFrame(rows, columns=cols)\n",
    "orthologs['ortho_begin'] = orthologs['ortho_begin'].fillna(-1)\n",
    "orthologs['ortho_end'] = orthologs['ortho_end'].fillna(-1)\n",
    "orthologs['ortho_begin'] = orthologs['ortho_begin'].astype(np.int64)\n",
    "orthologs['ortho_end'] = orthologs['ortho_end'].astype(np.int64)\n",
    "orthologs = orthologs.replace([-1], [None]).sort_values(['gene_id', 'ortho_chrom', 'ortho_begin'])"
   ]
  },
  {
   "cell_type": "code",
   "execution_count": null,
   "metadata": {
    "scrolled": true
   },
   "outputs": [],
   "source": [
    "display(orthologs.reset_index(drop=True))"
   ]
  },
  {
   "cell_type": "code",
   "execution_count": null,
   "metadata": {},
   "outputs": [],
   "source": [
    "# write results into a CSV file\n",
    "orthologs.set_index('gene_id').to_csv(outfiles['orthologs'])"
   ]
  },
  {
   "cell_type": "code",
   "execution_count": null,
   "metadata": {
    "scrolled": true
   },
   "outputs": [],
   "source": [
    "# count orthologs per gene\n",
    "display(orthologs.groupby(['gene_id'])['ortho_id']\n",
    "        .agg(['count'])\n",
    "        .sort_values(['count'], ascending=False)\n",
    "        .rename(columns={'count':'n_orthologs'})\n",
    "        .reset_index())"
   ]
  },
  {
   "cell_type": "markdown",
   "metadata": {},
   "source": [
    "### Note: Some tomato genes on chromosome 10, including the genes _Solyc10g076170_ and _Solyc10g076240_ surrounding the candidate gene  _Solyc10g076180_ , do not have an ortholog in potato."
   ]
  },
  {
   "cell_type": "markdown",
   "metadata": {},
   "source": [
    "## Gene annotations"
   ]
  },
  {
   "cell_type": "code",
   "execution_count": null,
   "metadata": {
    "scrolled": true
   },
   "outputs": [],
   "source": [
    "# append potato orthologs to the tomato gene set (dataframe)\n",
    "genes = genes.append(orthologs[['ortho_id', 'ortho_chrom', 'ortho_begin', 'ortho_end']]\\\n",
    "                     .query('ortho_id.notnull()')\\\n",
    "                     .rename(columns=dict(ortho_id='gene_id', ortho_chrom='chrom', ortho_begin='begin', ortho_end='end')))"
   ]
  },
  {
   "cell_type": "code",
   "execution_count": null,
   "metadata": {
    "scrolled": true
   },
   "outputs": [],
   "source": [
    "# for each gene retrieve annotations from SGN, Ensembl Plants and UniProt/GOA\n",
    "rows = []\n",
    "for index, g in genes.iterrows():\n",
    "    try:\n",
    "        with requests.get(base_url + '/getGeneAnnotations',\n",
    "                          params={'geneid': \"'%s'\" % g['gene_id']},\n",
    "                          headers=headers) as req:\n",
    "            df = pd.read_csv(io.StringIO(req.text))\n",
    "            if df.size == 0:\n",
    "                rows.append([g['gene_id'], g['chrom'], g['begin'], g['end'],\n",
    "                             None, None, None, None, None, None, None]) # if annotations not found\n",
    "                continue\n",
    "            for index, h in df.iterrows():\n",
    "                rows.append([g['gene_id'], g['chrom'], g['begin'], g['end'],\n",
    "                             h['gene_name'], h['transcript_id'], h['uniprot_acc'], h['uniprot_reviewed'],\n",
    "                             h['uniprot_des'], h['uniprot_goa'], h['sgn_des']])\n",
    "    except:\n",
    "        print('Failed to connect to the Web API!')\n",
    "        break"
   ]
  },
  {
   "cell_type": "code",
   "execution_count": null,
   "metadata": {
    "scrolled": true
   },
   "outputs": [],
   "source": [
    "# create a dataframe from the query results\n",
    "cols = ['gene_id', 'chrom', 'begin', 'end', 'gene_name', 'transcript_id', 'uniprot_acc', 'uniprot_reviewed', 'uniprot_des', 'uniprot_goa', 'sgn_des']\n",
    "genes_annot = pd.DataFrame(rows, columns=cols).sort_values(['gene_id', 'chrom', 'begin'])"
   ]
  },
  {
   "cell_type": "code",
   "execution_count": null,
   "metadata": {},
   "outputs": [],
   "source": [
    "display(genes_annot.reset_index(drop=True))"
   ]
  },
  {
   "cell_type": "code",
   "execution_count": null,
   "metadata": {},
   "outputs": [],
   "source": [
    "# write results into a CSV file\n",
    "genes_annot.set_index('gene_id').to_csv(outfiles['genes_annot'])"
   ]
  },
  {
   "cell_type": "markdown",
   "metadata": {},
   "source": [
    "## Visualize _Solyc10g0761_ homologs and their relationships in a graph"
   ]
  },
  {
   "cell_type": "code",
   "execution_count": null,
   "metadata": {
    "scrolled": false
   },
   "outputs": [],
   "source": [
    "# get the initial set of paralogous relations of the tomato gene\n",
    "gene_id = 'Solyc10g076180.1'\n",
    "edges_para = paralogs.query(\"gene_id == @gene_id\")[['gene_id', 'para_id']]\n",
    "display(edges_para.reset_index(drop=True))"
   ]
  },
  {
   "cell_type": "code",
   "execution_count": null,
   "metadata": {},
   "outputs": [],
   "source": [
    "# get orthologous relations of the tomato genes (homologs)\n",
    "gene_ids = set([gene_id]) | set(edges_para['para_id'])\n",
    "edges_ortho = orthologs.query('gene_id in @gene_ids')[['gene_id', 'ortho_id']]\n",
    "display(edges_ortho.reset_index(drop=True))"
   ]
  },
  {
   "cell_type": "code",
   "execution_count": null,
   "metadata": {},
   "outputs": [],
   "source": [
    "# get an extended set of paralogous relations of the tomato/potato genes\n",
    "gene_ids |= set(edges_ortho['ortho_id']) - set([None])\n",
    "for g in gene_ids:\n",
    "    try:\n",
    "        with requests.get(base_url + '/getParalogs',\n",
    "                          params={'geneid': \"'%s'\" % g},\n",
    "                          headers=headers) as req:\n",
    "            df = pd.read_csv(io.StringIO(req.text)).rename(columns={'paralog_id': 'para_id'})\n",
    "            if df.size == 0:\n",
    "                edges_para = edges_para.append({'gene_id': g, 'para_id': None}, ignore_index=True)\n",
    "            else:\n",
    "                edges_para = edges_para.append(df)\n",
    "    except:\n",
    "        print('Failed to connect to the Web API!')\n",
    "        break"
   ]
  },
  {
   "cell_type": "code",
   "execution_count": null,
   "metadata": {},
   "outputs": [],
   "source": [
    "display(edges_para.sort_values(['gene_id']).reset_index(drop=True))"
   ]
  },
  {
   "cell_type": "code",
   "execution_count": null,
   "metadata": {
    "scrolled": false
   },
   "outputs": [],
   "source": [
    "# plot a graph of tomato/potato genes (nodes) and ortho/paralogous relations (edges)\n",
    "G = nx.Graph()\n",
    "edges_ortho = edges_ortho.query('ortho_id.notnull()')\n",
    "G.add_edges_from(edges_para.values, style='-')  # add paralogous relations (solid edges)\n",
    "G.add_edges_from(edges_ortho.values, style='-.') # add orthologous relations (dotted edges)\n",
    "style_map = [G[u][v]['style'] for u,v in G.edges()]\n",
    "color_map = []\n",
    "for i,n in enumerate(G.nodes()):\n",
    "    if 'Solyc' in n:\n",
    "        color_map.append('r') # tomato genes in red\n",
    "    else:\n",
    "        color_map.append('y') # potato genes in yellow\n",
    "pos = graphviz_layout(G, prog='neato')\n",
    "plt.margins(0.2, 0.05)\n",
    "nx.draw(G, pos, node_size=100, node_color=color_map, style=style_map, width=0.2, font_size=4, with_labels=True)\n",
    "plt.savefig('homologs_graph.svg')"
   ]
  },
  {
   "cell_type": "code",
   "execution_count": null,
   "metadata": {},
   "outputs": [],
   "source": [
    "# show genes annotations for the graph nodes\n",
    "homologs_annot = genes_annot.query('gene_id in @gene_ids').sort_values(['gene_id', 'chrom', 'begin'])\n",
    "display(homologs_annot.reset_index(drop=True))"
   ]
  },
  {
   "cell_type": "code",
   "execution_count": null,
   "metadata": {},
   "outputs": [],
   "source": [
    "# write results into a CSV file\n",
    "homologs_annot.set_index('gene_id').to_csv(outfiles['homologs_annot'])"
   ]
  }
 ],
 "metadata": {
  "kernelspec": {
   "display_name": "Python 3",
   "language": "python",
   "name": "python3"
  },
  "language_info": {
   "codemirror_mode": {
    "name": "ipython",
    "version": 3
   },
   "file_extension": ".py",
   "mimetype": "text/x-python",
   "name": "python",
   "nbconvert_exporter": "python",
   "pygments_lexer": "ipython3",
   "version": "3.7.3"
  }
 },
 "nbformat": 4,
 "nbformat_minor": 2
}
